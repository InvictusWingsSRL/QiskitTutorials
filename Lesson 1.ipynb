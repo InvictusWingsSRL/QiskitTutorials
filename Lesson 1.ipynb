{
 "cells": [
  {
   "cell_type": "code",
   "execution_count": 1,
   "id": "48fae799-ffaf-40a4-85bd-18d6f8805678",
   "metadata": {
    "tags": []
   },
   "outputs": [],
   "source": [
    "#Libraries needed to implement and simulate quantum circuits\n",
    "from qiskit import QuantumRegister, ClassicalRegister, QuantumCircuit, transpile\n",
    "from qiskit_aer import Aer\n",
    "from qiskit.primitives import BackendSampler\n",
    "#from qiskit.providers.aer import Aer, execute \n",
    "#Custem functions to simplify answers\n",
    "import Our_Qiskit_Functions as oq #a part of the library presented in arXiv:1903.04359v1.\n",
    "\n",
    "import numpy as np\n",
    "import math as m\n",
    "\n",
    "#Initialize backends simulators to visualize circuits\n",
    "S_simulator = Aer.backends(name='statevector_simulator')[0]\n",
    "Q_simulator = Aer.backends(name='qasm_simulator')[0]"
   ]
  },
  {
   "cell_type": "code",
   "execution_count": 2,
   "id": "7aafad51-b57e-4a80-8822-410b5dc41b3f",
   "metadata": {
    "tags": []
   },
   "outputs": [
    {
     "name": "stdout",
     "output_type": "stream",
     "text": [
      "job = AerJob class:  <class 'qiskit_aer.jobs.aerjob.AerJob'>\n",
      "result = Result class:  <class 'qiskit.result.result.Result'>\n",
      "Statevector([1.+0.j, 0.+0.j],\n",
      "            dims=(2,))\n"
     ]
    }
   ],
   "source": [
    "q = QuantumRegister(1)\n",
    "hello_qubit = QuantumCircuit(q)\n",
    "\n",
    "hello_qubit.id(q[0])\n",
    "\n",
    "#job = execute(hello_qubit, S_simulator)\n",
    "new_circuit = transpile(hello_qubit, S_simulator)\n",
    "job = S_simulator.run(new_circuit)\n",
    "\n",
    "\n",
    "print('job = AerJob class: ', type(job))\n",
    "result = job.result()\n",
    "print('result = Result class: ',type(result))\n",
    "result.get_statevector()"
   ]
  },
  {
   "cell_type": "code",
   "execution_count": 3,
   "id": "a743af01-f040-4801-9a59-cc23671d2e42",
   "metadata": {
    "tags": []
   },
   "outputs": [
    {
     "name": "stdout",
     "output_type": "stream",
     "text": [
      "simulator:  StatevectorSimulator('statevector_simulator')\n",
      "simulator type:  <class 'qiskit_aer.backends.statevector_simulator.StatevectorSimulator'>\n",
      "Aer.get_backend(name=statevector_simulator):  StatevectorSimulator('statevector_simulator')\n",
      "backend type:  <class 'qiskit_aer.backends.statevector_simulator.StatevectorSimulator'>\n"
     ]
    }
   ],
   "source": [
    "print('simulator: ', S_simulator)\n",
    "print('simulator type: ', type(S_simulator))\n",
    "print('Aer.get_backend(name=statevector_simulator): ', Aer.get_backend(name='statevector_simulator'))\n",
    "print('backend type: ', type(Aer.get_backend(name='statevector_simulator')))"
   ]
  },
  {
   "cell_type": "code",
   "execution_count": 4,
   "id": "0e3e0dcf-7d19-42dc-9c18-6b6ddd804e74",
   "metadata": {
    "tags": []
   },
   "outputs": [
    {
     "name": "stdout",
     "output_type": "stream",
     "text": [
      "Statevector([1.+0.j, 0.+0.j, 0.+0.j, 0.+0.j, 0.+0.j, 0.+0.j, 0.+0.j,\n",
      "             0.+0.j],\n",
      "            dims=(2, 2, 2))\n"
     ]
    }
   ],
   "source": [
    "q = QuantumRegister(3)\n",
    "three_qubits = QuantumCircuit(q)\n",
    "\n",
    "three_qubits.id(q[0])\n",
    "three_qubits.id(q[1])\n",
    "three_qubits.id(q[2])\n",
    "\n",
    "job = oq.execute(three_qubits, S_simulator)\n",
    "result = job.result()\n",
    "result.get_statevector()"
   ]
  },
  {
   "cell_type": "code",
   "execution_count": 5,
   "id": "9c885033-281b-471b-bf74-f00d69150a5e",
   "metadata": {
    "tags": []
   },
   "outputs": [
    {
     "name": "stdout",
     "output_type": "stream",
     "text": [
      "Statevector([0.+0.j, 1.+0.j, 0.+0.j, 0.+0.j, 0.+0.j, 0.+0.j, 0.+0.j,\n",
      "             0.+0.j],\n",
      "            dims=(2, 2, 2))\n"
     ]
    }
   ],
   "source": [
    "q = QuantumRegister(3)\n",
    "three_qubits = QuantumCircuit(q)\n",
    "\n",
    "three_qubits.x(q[0])\n",
    "three_qubits.id(q[1])\n",
    "three_qubits.id(q[2])\n",
    "\n",
    "job = oq.execute(three_qubits, S_simulator)\n",
    "result = job.result()\n",
    "result.get_statevector()"
   ]
  },
  {
   "cell_type": "code",
   "execution_count": 6,
   "id": "c1111220-acab-40d6-bfbe-3ad9248ffdcc",
   "metadata": {
    "tags": []
   },
   "outputs": [
    {
     "name": "stdout",
     "output_type": "stream",
     "text": [
      "1.0  |100>   \n"
     ]
    },
    {
     "data": {
      "text/plain": [
       "'1.0  |100>   '"
      ]
     },
     "execution_count": 6,
     "metadata": {},
     "output_type": "execute_result"
    }
   ],
   "source": [
    "oq.Wavefunction(three_qubits)"
   ]
  },
  {
   "cell_type": "code",
   "execution_count": 7,
   "id": "f34218bf-168f-46a2-856c-518dbdd0fe56",
   "metadata": {
    "tags": []
   },
   "outputs": [
    {
     "name": "stdout",
     "output_type": "stream",
     "text": [
      "0.5  |00>   0.5  |10>   0.5  |01>   0.5  |11>   \n"
     ]
    },
    {
     "data": {
      "text/plain": [
       "'0.5  |00>   0.5  |10>   0.5  |01>   0.5  |11>   '"
      ]
     },
     "execution_count": 7,
     "metadata": {},
     "output_type": "execute_result"
    }
   ],
   "source": [
    "q = QuantumRegister(2)\n",
    "H_circuit = QuantumCircuit(q)\n",
    "\n",
    "H_circuit.h(q[0])\n",
    "H_circuit.h(q[1])\n",
    "\n",
    "oq.Wavefunction(H_circuit)"
   ]
  },
  {
   "cell_type": "code",
   "execution_count": 8,
   "id": "97a25992-cb4a-46cd-b65d-a43478ad6317",
   "metadata": {
    "tags": []
   },
   "outputs": [
    {
     "name": "stdout",
     "output_type": "stream",
     "text": [
      "0.70711  |00>   0.70711  |10>   \n"
     ]
    },
    {
     "data": {
      "text/plain": [
       "'0.70711  |00>   0.70711  |10>   '"
      ]
     },
     "execution_count": 8,
     "metadata": {},
     "output_type": "execute_result"
    }
   ],
   "source": [
    "q = QuantumRegister(2)\n",
    "H_circuit = QuantumCircuit(q)\n",
    "\n",
    "H_circuit.h(q[0])\n",
    "H_circuit.id(q[1])\n",
    "\n",
    "oq.Wavefunction(H_circuit)"
   ]
  },
  {
   "cell_type": "code",
   "execution_count": 9,
   "id": "338f676c-4d87-4171-8c55-e2d580087cf4",
   "metadata": {
    "tags": []
   },
   "outputs": [
    {
     "data": {
      "text/plain": [
       "{'1': 493, '0': 531}"
      ]
     },
     "execution_count": 9,
     "metadata": {},
     "output_type": "execute_result"
    }
   ],
   "source": [
    "from qiskit import ClassicalRegister\n",
    "M_simulator = Aer.backends(name='qasm_simulator')[0]\n",
    "\n",
    "q = QuantumRegister(1)\n",
    "c = ClassicalRegister(1)\n",
    "qc = QuantumCircuit(q, c)\n",
    "\n",
    "qc.h(q[0])\n",
    "qc.measure(q, c)\n",
    "\n",
    "job = oq.execute(qc, M_simulator)\n",
    "result = job.result()\n",
    "result.get_counts(qc)"
   ]
  },
  {
   "cell_type": "code",
   "execution_count": 10,
   "id": "cc813c20-5c69-4774-a233-81c4a6e0c631",
   "metadata": {
    "tags": []
   },
   "outputs": [
    {
     "name": "stdout",
     "output_type": "stream",
     "text": [
      "Dictionary entry 0:  58\n",
      "Dictionary entry 1:  42\n"
     ]
    }
   ],
   "source": [
    "q = QuantumRegister(1)\n",
    "c = ClassicalRegister(1)\n",
    "qc = QuantumCircuit(q, c)\n",
    "\n",
    "qc.h(q[0])\n",
    "qc.measure(q, c)\n",
    "\n",
    "M = oq.execute(qc, M_simulator, shots = 100).result().get_counts(qc)\n",
    "\n",
    "print('Dictionary entry 0: ', M['0'])\n",
    "print('Dictionary entry 1: ', M['1'])"
   ]
  },
  {
   "cell_type": "code",
   "execution_count": 11,
   "id": "f9732466-62ee-4674-a33f-3f44fbdee58a",
   "metadata": {
    "tags": []
   },
   "outputs": [
    {
     "name": "stdout",
     "output_type": "stream",
     "text": [
      "{'00': 244, '01': 264, '10': 242, '11': 274}\n"
     ]
    }
   ],
   "source": [
    "q = QuantumRegister(2)\n",
    "c = ClassicalRegister(2)\n",
    "qc = QuantumCircuit(q, c)\n",
    "\n",
    "qc.h(q[0])\n",
    "qc.h(q[1])\n",
    "qc.measure(q, c)\n",
    "\n",
    "M = oq.execute(qc, M_simulator).result().get_counts(qc)\n",
    "print(M)"
   ]
  },
  {
   "cell_type": "code",
   "execution_count": 12,
   "id": "50b7feac-ab13-4ba9-8c6b-132002b7b183",
   "metadata": {
    "tags": []
   },
   "outputs": [
    {
     "name": "stdout",
     "output_type": "stream",
     "text": [
      "{'01': 493, '00': 531}\n"
     ]
    }
   ],
   "source": [
    "q = QuantumRegister(2)\n",
    "c = ClassicalRegister(2)\n",
    "qc = QuantumCircuit(q, c)\n",
    "\n",
    "qc.h(q[0])\n",
    "qc.h(q[1])\n",
    "qc.measure(q[0], c[0])\n",
    "\n",
    "M = oq.execute(qc, M_simulator).result().get_counts(qc)\n",
    "print(M)"
   ]
  },
  {
   "cell_type": "code",
   "execution_count": 13,
   "id": "406179cd-fbb6-4a4a-a4b8-fa42c8854eb4",
   "metadata": {
    "tags": []
   },
   "outputs": [
    {
     "name": "stdout",
     "output_type": "stream",
     "text": [
      "{'10': 1024}\n"
     ]
    }
   ],
   "source": [
    "q = QuantumRegister(2)\n",
    "c = ClassicalRegister(2)\n",
    "qc = QuantumCircuit(q, c)\n",
    "\n",
    "qc.id(q[0])\n",
    "qc.x(q[1])\n",
    "qc.measure(q, c)\n",
    "\n",
    "M = oq.execute(qc, M_simulator).result().get_counts(qc)\n",
    "print(M)"
   ]
  },
  {
   "cell_type": "code",
   "execution_count": 14,
   "id": "efba4736-58e8-4de5-bf99-2446aaf00689",
   "metadata": {
    "tags": []
   },
   "outputs": [
    {
     "name": "stdout",
     "output_type": "stream",
     "text": [
      "1.0  |01>   \n"
     ]
    },
    {
     "data": {
      "text/plain": [
       "'1.0  |01>   '"
      ]
     },
     "execution_count": 14,
     "metadata": {},
     "output_type": "execute_result"
    }
   ],
   "source": [
    "q = QuantumRegister(2)\n",
    "qc = QuantumCircuit(q)\n",
    "\n",
    "qc.id(q[0])\n",
    "qc.x(q[1])\n",
    "\n",
    "oq.Wavefunction(qc)"
   ]
  },
  {
   "cell_type": "code",
   "execution_count": 15,
   "id": "f31d94ba-590f-4293-88d6-8fb66f9f8527",
   "metadata": {
    "tags": []
   },
   "outputs": [
    {
     "name": "stdout",
     "output_type": "stream",
     "text": [
      "512|00>   512|10>   \n"
     ]
    }
   ],
   "source": [
    "q = QuantumRegister(2)\n",
    "c = ClassicalRegister(2)\n",
    "qc = QuantumCircuit(q, c)\n",
    "\n",
    "qc.h(q[0])\n",
    "qc.h(q[1])\n",
    "qc.measure(q[0], c[0])\n",
    "\n",
    "oq.Measurement(qc, shots = 1024)"
   ]
  },
  {
   "cell_type": "code",
   "execution_count": 16,
   "id": "6541ef0d-a9a6-4d7b-9e17-0286f9d9aa8d",
   "metadata": {
    "tags": []
   },
   "outputs": [],
   "source": [
    "def Quantum_Coin_Flips(flips):\n",
    "    '''\n",
    "    Simulates a perfect coin, measuring heads or tails, using a qubit\n",
    "    '''\n",
    "    q = QuantumRegister(1)\n",
    "    c = ClassicalRegister(1)\n",
    "    perfect_coin = QuantumCircuit(q, c)\n",
    "    \n",
    "    perfect_coin.h(q[0])\n",
    "    perfect_coin.measure(q,c)\n",
    "    \n",
    "    M = oq.execute(perfect_coin, M_simulator, shots=flips).result().get_counts(perfect_coin)\n",
    "    heads = M['0']\n",
    "    tails = M['1']\n",
    "    \n",
    "    return heads, tails"
   ]
  },
  {
   "cell_type": "code",
   "execution_count": 17,
   "id": "5f90f8ed-a923-4519-82c1-914408ab7e14",
   "metadata": {
    "tags": []
   },
   "outputs": [
    {
     "name": "stdout",
     "output_type": "stream",
     "text": [
      "Alice wins!\n",
      " \n",
      "Score: Alice:  52  Bob:  48\n"
     ]
    }
   ],
   "source": [
    "Heads, Tails = Quantum_Coin_Flips(100)\n",
    "\n",
    "if (Heads > Tails):\n",
    "    print('Alice wins!')\n",
    "if (Heads < Tails):\n",
    "    print('Bob wins!')\n",
    "if (Heads == Tails):\n",
    "    print('Draw!')\n",
    "print(' ')\n",
    "print('Score: Alice: ', Heads, ' Bob: ', Tails)"
   ]
  },
  {
   "cell_type": "code",
   "execution_count": null,
   "id": "c8ef11e7-bebb-4767-b488-6e4f446fbea5",
   "metadata": {},
   "outputs": [],
   "source": []
  }
 ],
 "metadata": {
  "kernelspec": {
   "display_name": "Python 3 (ipykernel)",
   "language": "python",
   "name": "python3"
  },
  "language_info": {
   "codemirror_mode": {
    "name": "ipython",
    "version": 3
   },
   "file_extension": ".py",
   "mimetype": "text/x-python",
   "name": "python",
   "nbconvert_exporter": "python",
   "pygments_lexer": "ipython3",
   "version": "3.11.5"
  }
 },
 "nbformat": 4,
 "nbformat_minor": 5
}

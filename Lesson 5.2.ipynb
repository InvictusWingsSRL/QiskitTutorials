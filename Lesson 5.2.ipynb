{
 "cells": [
  {
   "cell_type": "markdown",
   "id": "58b09ff2-0ea5-497b-a2cc-3b178f686f03",
   "metadata": {},
   "source": [
    "# Deutsch-Jozsa"
   ]
  },
  {
   "cell_type": "code",
   "execution_count": 1,
   "id": "5d0cb3ab-d3f6-44f4-a4c1-bed4da67f914",
   "metadata": {
    "tags": []
   },
   "outputs": [],
   "source": [
    "#Libraries needed to implement and simulate quantum circuits\n",
    "from qiskit import QuantumRegister, ClassicalRegister, QuantumCircuit, transpile, qasm2, qasm3\n",
    "from qiskit_aer import Aer\n",
    "from qiskit.primitives import BackendSampler\n",
    "#Custem functions to simplify answers\n",
    "import Our_Qiskit_Functions as oq #a part of the libabry presented in arXiv:1903.04359v1.\n",
    "\n",
    "import numpy as np\n",
    "import math as m\n",
    "\n",
    "#Initialize backends simulators to visualize circuits\n",
    "S_simulator = Aer.backends(name='statevector_simulator')[0]\n",
    "M_simulator = Aer.backends(name='qasm_simulator')[0]"
   ]
  },
  {
   "cell_type": "code",
   "execution_count": 2,
   "id": "ed31ee63-61f0-4f62-aa2a-c3025fc1a6af",
   "metadata": {
    "tags": []
   },
   "outputs": [
    {
     "name": "stdout",
     "output_type": "stream",
     "text": [
      "0.70711  |0>   0.70711  |1>   \n"
     ]
    }
   ],
   "source": [
    "q = QuantumRegister(1, name='q')\n",
    "qc = QuantumCircuit(1, name='qc')\n",
    "\n",
    "qc.h(q[0])\n",
    "oq.Wavefunction(qc);"
   ]
  },
  {
   "cell_type": "code",
   "execution_count": 3,
   "id": "648b834c-e7f1-4da5-a981-bd9a2444e23e",
   "metadata": {
    "tags": []
   },
   "outputs": [
    {
     "name": "stdout",
     "output_type": "stream",
     "text": [
      "0.70711  |0>   -0.70711  |1>   \n"
     ]
    }
   ],
   "source": [
    "q = QuantumRegister(1, name='q')\n",
    "qc = QuantumCircuit(1, name='qc')\n",
    "\n",
    "qc.x(q[0])\n",
    "qc.h(q[0])\n",
    "oq.Wavefunction(qc);"
   ]
  },
  {
   "cell_type": "code",
   "execution_count": 4,
   "id": "c555f713-f256-477a-ae57-a5072be9ec77",
   "metadata": {
    "tags": []
   },
   "outputs": [
    {
     "name": "stdout",
     "output_type": "stream",
     "text": [
      "-0.70711  |0>   0.70711  |1>   \n"
     ]
    }
   ],
   "source": [
    "qc.x(q[0])\n",
    "oq.Wavefunction(qc);"
   ]
  },
  {
   "cell_type": "code",
   "execution_count": 5,
   "id": "743d53d9-e58a-49b4-b1f6-6c3ccdd4e34a",
   "metadata": {
    "tags": []
   },
   "outputs": [
    {
     "name": "stdout",
     "output_type": "stream",
     "text": [
      "___________Before g___________________\n",
      "0.35355  |000>   0.35355  |100>   0.35355  |010>   0.35355  |110>   0.35355  |001>   0.35355  |101>   0.35355  |011>   0.35355  |111>   \n",
      "\n",
      "______________After g___________\n",
      "-0.35355  |000>   0.35355  |100>   -0.35355  |010>   0.35355  |110>   -0.35355  |001>   -0.35355  |101>   0.35355  |011>   0.35355  |111>   \n",
      "\n",
      "f type:  balanced\n",
      "States mapped to 1:  ['|101>', '|001>', '|010>', '|000>']\n"
     ]
    }
   ],
   "source": [
    "q = QuantumRegister(3, name='q')\n",
    "anc = QuantumRegister(1, name='anc')\n",
    "DJ_qc = QuantumCircuit(q, anc, name='qc')\n",
    "\n",
    "DJ_qc.h(q[0])\n",
    "DJ_qc.h(q[1])\n",
    "DJ_qc.h(q[2])\n",
    "DJ_qc.x(anc[0])\n",
    "\n",
    "print('___________Before g___________________')\n",
    "oq.Wavefunction(DJ_qc, systems=[3,1], show_systems=[True,False])\n",
    "\n",
    "DJ_qc.h(anc[0])\n",
    "\n",
    "f = oq.Blackbox_g_DJ(3, DJ_qc, q, anc)\n",
    "if f[0] == 'constant':\n",
    "    A = 1\n",
    "else:\n",
    "    A = 2\n",
    "\n",
    "DJ_qc.h(anc[0])\n",
    "\n",
    "print('\\n______________After g___________')\n",
    "oq.Wavefunction(DJ_qc, systems=[3,A], show_systems=[True,False])\n",
    "\n",
    "print('\\nf type: ', f[0])\n",
    "if len(f) > 1:\n",
    "    print('States mapped to 1: ', f[1:])"
   ]
  },
  {
   "cell_type": "code",
   "execution_count": 6,
   "id": "6b065423-b789-401d-8d2f-35652a5a4e71",
   "metadata": {
    "tags": []
   },
   "outputs": [
    {
     "name": "stdout",
     "output_type": "stream",
     "text": [
      "___________Before g___________________\n",
      "0.35355  |000>   0.35355  |100>   0.35355  |010>   0.35355  |110>   0.35355  |001>   0.35355  |101>   0.35355  |011>   0.35355  |111>   \n",
      "\n",
      "______________After g___________\n",
      "0.35355  |000>   -0.35355  |100>   0.35355  |010>   -0.35355  |110>   -0.35355  |001>   0.35355  |101>   0.35355  |011>   -0.35355  |111>   \n",
      "\n",
      "f type:  balanced\n",
      "States mapped to 1:  ['|111>', '|001>', '|110>', '|100>']\n",
      "\n",
      "______________After H^3___________\n",
      "0.5  |100>   -0.5  |110>   0.5  |101>   0.5  |111>   \n",
      "\n",
      "______________Measured State____________\n",
      "1|100>   \n"
     ]
    }
   ],
   "source": [
    "q = QuantumRegister(3, name='q')\n",
    "anc = QuantumRegister(1, name='anc')\n",
    "c = ClassicalRegister(3, name='c')\n",
    "DJ_qc = QuantumCircuit(q, anc, c, name='qc')\n",
    "\n",
    "DJ_qc.h(q[0])\n",
    "DJ_qc.h(q[1])\n",
    "DJ_qc.h(q[2])\n",
    "DJ_qc.x(anc[0])\n",
    "\n",
    "print('___________Before g___________________')\n",
    "oq.Wavefunction(DJ_qc, systems=[3,1], show_systems=[True,False])\n",
    "\n",
    "DJ_qc.h(anc[0])\n",
    "\n",
    "f = oq.Blackbox_g_DJ(3, DJ_qc, q, anc)\n",
    "if f[0] == 'constant':\n",
    "    A = 1\n",
    "else:\n",
    "    A = 2\n",
    "\n",
    "DJ_qc.h(anc[0])\n",
    "\n",
    "print('\\n______________After g___________')\n",
    "oq.Wavefunction(DJ_qc, systems=[3,A], show_systems=[True,False])\n",
    "\n",
    "print('\\nf type: ', f[0])\n",
    "if len(f) > 1:\n",
    "    print('States mapped to 1: ', f[1:])\n",
    "    \n",
    "DJ_qc.h(q[0])\n",
    "DJ_qc.h(q[1])\n",
    "DJ_qc.h(q[2])\n",
    "\n",
    "print('\\n______________After H^3___________')\n",
    "oq.Wavefunction(DJ_qc, systems=[3,A], show_systems=[True,False])\n",
    "\n",
    "DJ_qc.measure(q, c)\n",
    "\n",
    "print('\\n______________Measured State____________')\n",
    "oq.Measurement(DJ_qc, shots=1)"
   ]
  },
  {
   "cell_type": "code",
   "execution_count": 7,
   "id": "8e32a0fa-768a-4278-b952-8508da61efa0",
   "metadata": {
    "tags": []
   },
   "outputs": [
    {
     "name": "stdout",
     "output_type": "stream",
     "text": [
      "___________Before g___________________\n",
      "0.35355  |0000>   0.35355  |1000>   0.35355  |0100>   0.35355  |1100>   0.35355  |0001>   0.35355  |1001>   0.35355  |0101>   0.35355  |1101>   \n",
      "\n",
      "______________After g, f type: balanced___________\n",
      "0.35355  |0000>   0.35355  |1000>   0.35355  |0100>   0.35355  |1100>   0.35355  |0001>   0.35355  |1001>   0.35355  |0101>   0.35355  |1101>   \n",
      "    \n",
      "-0.35355  |0000>   -0.35355  |1000>   -0.35355  |0100>   -0.35355  |1100>   0.35355  |0001>   0.35355  |1001>   0.35355  |0101>   0.35355  |1101>   \n",
      "\n",
      "______________After H^3___________\n",
      "1.0  |0000>   \n",
      "    \n",
      "-1.0  |0001>   \n"
     ]
    }
   ],
   "source": [
    "q = QuantumRegister(3, name='q')\n",
    "anc = QuantumRegister(1, name='anc')\n",
    "con1_qc = QuantumCircuit(q, anc, name='qc1')\n",
    "con2_qc = QuantumCircuit(q, anc, name='qc2')\n",
    "\n",
    "for i in range(2):\n",
    "    con1_qc.h(q[i])\n",
    "    con2_qc.h(q[i])\n",
    "    \n",
    "con1_qc.h(anc[0])\n",
    "con1_qc.x(anc[0])\n",
    "con2_qc.x(anc[0])\n",
    "con2_qc.h(anc[0])\n",
    "\n",
    "print('___________Before g___________________')\n",
    "oq.Wavefunction(con1_qc)\n",
    "\n",
    "con2_qc.x(q[0])\n",
    "con2_qc.x(q[1])\n",
    "con2_qc.x(anc[0])\n",
    "\n",
    "print('\\n______________After g, f type: balanced___________')\n",
    "oq.Wavefunction(con1_qc)\n",
    "print('    ');\n",
    "oq.Wavefunction(con2_qc)\n",
    "\n",
    "for i in range(2):\n",
    "    con1_qc.h(q[i])\n",
    "    con2_qc.h(q[i])\n",
    "    \n",
    "con1_qc.h(anc[0])\n",
    "con2_qc.h(anc[0])\n",
    "\n",
    "print('\\n______________After H^3___________')\n",
    "\n",
    "oq.Wavefunction(con1_qc)\n",
    "print('    ');\n",
    "oq.Wavefunction(con2_qc);"
   ]
  },
  {
   "cell_type": "code",
   "execution_count": 8,
   "id": "3767256e-43f4-48de-91e5-b51ff3a06a79",
   "metadata": {
    "tags": []
   },
   "outputs": [
    {
     "name": "stdout",
     "output_type": "stream",
     "text": [
      "___________Before g___________________\n",
      "0.35355  |000>   0.35355  |100>   0.35355  |010>   0.35355  |110>   0.35355  |001>   0.35355  |101>   0.35355  |011>   0.35355  |111>   \n",
      "\n",
      "______________After g___________\n",
      "0.35355  |000>   0.35355  |100>   0.35355  |010>   0.35355  |110>   0.35355  |001>   0.35355  |101>   0.35355  |011>   0.35355  |111>   \n",
      "\n",
      "______________After H^3___________\n",
      "1.0  |000>   \n",
      "\n",
      "f type:  constant\n"
     ]
    }
   ],
   "source": [
    "q = QuantumRegister(3, name='q')\n",
    "anc = QuantumRegister(1, name='anc')\n",
    "DJ_qc = QuantumCircuit(q, anc, name='qc')\n",
    "\n",
    "DJ_qc.h(q[0])\n",
    "DJ_qc.h(q[1])\n",
    "DJ_qc.h(q[2])\n",
    "DJ_qc.x(anc[0])\n",
    "\n",
    "print('___________Before g___________________')\n",
    "oq.Wavefunction(DJ_qc, systems=[3,1], show_systems=[True,False])\n",
    "\n",
    "DJ_qc.h(anc[0])\n",
    "\n",
    "f = oq.Blackbox_g_DJ(3, DJ_qc, q, anc)\n",
    "if f[0] == 'constant':\n",
    "    A = 1\n",
    "else:\n",
    "    A = 2\n",
    "\n",
    "DJ_qc.h(anc[0])\n",
    "\n",
    "print('\\n______________After g___________')\n",
    "oq.Wavefunction(DJ_qc, systems=[3,A], show_systems=[True,False])\n",
    "\n",
    "DJ_qc.h(q[0])\n",
    "DJ_qc.h(q[1])\n",
    "DJ_qc.h(q[2])\n",
    "\n",
    "print('\\n______________After H^3___________')\n",
    "oq.Wavefunction(DJ_qc, systems=[3,A], show_systems=[True,False])\n",
    "\n",
    "\n",
    "print('\\nf type: ', f[0])\n",
    "if len(f) > 1:\n",
    "    print('States mapped to 1: ', f[1:])\n",
    "    print('Note that the state |000> is not in our final system!')"
   ]
  },
  {
   "cell_type": "code",
   "execution_count": 9,
   "id": "a5a9d6e5-ba5c-4f31-b667-3c159f8adc92",
   "metadata": {
    "tags": []
   },
   "outputs": [
    {
     "name": "stdout",
     "output_type": "stream",
     "text": [
      "___________Initial state___________________\n",
      "0.5  |000>|0>   0.5  |010>|0>   -0.5  |000>|1>   -0.5  |010>|1>   \n",
      "\n",
      "______________After n_NOT____________\n",
      "0.5  |000>|0>   -0.5  |010>|0>   -0.5  |000>|1>   0.5  |010>|1>   \n"
     ]
    }
   ],
   "source": [
    "# example for |010>\n",
    "\n",
    "q = QuantumRegister(3, name='q')\n",
    "trgt = QuantumRegister(1, name='trgt')\n",
    "anc = QuantumRegister(1, name='anc')\n",
    "qc_010 = QuantumCircuit(q, trgt, anc, name='qc')\n",
    "\n",
    "qc_010.h(q[1])\n",
    "\n",
    "qc_010.x(trgt[0])\n",
    "qc_010.h(trgt[0])\n",
    "\n",
    "print('___________Initial state___________________')\n",
    "oq.Wavefunction(qc_010, systems=[3,1,1], show_systems=[True,True,False])\n",
    "\n",
    "qc_010.x(q[0])\n",
    "qc_010.x(q[2])\n",
    "oq.n_NOT(qc_010, q, trgt[0], anc)\n",
    "qc_010.x(q[0])\n",
    "qc_010.x(q[2])\n",
    "\n",
    "print('\\n______________After n_NOT____________')\n",
    "oq.Wavefunction(qc_010, systems=[3,1,1], show_systems=[True,True,False]);\n"
   ]
  },
  {
   "cell_type": "code",
   "execution_count": 10,
   "id": "50c6330b-2831-4a83-8710-76b12379338e",
   "metadata": {
    "tags": []
   },
   "outputs": [
    {
     "name": "stdout",
     "output_type": "stream",
     "text": [
      "_______Measured state_______________\n",
      "1|10000>   \n",
      "    \n",
      "Conclusion: f is a balanced function\n",
      "   \n",
      "sneak peak: f is  balanced\n"
     ]
    }
   ],
   "source": [
    "Q = 5\n",
    "\n",
    "q = QuantumRegister(Q, name='q')\n",
    "anc = QuantumRegister(1, name='anc')\n",
    "c = ClassicalRegister(Q, name='c')\n",
    "DJ_qc = QuantumCircuit(q, anc, c, name='qc')\n",
    "\n",
    "DJ_qc.x(anc[0])\n",
    "\n",
    "f = oq.Deutsch_Josza(Q, DJ_qc, q, anc)\n",
    "\n",
    "DJ_qc.measure(q, c)\n",
    "\n",
    "print('_______Measured state_______________')\n",
    "M = oq.Measurement(DJ_qc, shots = 1, return_M=True)\n",
    "M = list(list(M.keys())[0])\n",
    "\n",
    "\n",
    "con = True\n",
    "for i in range(len(M)):\n",
    "    if (list(M)[i] == '1'):\n",
    "        con = False\n",
    "print('    ')\n",
    "if con:\n",
    "    print('Conclusion: f is a constant function')\n",
    "else:\n",
    "    print('Conclusion: f is a balanced function')\n",
    "\n",
    "print('   ')\n",
    "print('sneak peak: f is ', f[0])"
   ]
  },
  {
   "cell_type": "markdown",
   "id": "5abfd1d6-7f17-46a8-b765-b1f871142665",
   "metadata": {},
   "source": [
    "# Bernstein-Vazirani"
   ]
  },
  {
   "cell_type": "code",
   "execution_count": 11,
   "id": "f8e9cb69-c889-48f4-b0f7-9727449394a6",
   "metadata": {},
   "outputs": [
    {
     "name": "stdout",
     "output_type": "stream",
     "text": [
      "___________Before g___________________\n",
      "0.35355  |000>   0.35355  |100>   0.35355  |010>   0.35355  |110>   0.35355  |001>   0.35355  |101>   0.35355  |011>   0.35355  |111>   \n",
      "\n",
      "______________After g___________\n",
      "0.35355  |000>   0.35355  |100>   -0.35355  |010>   -0.35355  |110>   0.35355  |001>   0.35355  |101>   -0.35355  |011>   -0.35355  |111>   \n",
      "\n",
      "______________After H^3___________\n",
      "1.0  |010>   \n",
      "    \n",
      "Hidden string a =  [0, 1, 0]\n"
     ]
    }
   ],
   "source": [
    "q = QuantumRegister(3, name='q')\n",
    "anc = QuantumRegister(1, name='anc')\n",
    "BV_qc = QuantumCircuit(q, anc, name='qc')\n",
    "\n",
    "for i in range(3):\n",
    "    BV_qc.h(q[i])\n",
    "\n",
    "print('___________Before g___________________')\n",
    "oq.Wavefunction(BV_qc, systems=[3,1], show_systems=[True,False])\n",
    "\n",
    "BV_qc.x(anc[0])\n",
    "BV_qc.h(anc[0])\n",
    "\n",
    "a = oq.Blackbox_g_BV(3, BV_qc, q, anc)\n",
    "BV_qc.h(anc[0])\n",
    "\n",
    "print('\\n______________After g___________')\n",
    "oq.Wavefunction(BV_qc, systems=[3,2], show_systems=[True,False])\n",
    "\n",
    "for i in range(3):\n",
    "    BV_qc.h(q[i])\n",
    "    \n",
    "print('\\n______________After H^3___________')\n",
    "oq.Wavefunction(BV_qc, systems=[3,2], show_systems=[True,False])\n",
    "\n",
    "print('    ')\n",
    "print('Hidden string a = ', a)"
   ]
  },
  {
   "cell_type": "code",
   "execution_count": 12,
   "id": "d6dd1f96-c45c-4012-8004-638a2ae49308",
   "metadata": {
    "tags": []
   },
   "outputs": [
    {
     "name": "stdout",
     "output_type": "stream",
     "text": [
      "Quantum State:  [1, 0, 1]\n",
      " \n",
      "_____________Corresponding H^3 state_______________\n",
      "0.35355  |000>   -0.35355  |100>   0.35355  |010>   -0.35355  |110>   -0.35355  |001>   0.35355  |101>   -0.35355  |011>   0.35355  |111>   \n"
     ]
    }
   ],
   "source": [
    "q = QuantumRegister(3, name='q')\n",
    "H3_qc = QuantumCircuit(q, name='qc')\n",
    "\n",
    "state=[1,0,1]\n",
    "print('Quantum State: ',state)\n",
    "print(' ');\n",
    "for i in range(len(state)):\n",
    "    if state[i] == 1:\n",
    "       H3_qc.x(q[i])\n",
    "    H3_qc.h(q[i])\n",
    "    \n",
    "print('_____________Corresponding H^3 state_______________')\n",
    "oq.Wavefunction(H3_qc);"
   ]
  },
  {
   "cell_type": "code",
   "execution_count": 13,
   "id": "c979869d-b747-4849-973a-4a859780277c",
   "metadata": {
    "tags": []
   },
   "outputs": [
    {
     "name": "stdout",
     "output_type": "stream",
     "text": [
      "_______Measured state_______________\n",
      "1|0101>   \n",
      "\n",
      "sneak peak: a =  [0, 1, 0, 1]\n"
     ]
    }
   ],
   "source": [
    "Q = 4\n",
    "\n",
    "q = QuantumRegister(Q, name='q')\n",
    "anc = QuantumRegister(1, name='anc')\n",
    "c = ClassicalRegister(Q, name='c')\n",
    "BV_qc = QuantumCircuit(q, anc, c, name='qc')\n",
    "\n",
    "BV_qc.x(anc[0])\n",
    "\n",
    "a = oq.Bernstein_Vazirani(Q, BV_qc, q, anc)\n",
    "BV_qc.measure(q, c)\n",
    "\n",
    "print('_______Measured state_______________')\n",
    "oq.Measurement(BV_qc, shots = 1)\n",
    "\n",
    "print('\\nsneak peak: a = ', a)"
   ]
  },
  {
   "cell_type": "code",
   "execution_count": null,
   "id": "5172646c-834a-4905-b439-b8d1431be69c",
   "metadata": {},
   "outputs": [],
   "source": []
  }
 ],
 "metadata": {
  "kernelspec": {
   "display_name": "Python 3 (ipykernel)",
   "language": "python",
   "name": "python3"
  },
  "language_info": {
   "codemirror_mode": {
    "name": "ipython",
    "version": 3
   },
   "file_extension": ".py",
   "mimetype": "text/x-python",
   "name": "python",
   "nbconvert_exporter": "python",
   "pygments_lexer": "ipython3",
   "version": "3.11.5"
  }
 },
 "nbformat": 4,
 "nbformat_minor": 5
}

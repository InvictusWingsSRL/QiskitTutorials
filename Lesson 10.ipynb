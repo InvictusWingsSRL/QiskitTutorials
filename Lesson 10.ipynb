{
 "cells": [
  {
   "cell_type": "code",
   "execution_count": 1,
   "id": "00069bb7-4c7b-4ad2-a145-cc00e511689e",
   "metadata": {
    "tags": []
   },
   "outputs": [],
   "source": [
    "from qiskit import ClassicalRegister, QuantumRegister, QuantumCircuit, transpile, qasm2, qasm3\n",
    "from qiskit_aer import Aer\n",
    "from qiskit.primitives import BackendSampler\n",
    "from qiskit.providers.basic_provider import BasicProvider # instead of BasicAer\n",
    "import Our_Qiskit_Functions as oq\n",
    "import numpy as np\n",
    "import math as m\n",
    "import scipy as sci\n",
    "import random\n",
    "import matplotlib\n",
    "import matplotlib.pyplot as plt\n",
    "from itertools import permutations\n",
    "S_simulator = Aer.backends(name='statevector_simulator')[0]"
   ]
  },
  {
   "cell_type": "code",
   "execution_count": 2,
   "id": "b78cd6e2-eca7-4081-af81-a4cb7b8b7818",
   "metadata": {},
   "outputs": [
    {
     "name": "stdout",
     "output_type": "stream",
     "text": [
      "Total Combinations Where Everyone Is Happy:  72\n"
     ]
    }
   ],
   "source": [
    "def Happiness( A ):\n",
    "    happiness = 0\n",
    "    for i in np.arange(len(A)):\n",
    "        if( A[i] == 1):\n",
    "            Mi = int(i)\n",
    "        if( A[i] == 2):\n",
    "            Be = int(i)\n",
    "        if( A[i] == 3):\n",
    "            Ma = int(i)\n",
    "        if( A[i] == 4):\n",
    "            Cu = int(i)\n",
    "        if( A[i] == 5):\n",
    "            Na = int(i)\n",
    "        if( A[i] == 6):\n",
    "            Cl = int(i)\n",
    "        if( A[i] == 7):\n",
    "            Wi = int(i)\n",
    "    if( (abs(Mi - Be)<=3) and (abs(Mi - Ma)<=3) ): # Michelle\n",
    "        happiness += 1\n",
    "    if( (abs(Be - Mi)<=3) and (abs(Be - Ma)<=3) ): # Betty\n",
    "        happiness += 1\n",
    "    if( (abs(Ma - Mi)<=3) and (abs(Ma - Be)<=3) ): # Margaret\n",
    "        happiness += 1\n",
    "    if( abs(Cu - Na)>=3 ): # Cullen\n",
    "        happiness += 1\n",
    "    if( (abs(Na - Cu)>=3) and (abs(Na - Be)==1) ): # Nate\n",
    "        happiness += 1\n",
    "    if( (abs(Cl - Cu)>1) and (abs(Cl - Wi)>1) ): # Clint\n",
    "        happiness += 1\n",
    "    happiness += 1 # Will\n",
    "    return happiness\n",
    "#==================================================================================\n",
    "perm = permutations([1, 2, 3, 4, 5, 6, 7])\n",
    "All_Happy = []\n",
    "all_perm = 0\n",
    "for i in list(perm):\n",
    "    all_perm = all_perm + 1\n",
    "    if( Happiness(list(i)) == 7 ):\n",
    "        All_Happy.append( list(i) )\n",
    "print('Total Combinations Where Everyone Is Happy: ',len(All_Happy))"
   ]
  },
  {
   "cell_type": "code",
   "execution_count": 3,
   "id": "c20d3bdd-36a7-4322-bba7-51ecf4ea6524",
   "metadata": {
    "tags": []
   },
   "outputs": [
    {
     "name": "stdout",
     "output_type": "stream",
     "text": [
      "__ Initial State __\n",
      "0.5  |00>|0>   0.5  |10>|0>   0.5  |01>|0>   0.5  |11>|0>   \n",
      "\n",
      "__ After Applying The |01> Phase Term __\n",
      "0.5  |00>   0.5  |10>   -0.5j |01>   0.5  |11>   \n",
      "\n",
      "__ Circuit Diagram __\n",
      "\n",
      "     ┌───┐ ░ ┌───┐                    ┌───┐\n",
      "q_0: ┤ H ├─░─┤ X ├──■───■──────────■──┤ X ├\n",
      "     ├───┤ ░ └───┘  │   │          │  └───┘\n",
      "q_1: ┤ H ├─░────────■───┼──────────■───────\n",
      "     └───┘ ░      ┌─┴─┐ │P(-π/2) ┌─┴─┐     \n",
      "  a: ──────░──────┤ X ├─■────────┤ X ├─────\n",
      "           ░      └───┘          └───┘     \n"
     ]
    }
   ],
   "source": [
    "q = QuantumRegister(2, name = 'q')\n",
    "a = QuantumRegister(1, name = 'a')\n",
    "qc= QuantumCircuit(q,a, name = 'qc')\n",
    "#===================================\n",
    "qc.h( q[0] )\n",
    "qc.h( q[1] )\n",
    "qc.barrier()\n",
    "print('__ Initial State __')\n",
    "oq.Wavefunction(qc, systems=[2,1])\n",
    "#----------------------------------- Uc Operator\n",
    "qc.x( q[0] )\n",
    "qc.ccx( q[0], q[1], a[0] )\n",
    "qc.cp( -m.pi/2, a[0], q[0] )\n",
    "qc.ccx( q[0], q[1], a[0] )\n",
    "qc.x( q[0] )\n",
    "#-----------------------------------\n",
    "print('\\n__ After Applying The |01> Phase Term __')\n",
    "oq.Wavefunction(qc, systems=[2,1], show_systems=[True,False])\n",
    "print('\\n__ Circuit Diagram __\\n')\n",
    "print(qc)"
   ]
  },
  {
   "cell_type": "code",
   "execution_count": 4,
   "id": "b89c6d9d-3a39-490d-b61e-b0f6e42ae455",
   "metadata": {
    "tags": []
   },
   "outputs": [
    {
     "name": "stdout",
     "output_type": "stream",
     "text": [
      "__ Initial State __\n",
      "0.5  |00>|0>   0.5  |10>|0>   0.5  |01>|0>   0.5  |11>|0>   \n",
      "\n",
      "__ After Applying U(C,gamma) __\n",
      "0.35355+0.35355j |00>|0>   0.35355-0.35355j |10>|0>   -0.5j |01>|0>   0.5j |11>|0>   \n"
     ]
    }
   ],
   "source": [
    "q = QuantumRegister(2, name = 'q')\n",
    "a = QuantumRegister(1, name = 'a')\n",
    "Uc_qc= QuantumCircuit(q,a, name = 'qc')\n",
    "Uc_qc.h( q[0] )\n",
    "Uc_qc.h( q[1] )\n",
    "print('__ Initial State __')\n",
    "oq.Wavefunction(Uc_qc, systems=[2,1])\n",
    "#-------------------------------------- # |00> state\n",
    "Uc_qc.x( q[0] )\n",
    "Uc_qc.x( q[1] )\n",
    "Uc_qc.ccx( q[0], q[1], a[0] )\n",
    "Uc_qc.cp( m.pi/4, a[0], q[0] )\n",
    "Uc_qc.ccx( q[0], q[1], a[0] )\n",
    "Uc_qc.x( q[1] )\n",
    "Uc_qc.x( q[0] )\n",
    "#-------------------------------------- # |01> state\n",
    "Uc_qc.x( q[0] )\n",
    "Uc_qc.ccx( q[0], q[1], a[0] )\n",
    "Uc_qc.cp( -m.pi/2, a[0], q[0] )\n",
    "Uc_qc.ccx( q[0], q[1], a[0] )\n",
    "Uc_qc.x( q[0] )\n",
    "#-------------------------------------- # |10> state\n",
    "Uc_qc.x( q[1] )\n",
    "Uc_qc.ccx( q[0], q[1], a[0] )\n",
    "Uc_qc.cp( -m.pi/4, a[0], q[0] )\n",
    "Uc_qc.ccx( q[0], q[1], a[0] )\n",
    "Uc_qc.x( q[1] )\n",
    "#-------------------------------------- # |11> state\n",
    "Uc_qc.ccx( q[0], q[1], a[0] )\n",
    "Uc_qc.cp( m.pi/2, a[0], q[0] )\n",
    "Uc_qc.ccx( q[0], q[1], a[0] )\n",
    "print('\\n__ After Applying U(C,gamma) __')\n",
    "oq.Wavefunction(Uc_qc, systems=[2,1]);"
   ]
  },
  {
   "cell_type": "code",
   "execution_count": 5,
   "id": "de1d02e1-b510-4202-aa85-46a3fa0f0a6b",
   "metadata": {
    "tags": []
   },
   "outputs": [
    {
     "name": "stdout",
     "output_type": "stream",
     "text": [
      "Energy Expectation Value From Measurements:  -0.2624\n",
      "\n",
      "Energy Expectation Value From Wavefunction:  -0.2665\n"
     ]
    }
   ],
   "source": [
    "q = QuantumRegister(3,name='q')\n",
    "c = ClassicalRegister(3,name='c')\n",
    "qc = QuantumCircuit(q,c,name='qc')\n",
    "#=================================\n",
    "qc.h( q[0] )\n",
    "qc.h( q[1] )\n",
    "qc.h( q[2] )\n",
    "qc.p( m.pi/10, q[0] )\n",
    "qc.p( m.pi/15, q[1] )\n",
    "qc.p( m.pi/20, q[2] )\n",
    "qc.rx( m.pi/5, q[0] )\n",
    "qc.ry( m.pi/6, q[1])\n",
    "qc.rz( m.pi/7, q[2])\n",
    "#----------------------\n",
    "SV = oq.execute( qc, S_simulator, shots=1 ).result().get_statevector()\n",
    "qc.measure(q,c)\n",
    "M = oq.Measurement( qc, shots=10000, return_M=True, print_M=False)\n",
    "#-----------------------------------------------------------------\n",
    "Energies = [ ['000',2],['100',-4],['010',-2],['110',4],['001',4],['101',-2],['011',-4],['111',2]]\n",
    "EV1 = 0\n",
    "EV2 = 0\n",
    "for i in range( len(Energies) ):\n",
    "    EV1 = EV1 + M[ Energies[i][0] ] * Energies[i][1]/10000\n",
    "    EV2 = EV2 + np.real(SV[i]*np.conj(SV[i])) * Energies[i][1]\n",
    "print('Energy Expectation Value From Measurements: ',round(EV1,4))\n",
    "print('\\nEnergy Expectation Value From Wavefunction: ',round(EV2,4))"
   ]
  },
  {
   "cell_type": "code",
   "execution_count": 6,
   "id": "6b86daed-0501-488d-97c7-982028f4444f",
   "metadata": {
    "tags": []
   },
   "outputs": [
    {
     "name": "stdout",
     "output_type": "stream",
     "text": [
      "___ Initial State ___\n",
      "0.5  |00>   0.5  |10>   0.5  |01>   0.5  |11>   \n",
      "\n",
      "___ After e^{ZZ} ___\n",
      "0.5  |00>   -0.5j |10>   -0.5j |01>   0.5  |11>   \n",
      "     ┌───┐ ░                      \n",
      "q_0: ┤ H ├─░───■───────────────■──\n",
      "     ├───┤ ░ ┌─┴─┐┌─────────┐┌─┴─┐\n",
      "q_1: ┤ H ├─░─┤ X ├┤ P(-π/2) ├┤ X ├\n",
      "     └───┘ ░ └───┘└─────────┘└───┘\n"
     ]
    }
   ],
   "source": [
    "q = QuantumRegister(2,name='q')\n",
    "qc = QuantumCircuit(q,name='qc')\n",
    "#===============================\n",
    "qc.h( q[0] )\n",
    "qc.h( q[1] )\n",
    "qc.barrier()\n",
    "print('___ Initial State ___')\n",
    "oq.Wavefunction( qc )\n",
    "#-------------------------------\n",
    "qc.cx( q[0], q[1] )\n",
    "qc.p( -m.pi/2, q[1] )\n",
    "qc.cx( q[0], q[1] )\n",
    "#-------------------------------\n",
    "print('\\n___ After e^{ZZ} ___')\n",
    "oq.Wavefunction( qc )\n",
    "print( qc )"
   ]
  },
  {
   "cell_type": "code",
   "execution_count": 7,
   "id": "b665beee-8e4f-4aa7-ba32-7f51ced35a84",
   "metadata": {},
   "outputs": [
    {
     "name": "stdout",
     "output_type": "stream",
     "text": [
      "1|111>   \n"
     ]
    }
   ],
   "source": [
    "gamma = 0.8\n",
    "beta = 1.6\n",
    "B = [-2.5,3.25,2.25]\n",
    "#====================================\n",
    "q = QuantumRegister(3,name='q')\n",
    "c = ClassicalRegister(3,name='c')\n",
    "qc = QuantumCircuit(q,c,name='qc')\n",
    "#------------------------------------\n",
    "for i in np.arange(3):\n",
    "    qc.h( q[int(i)] )\n",
    "#---------------------- # Z1Z2\n",
    "qc.cx( q[0], q[1] )\n",
    "qc.p( 2*gamma, q[1] )\n",
    "qc.cx( q[0], q[1] )\n",
    "#---------------------- # Z1Z3\n",
    "qc.cx( q[0], q[2] )\n",
    "qc.p( 2*gamma, q[2] )\n",
    "qc.cx( q[0], q[2] )\n",
    "#---------------------- # Z2Z3\n",
    "qc.cx( q[1], q[2] )\n",
    "qc.p( 2*gamma, q[2] )\n",
    "qc.cx( q[1], q[2] )\n",
    "#---------------------- # Z_gamma gates\n",
    "for j in np.arange(3):\n",
    "    qc.p( gamma*B[j], q )\n",
    "#---------------------- # X_beta gates\n",
    "for k in np.arange(3):\n",
    "    qc.rx( beta, q )\n",
    "#------------------------------------\n",
    "qc.measure( q,c )\n",
    "oq.Measurement( qc, shots = 1 )"
   ]
  },
  {
   "cell_type": "code",
   "execution_count": 8,
   "id": "79c05c67-1bbf-40e6-a2ea-63e57f0ab089",
   "metadata": {
    "tags": []
   },
   "outputs": [
    {
     "name": "stdout",
     "output_type": "stream",
     "text": [
      "3621|111>   939|100>   2856|000>   973|001>   896|010>   221|011>   234|101>   260|110>   \n"
     ]
    }
   ],
   "source": [
    "trials = 10000\n",
    "M = oq.Measurement(qc, shots = trials, return_M=True)"
   ]
  },
  {
   "cell_type": "code",
   "execution_count": 9,
   "id": "e61caba4-2b75-4c1f-b253-aca325d8233e",
   "metadata": {
    "tags": []
   },
   "outputs": [
    {
     "name": "stdout",
     "output_type": "stream",
     "text": [
      "γ =  0.8  β =  1.6  Expectation Value:  -1.607\n"
     ]
    }
   ],
   "source": [
    "K = list(M.keys())\n",
    "Cz = { '000':-5.0, '001':1.5, '010':5.5, '011':8.0, '100':-6.0, '101':-3.5, '110':0.5, '111':-1.0 }\n",
    "#----------------------------\n",
    "F = 0\n",
    "for k in np.arange( len(K) ):\n",
    "    F = F + (M[K[k]]*Cz[K[k]])/trials\n",
    "print('\\u03B3 = ',gamma,' \\u03B2 = ',beta,' Expectation Value: ',round(F,3))"
   ]
  },
  {
   "cell_type": "code",
   "execution_count": 10,
   "id": "4cbd22cf-44c1-4439-b8ea-077a5956da04",
   "metadata": {
    "tags": []
   },
   "outputs": [
    {
     "name": "stdout",
     "output_type": "stream",
     "text": [
      "Optimal Energy Expectation Value:  -5.3967  γ =  6.2204  β =  1.5708 \n",
      "\n"
     ]
    },
    {
     "data": {
      "image/png": "[encoded data removed]",
      "text/plain": [
       "<Figure size 640x480 with 2 Axes>"
      ]
     },
     "metadata": {},
     "output_type": "display_data"
    }
   ],
   "source": [
    "size = 100\n",
    "Vert = [ [0,-2.5] , [1,3.25] , [2,1.25] ]\n",
    "Edge = [ [0,1],[0,2],[1,2] ]\n",
    "#-------------------------------------------------------\n",
    "Energies,States = oq.Ising_Energy( Vert,Edge )\n",
    "EV_grid = np.zeros(shape=(size,size))\n",
    "EV_min = 10000\n",
    "#========================================================\n",
    "for b in np.arange(size):\n",
    "    beta = round(2*m.pi*(b/size),4)\n",
    "    for g in np.arange(size):\n",
    "        gamma = round(2*m.pi*(g/size),4)\n",
    "        q = QuantumRegister(len(Vert))\n",
    "        qc= QuantumCircuit(q)\n",
    "        for hh in np.arange(len(Vert)):\n",
    "            qc.h( q[int(hh)] )\n",
    "        oq.Ising_Circuit( qc, q, Vert, Edge, beta, gamma )\n",
    "        EV = oq.E_Expectation_Value( qc, Energies )\n",
    "        EV_grid[b,g] = EV\n",
    "        if( EV < EV_min ):\n",
    "            Params = [beta,gamma]\n",
    "            EV_min = EV\n",
    "print('Optimal Energy Expectation Value: ',EV_min,' \\u03B3 = ',Params[1],' \\u03B2 = ',Params[0],'\\n')\n",
    "#========================================================\n",
    "fig, ax = plt.subplots()\n",
    "show_text = False\n",
    "show_ticks = False\n",
    "oq.Heatmap(EV_grid, show_text, show_ticks, ax, \"plasma\", \"Energy Expectation Value\")\n",
    "fig.tight_layout()\n",
    "plt.show()"
   ]
  },
  {
   "cell_type": "code",
   "execution_count": 11,
   "id": "0d0c4bde-a246-4df2-8d29-85477e6e2aaa",
   "metadata": {
    "tags": []
   },
   "outputs": [
    {
     "name": "stdout",
     "output_type": "stream",
     "text": [
      "Optimal Energy Expectation Value:  -5.3967  γ =  6.2204  β =  1.5708 \n",
      "\n",
      "State  100  Probability:  56.52 %  Energy:  -6.0\n",
      "State  000  Probability:  41.14 %  Energy:  -5.0\n",
      "State  110  Probability:  0.73 %  Energy:  0.5\n",
      "State  010  Probability:  0.68 %  Energy:  5.5\n",
      "State  101  Probability:  0.27 %  Energy:  -3.5\n",
      "State  001  Probability:  0.26 %  Energy:  1.5\n",
      "State  011  Probability:  0.22 %  Energy:  8.0\n",
      "State  111  Probability:  0.18 %  Energy:  -1.0\n"
     ]
    }
   ],
   "source": [
    "beta = Params[0] # Params is required from the previous cell of code\n",
    "gamma = Params[1]\n",
    "Vert = [ [0,-2.5] , [1,3.25] , [2,1.25] ]\n",
    "Edge = [ [0,1],[0,2],[1,2] ]\n",
    "Energies,States = oq.Ising_Energy( Vert,Edge )\n",
    "#=======================================================\n",
    "q = QuantumRegister(len(Vert))\n",
    "qc= QuantumCircuit(q)\n",
    "for hh in np.arange(len(Vert)):\n",
    "    qc.h( q[int(hh)] )\n",
    "oq.Ising_Circuit( qc, q, Vert, Edge, beta, gamma )\n",
    "#========================================================\n",
    "print('Optimal Energy Expectation Value: ',EV_min,' \\u03B3 = ',Params[1],' \\u03B2 = ',Params[0],'\\n')\n",
    "SV = oq.execute( qc, S_simulator, shots=1 ).result().get_statevector()\n",
    "oq.Top_States(States,Energies,SV,8)"
   ]
  },
  {
   "cell_type": "code",
   "execution_count": 12,
   "id": "d7b5d434-fcb9-42c5-910b-66b08aa115a8",
   "metadata": {
    "tags": []
   },
   "outputs": [
    {
     "name": "stdout",
     "output_type": "stream",
     "text": [
      "Largest Inner Product Overlap with the |00> + |11> state:  0.7071\n"
     ]
    }
   ],
   "source": [
    "T = 8\n",
    "Z = [m.sqrt(0.5),0,0,m.sqrt(0.5)]\n",
    "Closest_IP = 0\n",
    "#====================================\n",
    "for i1 in np.arange(T+1):\n",
    "    t1 = i1*m.pi/T\n",
    "    for i2 in np.arange(T+1):\n",
    "        t2 = i2*m.pi/T\n",
    "        for i3 in np.arange(T+1):\n",
    "            t3 = i3*m.pi/T\n",
    "            for i4 in np.arange(T+1):\n",
    "                t4 = i4*m.pi/T\n",
    "#---------------------\n",
    "                q = QuantumRegister(2)\n",
    "                qc= QuantumCircuit(q)\n",
    "                qc.rx( t1, q[0] )\n",
    "                qc.rx( t2, q[1] )\n",
    "                qc.ry( t3, q[0] )\n",
    "                qc.ry( t4, q[1] )\n",
    "                SV = oq.execute( qc, S_simulator, shots=1 ).result().get_statevector()\n",
    "                IP = (SV[0]*Z[0]) + (SV[1]*Z[1]) + (SV[2]*Z[2]) + (SV[3]*Z[3])\n",
    "                if( IP > Closest_IP ):\n",
    "                    Closest_IP = IP\n",
    "\n",
    "print( 'Largest Inner Product Overlap with the |00> + |11> state: ',round(np.real(Closest_IP),4 ))"
   ]
  },
  {
   "cell_type": "code",
   "execution_count": 13,
   "id": "a39b2085-dea2-4a36-81b5-df76a1822863",
   "metadata": {
    "tags": []
   },
   "outputs": [
    {
     "name": "stdout",
     "output_type": "stream",
     "text": [
      "Largest Inner Product Overlap with |Ψ>:  1.0\n"
     ]
    }
   ],
   "source": [
    "T = 8\n",
    "Z = [m.sqrt(0.5),0,0,m.sqrt(0.5)]\n",
    "Closest_IP = 0\n",
    "#====================================\n",
    "for i1 in np.arange(T+1):\n",
    "    t1 = i1*m.pi/T\n",
    "    for i2 in np.arange(T+1):\n",
    "        t2 = i2*m.pi/T\n",
    "        for i3 in np.arange(T+1):\n",
    "            t3 = i3*m.pi/T\n",
    "            for i4 in np.arange(T+1):\n",
    "                t4 = i4*m.pi/T\n",
    "#---------------------\n",
    "                q = QuantumRegister(2)\n",
    "                qc= QuantumCircuit(q)\n",
    "                qc.rx( t1, q[0] )\n",
    "                qc.rx( t2, q[1] )\n",
    "                qc.ry( t3, q[0] )\n",
    "                qc.ry( t4, q[1] )\n",
    "                qc.cx( q[0], q[1] )\n",
    "                SV = oq.execute( qc, S_simulator, shots=1 ).result().get_statevector()\n",
    "                IP = (SV[0]*Z[0]) + (SV[1]*Z[1]) + (SV[2]*Z[2]) + (SV[3]*Z[3])\n",
    "                if( IP > Closest_IP ):\n",
    "                    Closest_IP = IP\n",
    "\n",
    "print( 'Largest Inner Product Overlap with |\\u03A8>: ',round(np.real(Closest_IP),4 ))"
   ]
  },
  {
   "cell_type": "code",
   "execution_count": 15,
   "id": "1d85f6ba-ed6e-49e4-9e94-426c922b14e6",
   "metadata": {
    "tags": []
   },
   "outputs": [
    {
     "name": "stdout",
     "output_type": "stream",
     "text": [
      "Optimal Energy Expectation Value:  -4.6185  γ =  1.3823  β =  1.6336 \n",
      "\n"
     ]
    },
    {
     "data": {
      "image/png": "[encoded data removed]",
      "text/plain": [
       "<Figure size 640x480 with 2 Axes>"
      ]
     },
     "metadata": {},
     "output_type": "display_data"
    },
    {
     "name": "stdout",
     "output_type": "stream",
     "text": [
      "State  100  Probability:  46.13 %  Energy:  -6.0\n",
      "State  000  Probability:  42.05 %  Energy:  -5.0\n",
      "State  011  Probability:  2.51 %  Energy:  8.0\n",
      "State  101  Probability:  2.31 %  Energy:  -3.5\n",
      "State  010  Probability:  2.2 %  Energy:  5.5\n",
      "State  111  Probability:  2.16 %  Energy:  -1.0\n",
      "State  001  Probability:  1.93 %  Energy:  1.5\n",
      "State  110  Probability:  0.71 %  Energy:  0.5\n"
     ]
    }
   ],
   "source": [
    "size = 100\n",
    "Vert = [ [0,-2.5] , [1,3.25] , [2,1.25] ]\n",
    "Edge = [ [0,1],[0,2],[1,2] ]\n",
    "#-------------------------------------------------------\n",
    "Energies,States = oq.Ising_Energy( Vert,Edge )\n",
    "EV_grid = np.zeros(shape=(size,size))\n",
    "EV_min = 10000\n",
    "#========================================================\n",
    "for b in np.arange(size):\n",
    "    beta = round(2*m.pi*(b/size),4)\n",
    "    for g in np.arange(size):\n",
    "        gamma = round(2*m.pi*(g/size),4)\n",
    "        q = QuantumRegister(len(Vert))\n",
    "        qc= QuantumCircuit(q)\n",
    "        for hh in np.arange(len(Vert)):\n",
    "            qc.h( q[int(hh)] )\n",
    "        oq.Ising_Circuit( qc, q, Vert, Edge, beta, gamma, Mixing=2, p = 2)\n",
    "        EV = oq.E_Expectation_Value( qc, Energies )\n",
    "        EV_grid[b,g] = EV\n",
    "        if( EV < EV_min ):\n",
    "            Params = [beta,gamma]\n",
    "            EV_min = EV\n",
    "print('Optimal Energy Expectation Value: ',EV_min,' \\u03B3 = ',Params[1],' \\u03B2 = ',Params[0],'\\n')\n",
    "#========================================================\n",
    "fig, ax = plt.subplots()\n",
    "show_text = False\n",
    "show_ticks = False\n",
    "oq.Heatmap(EV_grid, show_text, show_ticks, ax, \"plasma\", \"Energy Expectation Value\")\n",
    "fig.tight_layout()\n",
    "plt.show()\n",
    "#========================================================\n",
    "beta = Params[0]\n",
    "gamma = Params[1]\n",
    "q = QuantumRegister(len(Vert))\n",
    "qc= QuantumCircuit(q)\n",
    "for hh in np.arange(len(Vert)):\n",
    "    qc.h( q[int(hh)] )\n",
    "oq.Ising_Circuit( qc, q, Vert, Edge, beta, gamma, Mixing=2,p=2 )\n",
    "SV = oq.execute( qc, S_simulator, shots=1 ).result().get_statevector()\n",
    "oq.Top_States(States,Energies,SV,8)"
   ]
  },
  {
   "cell_type": "code",
   "execution_count": 16,
   "id": "4fdb789e-5ad8-48a8-a366-54edc3ec3312",
   "metadata": {
    "tags": []
   },
   "outputs": [
    {
     "name": "stdout",
     "output_type": "stream",
     "text": [
      "Optimal Energy Expectation Value:  -5.2371  γ =  4.7752  β =  0.5655 \n",
      "\n"
     ]
    },
    {
     "data": {
      "image/png": "[encoded data removed]",
      "text/plain": [
       "<Figure size 640x480 with 2 Axes>"
      ]
     },
     "metadata": {},
     "output_type": "display_data"
    },
    {
     "name": "stdout",
     "output_type": "stream",
     "text": [
      "State  100  Probability:  50.15 %  Energy:  -9.5\n",
      "State  001  Probability:  25.03 %  Energy:  -3.0\n",
      "State  111  Probability:  11.85 %  Energy:  1.5\n",
      "State  000  Probability:  5.19 %  Energy:  -2.5\n",
      "State  110  Probability:  4.12 %  Energy:  -4.0\n",
      "State  010  Probability:  3.55 %  Energy:  11.0\n",
      "State  011  Probability:  0.08 %  Energy:  4.5\n",
      "State  101  Probability:  0.03 %  Energy:  2.0\n"
     ]
    }
   ],
   "source": [
    "size = 100\n",
    "#-------------------------------------------------------\n",
    "Vert = [ [0,-2.5] , [1,3.25] , [2,1.25] ]\n",
    "Edge = [ [0,1,2],[1,2,1.5],[2,0,-3] ]\n",
    "#-------------------------------------------------------\n",
    "Energies,States = oq.Ising_Energy( Vert,Edge,Transverse=True )\n",
    "EV_grid = np.zeros(shape=(size,size))\n",
    "EV_min = 10000\n",
    "#========================================================\n",
    "for b in np.arange(size):\n",
    "    beta = round(2*m.pi*(b/size),4)\n",
    "    for g in np.arange(size):\n",
    "        gamma = round(2*m.pi*(g/size),4)\n",
    "        q = QuantumRegister(len(Vert))\n",
    "        qc= QuantumCircuit(q)\n",
    "        for hh in np.arange(len(Vert)):\n",
    "            qc.h( q[int(hh)] )\n",
    "        oq.Ising_Circuit( qc, q, Vert, Edge, beta, gamma , Transverse=True, Mixing=2, p = 2 )\n",
    "        EV = oq.E_Expectation_Value( qc, Energies )\n",
    "        EV_grid[b,g] = EV\n",
    "        if( EV < EV_min ):\n",
    "            Params = [beta,gamma]\n",
    "            EV_min = EV\n",
    "print('Optimal Energy Expectation Value: ',EV_min,' \\u03B3 = ',Params[1],' \\u03B2 = ',Params[0],'\\n')\n",
    "#========================================================\n",
    "fig, ax = plt.subplots()\n",
    "show_text = False\n",
    "show_ticks = False\n",
    "oq.Heatmap(EV_grid, show_text, show_ticks, ax, \"plasma\", \"Energy Expectation Value\")\n",
    "fig.tight_layout()\n",
    "plt.show()\n",
    "#========================================================\n",
    "beta = Params[0]\n",
    "gamma = Params[1]\n",
    "q = QuantumRegister(len(Vert))\n",
    "qc= QuantumCircuit(q)\n",
    "for hh in np.arange(len(Vert)):\n",
    "    qc.h( q[int(hh)] )\n",
    "oq.Ising_Circuit( qc, q, Vert, Edge, beta, gamma, Transverse=True, Mixing=2,p=2 )\n",
    "SV = oq.execute( qc, S_simulator, shots=1 ).result().get_statevector()\n",
    "oq.Top_States(States,Energies,SV,8)"
   ]
  },
  {
   "cell_type": "code",
   "execution_count": 17,
   "id": "595b3f41-7e07-419f-95ed-ed3b831a46c1",
   "metadata": {
    "tags": []
   },
   "outputs": [],
   "source": [
    "def Ising_Gradient_Descent(qc, q, Circ, V, E, beta, gamma, epsilon, En, step, **kwargs):\n",
    "    '''\n",
    "    Input: qc (QuantumCircuit) q (QuantumRegister) Circ (Ising_Circuit function) V (array) E\n",
    "    beta (float) gamma (float) epsilon (float) En (array) step (float)\n",
    "    Keyword Arguments: Transverse (Bool) - Changes to the Transve\n",
    "    Mixing (integer) - Denotes which mixing circuit to use for U(B,beta)\n",
    "    Calculates and returns the next values for beta and gamma using gradient descent\n",
    "    '''\n",
    "    Trans = False\n",
    "    if 'Transverse' in kwargs:\n",
    "        if( kwargs['Transverse'] == True ):\n",
    "            Trans = True\n",
    "    Mixer = 1\n",
    "    if 'Mixing' in kwargs:\n",
    "        Mixer = int(kwargs['Mixing'])\n",
    "    params = [ [beta+epsilon,gamma],[beta-epsilon,gamma],[beta,gamma+epsilon],[beta,gamma-epsilon] ]\n",
    "    ev = []\n",
    "    for i in np.arange( 4 ):\n",
    "        q = QuantumRegister(len(V))\n",
    "        qc= QuantumCircuit(q)\n",
    "        for hh in np.arange(len(V)):\n",
    "            qc.h( q[int(hh)] )\n",
    "        Circ( qc, q, V, E, params[i][0], params[i][1], Transverse=Trans, Mixing=Mixer )\n",
    "        ev.append( E_Expectation_Value( qc, En ) )\n",
    "    beta_next = beta - ( ev[0] - ev[1] )/( 2.0*epsilon ) * step\n",
    "    gamma_next = gamma - ( ev[2] - ev[3] )/( 2.0*epsilon ) * step\n",
    "    return beta_next, gamma_next"
   ]
  },
  {
   "cell_type": "code",
   "execution_count": 18,
   "id": "8dccea96-2611-470d-ae96-7c8ba6b753f8",
   "metadata": {
    "tags": []
   },
   "outputs": [
    {
     "name": "stdout",
     "output_type": "stream",
     "text": [
      "F(γ,β):  -1.2035  γ =  4.5151  β =  0.5274\n",
      "F(γ,β):  -1.41  γ =  4.52285  β =  0.5578\n",
      "F(γ,β):  -1.5492  γ =  4.5266  β =  0.5877\n",
      "F(γ,β):  -1.6591  γ =  4.52895  β =  0.61695\n",
      "F(γ,β):  -1.7538  γ =  4.53085  β =  0.64545\n",
      "F(γ,β):  -1.8402  γ =  4.53275  β =  0.6731\n",
      "F(γ,β):  -1.9169  γ =  4.5346  β =  0.6999\n",
      "F(γ,β):  -1.9811  γ =  4.53625  β =  0.726\n",
      "F(γ,β):  -2.0369  γ =  4.53795  β =  0.7513\n",
      "F(γ,β):  -2.0842  γ =  4.5397  β =  0.7759\n",
      "F(γ,β):  -2.1214  γ =  4.5414  β =  0.7996\n",
      "F(γ,β):  -2.1481  γ =  4.543  β =  0.8227\n",
      "F(γ,β):  -2.1668  γ =  4.54465  β =  0.84495\n",
      "F(γ,β):  -2.1783  γ =  4.5464  β =  0.8667\n"
     ]
    }
   ],
   "source": [
    "epsilon = 0.001\n",
    "step_size = 0.001\n",
    "delta = 0.0001\n",
    "#-------------------------------------------------------\n",
    "Vert = [ [0,-2.5] , [1,3.25] , [2,1.25] ]\n",
    "Edge = [ [0,1,2],[1,2,1.5],[2,0,-3] ]\n",
    "#-------------------------------------------------------\n",
    "Energies,States = oq.Ising_Energy( Vert,Edge, Transverse=True )\n",
    "EV = 100\n",
    "EV_old = 1000\n",
    "EV_min = 1000\n",
    "#========================================================\n",
    "beta = 0.5\n",
    "gamma = 4.5\n",
    "s = 0\n",
    "while( (abs( EV - EV_old ) > delta)):\n",
    "    q = QuantumRegister(len(Vert))\n",
    "    qc= QuantumCircuit(q)\n",
    "    for hh in np.arange(len(Vert)):\n",
    "        qc.h( q[int(hh)] )\n",
    "    if( s != 0 ):\n",
    "        beta,gamma = oq.Ising_Gradient_Descent(qc,q,oq.Ising_Circuit,Vert,Edge,beta,gamma,epsilon,Energies,step_size,Transverse=True,Mixing=1)\n",
    "    oq.Ising_Circuit( qc, q, Vert, Edge, beta, gamma, Transverse=True, Mixing=2 )\n",
    "    EV_old = EV\n",
    "    EV = oq.E_Expectation_Value( qc, Energies )\n",
    "    if( EV < EV_min ):\n",
    "        Params = [beta,gamma]\n",
    "        EV_min = EV\n",
    "    s = int(s+1)\n",
    "    if (s % 10 == 0):\n",
    "        print('F(\\u03B3,\\u03B2): ',EV,' \\u03B3 = ',round(gamma,6),' \\u03B2 = ',round(beta,6),)"
   ]
  },
  {
   "cell_type": "code",
   "execution_count": 19,
   "id": "ebcb574b-dd42-4a88-a3a2-986f68d67021",
   "metadata": {
    "tags": []
   },
   "outputs": [
    {
     "data": {
      "text/plain": [
       "[-2.5, -9.5, 11.0, -4.0, -3.0, 2.0, 4.5, 1.5]"
      ]
     },
     "execution_count": 19,
     "metadata": {},
     "output_type": "execute_result"
    }
   ],
   "source": [
    "Energies"
   ]
  },
  {
   "cell_type": "code",
   "execution_count": 20,
   "id": "58feb5f2-2d2f-4bd5-8df7-4e202748ff49",
   "metadata": {
    "tags": []
   },
   "outputs": [
    {
     "data": {
      "text/plain": [
       "['000', '100', '010', '110', '001', '101', '011', '111']"
      ]
     },
     "execution_count": 20,
     "metadata": {},
     "output_type": "execute_result"
    }
   ],
   "source": [
    "States"
   ]
  },
  {
   "cell_type": "code",
   "execution_count": 22,
   "id": "04cc05ff-706f-412b-8284-b4796560d25e",
   "metadata": {
    "tags": []
   },
   "outputs": [
    {
     "name": "stdout",
     "output_type": "stream",
     "text": [
      "F(γ,β):  1.611  γ =  6.043438  β =  4.157978\n",
      "F(γ,β):  1.5789  γ =  6.048438  β =  4.154978\n",
      "F(γ,β):  1.547  γ =  6.053438  β =  4.152478\n",
      "F(γ,β):  1.5141  γ =  6.058438  β =  4.149978\n",
      "F(γ,β):  1.4776  γ =  6.063938  β =  4.147478\n",
      "F(γ,β):  1.44  γ =  6.069438  β =  4.144978\n",
      "F(γ,β):  1.3994  γ =  6.075438  β =  4.142978\n",
      "F(γ,β):  1.3577  γ =  6.081438  β =  4.140978\n",
      "F(γ,β):  1.315  γ =  6.087438  β =  4.138978\n",
      "F(γ,β):  1.2681  γ =  6.093938  β =  4.136978\n",
      "F(γ,β):  1.2168  γ =  6.100938  β =  4.134978\n",
      "F(γ,β):  1.1652  γ =  6.107938  β =  4.133478\n",
      "F(γ,β):  1.1134  γ =  6.114938  β =  4.132478\n",
      "F(γ,β):  1.0564  γ =  6.122438  β =  4.130978\n",
      "F(γ,β):  0.9992  γ =  6.129938  β =  4.129978\n",
      "F(γ,β):  0.9409  γ =  6.137438  β =  4.128478\n",
      "F(γ,β):  0.8826  γ =  6.144938  β =  4.127478\n",
      "F(γ,β):  0.82  γ =  6.152938  β =  4.126478\n",
      "F(γ,β):  0.7569  γ =  6.160938  β =  4.125478\n",
      "F(γ,β):  0.6935  γ =  6.168938  β =  4.124478\n",
      "F(γ,β):  0.6297  γ =  6.176938  β =  4.123478\n",
      "F(γ,β):  0.5655  γ =  6.184938  β =  4.122478\n",
      "F(γ,β):  0.5009  γ =  6.192938  β =  4.121478\n",
      "F(γ,β):  0.4358  γ =  6.200938  β =  4.120478\n",
      "F(γ,β):  0.3694  γ =  6.208938  β =  4.118978\n",
      "F(γ,β):  0.3021  γ =  6.216938  β =  4.117478\n",
      "F(γ,β):  0.2295  γ =  6.225438  β =  4.115978\n",
      "F(γ,β):  0.1556  γ =  6.233938  β =  4.114478\n",
      "F(γ,β):  0.079  γ =  6.242438  β =  4.112478\n",
      "F(γ,β):  0.0004  γ =  6.250938  β =  4.110478\n",
      "F(γ,β):  -0.085  γ =  6.259938  β =  4.108478\n",
      "F(γ,β):  -0.1745  γ =  6.268938  β =  4.105978\n",
      "F(γ,β):  -0.272  γ =  6.278438  β =  4.103478\n",
      "F(γ,β):  -0.3764  γ =  6.287938  β =  4.099978\n",
      "F(γ,β):  -0.49  γ =  6.297938  β =  4.096478\n",
      "F(γ,β):  -0.6131  γ =  6.308438  β =  4.092978\n",
      "F(γ,β):  -0.7427  γ =  6.318938  β =  4.088978\n",
      "F(γ,β):  -0.8817  γ =  6.329938  β =  4.084978\n",
      "F(γ,β):  -1.0322  γ =  6.341438  β =  4.080478\n",
      "F(γ,β):  -1.1819  γ =  6.352438  β =  4.075478\n",
      "F(γ,β):  -1.3325  γ =  6.363438  β =  4.070478\n",
      "F(γ,β):  -1.4905  γ =  6.374938  β =  4.064978\n",
      "F(γ,β):  -1.64  γ =  6.385938  β =  4.059478\n",
      "F(γ,β):  -1.7794  γ =  6.396438  β =  4.053978\n",
      "F(γ,β):  -1.9075  γ =  6.406438  β =  4.048478\n",
      "F(γ,β):  -2.0233  γ =  6.415938  β =  4.042978\n",
      "F(γ,β):  -2.1227  γ =  6.424438  β =  4.037478\n",
      "F(γ,β):  -2.2079  γ =  6.432438  β =  4.032478\n",
      "F(γ,β):  -2.2788  γ =  6.439438  β =  4.027478\n",
      "F(γ,β):  -2.3377  γ =  6.445938  β =  4.022978\n",
      "F(γ,β):  -2.3856  γ =  6.451438  β =  4.018478\n",
      "F(γ,β):  -2.4244  γ =  6.455938  β =  4.013978\n",
      "F(γ,β):  -2.4556  γ =  6.459938  β =  4.009978\n",
      "F(γ,β):  -2.4823  γ =  6.463438  β =  4.005978\n",
      "F(γ,β):  -2.5051  γ =  6.466438  β =  4.001978\n",
      "F(γ,β):  -2.5258  γ =  6.469438  β =  3.997978\n",
      "F(γ,β):  -2.5412  γ =  6.471438  β =  3.994478\n",
      "F(γ,β):  -2.5547  γ =  6.472938  β =  3.990978\n",
      "F(γ,β):  -2.5659  γ =  6.474438  β =  3.987978\n",
      "F(γ,β):  -2.5759  γ =  6.475438  β =  3.984978\n",
      "F(γ,β):  -2.5855  γ =  6.476438  β =  3.981978\n",
      "F(γ,β):  -2.5946  γ =  6.477438  β =  3.978978\n",
      "F(γ,β):  -2.603  γ =  6.477438  β =  3.975978\n",
      "F(γ,β):  -2.6099  γ =  6.477938  β =  3.973478\n",
      "F(γ,β):  -2.6167  γ =  6.478438  β =  3.970978\n",
      "F(γ,β):  -2.6246  γ =  6.478438  β =  3.967978\n",
      "F(γ,β):  -2.6323  γ =  6.478438  β =  3.964978\n",
      "F(γ,β):  -2.6388  γ =  6.477938  β =  3.962478\n",
      "F(γ,β):  -2.6451  γ =  6.477938  β =  3.959978\n",
      "F(γ,β):  -2.6514  γ =  6.477438  β =  3.957478\n",
      "F(γ,β):  -2.6575  γ =  6.477438  β =  3.954978\n",
      "F(γ,β):  -2.6637  γ =  6.476938  β =  3.952478\n",
      "F(γ,β):  -2.6699  γ =  6.476438  β =  3.949978\n",
      "F(γ,β):  -2.6746  γ =  6.476438  β =  3.947978\n",
      "F(γ,β):  -2.6793  γ =  6.476438  β =  3.945978\n",
      "F(γ,β):  -2.6852  γ =  6.475938  β =  3.943478\n",
      "F(γ,β):  -2.6912  γ =  6.475438  β =  3.940978\n",
      "F(γ,β):  -2.6959  γ =  6.474938  β =  3.938978\n",
      "F(γ,β):  -2.7018  γ =  6.474438  β =  3.936478\n",
      "F(γ,β):  -2.7075  γ =  6.473938  β =  3.933978\n",
      "F(γ,β):  -2.7121  γ =  6.473438  β =  3.931978\n",
      "F(γ,β):  -2.7178  γ =  6.472938  β =  3.929478\n",
      "F(γ,β):  -2.7223  γ =  6.472438  β =  3.927478\n",
      "F(γ,β):  -2.7268  γ =  6.471938  β =  3.925478\n",
      "F(γ,β):  -2.7313  γ =  6.471438  β =  3.923478\n",
      "F(γ,β):  -2.7367  γ =  6.470938  β =  3.920978\n",
      "F(γ,β):  -2.741  γ =  6.470438  β =  3.918978\n",
      "F(γ,β):  -2.7453  γ =  6.469938  β =  3.916978\n",
      "F(γ,β):  -2.7496  γ =  6.469438  β =  3.914978\n",
      "F(γ,β):  -2.7538  γ =  6.468938  β =  3.912978\n",
      "F(γ,β):  -2.758  γ =  6.468438  β =  3.910978\n",
      "F(γ,β):  -2.7621  γ =  6.467938  β =  3.908978\n",
      "F(γ,β):  -2.7662  γ =  6.467438  β =  3.906978\n",
      "F(γ,β):  -2.7702  γ =  6.466938  β =  3.904978\n",
      "F(γ,β):  -2.7742  γ =  6.466438  β =  3.902978\n",
      "F(γ,β):  -2.7781  γ =  6.465938  β =  3.900978\n",
      "F(γ,β):  -2.782  γ =  6.465438  β =  3.898978\n",
      "F(γ,β):  -2.7856  γ =  6.465438  β =  3.896978\n",
      "F(γ,β):  -2.7894  γ =  6.464938  β =  3.894978\n",
      "F(γ,β):  -2.7932  γ =  6.464438  β =  3.892978\n",
      "F(γ,β):  -2.796  γ =  6.463938  β =  3.891478\n",
      "F(γ,β):  -2.7996  γ =  6.463438  β =  3.889478\n",
      "F(γ,β):  -2.8024  γ =  6.462938  β =  3.887978\n",
      "F(γ,β):  -2.8051  γ =  6.462438  β =  3.886478\n",
      "F(γ,β):  -2.8084  γ =  6.462438  β =  3.884478\n",
      "F(γ,β):  -2.8111  γ =  6.461938  β =  3.882978\n",
      "F(γ,β):  -2.8137  γ =  6.461438  β =  3.881478\n",
      "F(γ,β):  -2.8169  γ =  6.461438  β =  3.879478\n",
      "F(γ,β):  -2.8193  γ =  6.461438  β =  3.877978\n",
      "F(γ,β):  -2.8218  γ =  6.460938  β =  3.876478\n",
      "F(γ,β):  -2.8249  γ =  6.460938  β =  3.874478\n",
      "F(γ,β):  -2.8273  γ =  6.460438  β =  3.872978\n",
      "F(γ,β):  -2.8298  γ =  6.459938  β =  3.871478\n",
      "F(γ,β):  -2.8322  γ =  6.459438  β =  3.869978\n",
      "F(γ,β):  -2.8345  γ =  6.458938  β =  3.868478\n",
      "F(γ,β):  -2.8367  γ =  6.458938  β =  3.866978\n",
      "F(γ,β):  -2.839  γ =  6.458438  β =  3.865478\n",
      "F(γ,β):  -2.8412  γ =  6.457938  β =  3.863978\n",
      "F(γ,β):  -2.8433  γ =  6.457938  β =  3.862478\n",
      "F(γ,β):  -2.8446  γ =  6.457938  β =  3.861478\n",
      "F(γ,β):  -2.8468  γ =  6.457438  β =  3.859978\n",
      "F(γ,β):  -2.849  γ =  6.456938  β =  3.858478\n",
      "F(γ,β):  -2.8511  γ =  6.456438  β =  3.856978\n",
      "F(γ,β):  -2.8531  γ =  6.455938  β =  3.855478\n",
      "F(γ,β):  -2.8552  γ =  6.455438  β =  3.853978\n",
      "F(γ,β):  -2.8571  γ =  6.454938  β =  3.852478\n",
      "F(γ,β):  -2.8591  γ =  6.454438  β =  3.850978\n",
      "F(γ,β):  -2.8603  γ =  6.454438  β =  3.849978\n",
      "F(γ,β):  -2.8615  γ =  6.454438  β =  3.848978\n",
      "F(γ,β):  -2.8627  γ =  6.454438  β =  3.847978\n",
      "F(γ,β):  -2.8639  γ =  6.454438  β =  3.846978\n",
      "F(γ,β):  -2.865  γ =  6.454438  β =  3.845978\n",
      "F(γ,β):  -2.8669  γ =  6.453938  β =  3.844478\n",
      "F(γ,β):  -2.8681  γ =  6.453438  β =  3.843478\n",
      "F(γ,β):  -2.8692  γ =  6.453438  β =  3.842478\n",
      "F(γ,β):  -2.8703  γ =  6.453438  β =  3.841478\n",
      "F(γ,β):  -2.8714  γ =  6.453438  β =  3.840478\n",
      "F(γ,β):  -2.8725  γ =  6.452938  β =  3.839478\n",
      "F(γ,β):  -2.8737  γ =  6.452438  β =  3.838478\n",
      "F(γ,β):  -2.8747  γ =  6.452438  β =  3.837478\n",
      "F(γ,β):  -2.8757  γ =  6.452438  β =  3.836478\n",
      "F(γ,β):  -2.8768  γ =  6.451938  β =  3.835478\n",
      "F(γ,β):  -2.8778  γ =  6.451938  β =  3.834478\n",
      "F(γ,β):  -2.8788  γ =  6.451938  β =  3.833478\n",
      "F(γ,β):  -2.8798  γ =  6.451938  β =  3.832478\n",
      "F(γ,β):  -2.8808  γ =  6.451438  β =  3.831478\n",
      "F(γ,β):  -2.8817  γ =  6.451438  β =  3.830478\n",
      "F(γ,β):  -2.8826  γ =  6.451438  β =  3.829478\n",
      "F(γ,β):  -2.8832  γ =  6.450938  β =  3.828978\n",
      "F(γ,β):  -2.8841  γ =  6.450938  β =  3.827978\n",
      "F(γ,β):  -2.885  γ =  6.450938  β =  3.826978\n",
      "F(γ,β):  -2.8855  γ =  6.450438  β =  3.826478\n",
      "F(γ,β):  -2.8863  γ =  6.450438  β =  3.825478\n",
      "F(γ,β):  -2.8872  γ =  6.450438  β =  3.824478\n",
      "F(γ,β):  -2.888  γ =  6.450438  β =  3.823478\n",
      "F(γ,β):  -2.8888  γ =  6.450438  β =  3.822478\n",
      "F(γ,β):  -2.8896  γ =  6.450438  β =  3.821478\n",
      "F(γ,β):  -2.8903  γ =  6.450438  β =  3.820478\n",
      "F(γ,β):  -2.8908  γ =  6.449938  β =  3.819978\n",
      "F(γ,β):  -2.8913  γ =  6.449438  β =  3.819478\n",
      "F(γ,β):  -2.8921  γ =  6.449438  β =  3.818478\n",
      "F(γ,β):  -2.8925  γ =  6.448938  β =  3.817978\n",
      "F(γ,β):  -2.8932  γ =  6.448938  β =  3.816978\n",
      "F(γ,β):  -2.8936  γ =  6.448938  β =  3.816478\n",
      "F(γ,β):  -2.8943  γ =  6.448938  β =  3.815478\n",
      "F(γ,β):  -2.895  γ =  6.448938  β =  3.814478\n",
      "F(γ,β):  -2.8954  γ =  6.448438  β =  3.813978\n",
      "F(γ,β):  -2.8957  γ =  6.448438  β =  3.813478\n",
      "F(γ,β):  -2.8964  γ =  6.448438  β =  3.812478\n",
      "F(γ,β):  -2.8967  γ =  6.448438  β =  3.811978\n",
      "F(γ,β):  -2.8973  γ =  6.448438  β =  3.810978\n",
      "F(γ,β):  -2.8976  γ =  6.448438  β =  3.810478\n",
      "F(γ,β):  -2.8979  γ =  6.448438  β =  3.809978\n",
      "F(γ,β):  -2.8982  γ =  6.448438  β =  3.809478\n",
      "F(γ,β):  -2.8985  γ =  6.448438  β =  3.808978\n",
      "F(γ,β):  -2.8988  γ =  6.448438  β =  3.808478\n",
      "F(γ,β):  -2.8994  γ =  6.448438  β =  3.807478\n",
      "F(γ,β):  -2.8997  γ =  6.447938  β =  3.806978\n",
      "F(γ,β):  -2.9001  γ =  6.447438  β =  3.806478\n",
      "F(γ,β):  -2.9004  γ =  6.447438  β =  3.805978\n",
      "F(γ,β):  -2.9007  γ =  6.447438  β =  3.805478\n",
      "F(γ,β):  -2.901  γ =  6.446938  β =  3.804978\n",
      "F(γ,β):  -2.9012  γ =  6.446938  β =  3.804478\n",
      "F(γ,β):  -2.9015  γ =  6.446438  β =  3.803978\n",
      "F(γ,β):  -2.9018  γ =  6.446438  β =  3.803478\n",
      "F(γ,β):  -2.9021  γ =  6.446438  β =  3.802978\n",
      "F(γ,β):  -2.9023  γ =  6.446438  β =  3.802478\n",
      "F(γ,β):  -2.9026  γ =  6.446438  β =  3.801978\n",
      "F(γ,β):  -2.9028  γ =  6.445938  β =  3.801478\n",
      "F(γ,β):  -2.9031  γ =  6.445938  β =  3.800978\n",
      "F(γ,β):  -2.9033  γ =  6.445938  β =  3.800478\n",
      "F(γ,β):  -2.9033  γ =  6.445938  β =  3.800478\n",
      "\n",
      "-----------------------------------------------------------\n",
      "\n",
      "State  110  Probability:  40.58 %  Energy:  -4.0\n",
      "State  001  Probability:  35.09 %  Energy:  -3.0\n",
      "State  011  Probability:  8.85 %  Energy:  4.5\n",
      "State  000  Probability:  8.19 %  Energy:  -2.5\n",
      "State  100  Probability:  5.41 %  Energy:  -9.5\n",
      "State  101  Probability:  1.01 %  Energy:  2.0\n",
      "State  010  Probability:  0.62 %  Energy:  11.0\n",
      "State  111  Probability:  0.26 %  Energy:  1.5\n"
     ]
    }
   ],
   "source": [
    "epsilon = 0.0001\n",
    "step_size = 0.001\n",
    "delta = 0.0001\n",
    "#-------------------------------------------------------\n",
    "Vert = [ [0,-2.5] , [1,3.25] , [2,1.25] ]\n",
    "Edge = [ [0,1,2],[1,2,1.5],[2,0,-3] ]\n",
    "#-------------------------------------------------------\n",
    "Energies,States = oq.Ising_Energy( Vert,Edge, Transverse=True )\n",
    "EV = 100\n",
    "EV_old = 1000\n",
    "EV_min = 1000\n",
    "#========================================================\n",
    "mixing = 2\n",
    "pp = 1\n",
    "beta = 2*m.pi*random.random()\n",
    "gamma = 2*m.pi*random.random()\n",
    "s = 0\n",
    "while( (abs( EV - EV_old ) > delta) and ( EV < EV_old ) ):\n",
    "    q = QuantumRegister(len(Vert))\n",
    "    qc= QuantumCircuit(q)\n",
    "    for hh in np.arange(len(Vert)):\n",
    "        qc.h( q[int(hh)] )\n",
    "    if( s != 0 ):\n",
    "        beta,gamma = oq.Ising_Gradient_Descent(qc,q,oq.Ising_Circuit,Vert,Edge,beta,gamma,epsilon,Energies,step_size,Transverse=True,Mixing=mixing,p=pp)\n",
    "    oq.Ising_Circuit( qc, q, Vert, Edge, beta, gamma, Transverse=True, Mixing=2 )\n",
    "    EV_old = EV\n",
    "    EV = oq.E_Expectation_Value( qc, Energies )\n",
    "    if( EV < EV_min ):\n",
    "        Params = [beta,gamma]\n",
    "        EV_min = EV\n",
    "    s = int(s+1)\n",
    "    print('F(\\u03B3,\\u03B2): ',EV,' \\u03B3 = ',round(gamma,6),' \\u03B2 = ',round(beta,6),)\n",
    "#========================================================\n",
    "print('\\n-----------------------------------------------------------\\n')\n",
    "q = QuantumRegister(len(Vert))\n",
    "qc= QuantumCircuit(q)\n",
    "for hh in np.arange(len(Vert)):\n",
    "    qc.h( q[int(hh)] )\n",
    "oq.Ising_Circuit( qc, q, Vert, Edge, beta, gamma, Transverse=True, Mixing=mixing,p=pp)\n",
    "SV = oq.execute( qc, S_simulator, shots=1 ).result().get_statevector()\n",
    "oq.Top_States(States,Energies,SV,8)"
   ]
  },
  {
   "cell_type": "code",
   "execution_count": 23,
   "id": "1edd5844-05a3-438b-9815-3739e1440dce",
   "metadata": {},
   "outputs": [
    {
     "name": "stdout",
     "output_type": "stream",
     "text": [
      "F(γ,β):  4.1987  |  γ1 = 4.468872   β1 = 1.164401  γ2 = 6.143078   β2 = 2.831477  steps: 1\n",
      "\n",
      " _____ Terminated Gradient Ascent _____ \n",
      "\n",
      "F(γ,β):  4.1995  |  γ1 = 4.467872 β1 = 1.163401  γ2 = 6.145578 β2 = 2.830977  steps: 2 \n",
      "\n",
      "State  011000  Probability:  6.37 %  Energy:  5.0\n",
      "State  100111  Probability:  6.37 %  Energy:  5.0\n",
      "State  101100  Probability:  5.2 %  Energy:  6.0\n",
      "State  010011  Probability:  5.2 %  Energy:  6.0\n",
      "State  001001  Probability:  5.11 %  Energy:  6.0\n",
      "State  110110  Probability:  5.11 %  Energy:  6.0\n",
      "State  000010  Probability:  4.76 %  Energy:  1.0\n",
      "State  111101  Probability:  4.76 %  Energy:  1.0\n",
      "State  000011  Probability:  2.75 %  Energy:  3.0\n",
      "State  111100  Probability:  2.75 %  Energy:  3.0\n",
      "State  010000  Probability:  2.52 %  Energy:  3.0\n",
      "State  101111  Probability:  2.52 %  Energy:  3.0\n"
     ]
    }
   ],
   "source": [
    "p = 2\n",
    "epsilon = 0.001\n",
    "step_size = 0.01\n",
    "delta = 0.001\n",
    "#-------------------------------------------------------\n",
    "Vert = [ 0,1,2,3,4,5 ]\n",
    "Edge = [ [0,1],[0,2],[0,5],[1,2],[1,3],[2,3],[2,4],[3,5] ]\n",
    "#-------------------------------------------------------\n",
    "Energies,States = oq.MaxCut_Energy( Vert,Edge )\n",
    "EV = -100\n",
    "EV_old = -1000\n",
    "EV_max = -1\n",
    "#========================================================\n",
    "beta = []\n",
    "gamma = []\n",
    "for pp in np.arange(p):\n",
    "    beta.append(2*m.pi*random.random())\n",
    "    gamma.append(2*m.pi*random.random())\n",
    "s = 0\n",
    "while( abs( EV - EV_old ) > delta ):\n",
    "    q = QuantumRegister(len(Vert))\n",
    "    qc= QuantumCircuit(q)\n",
    "    for hh in np.arange(len(Vert)):\n",
    "        qc.h( q[int(hh)] )\n",
    "    if( s != 0 ):\n",
    "        beta,gamma = oq.p_Gradient_Ascent(qc,q,oq.MaxCut_Circuit,Vert,Edge,p,beta,gamma,epsilon,Energies,step_size)\n",
    "    for i in np.arange(p):\n",
    "        oq.MaxCut_Circuit( qc, q, Vert, Edge, beta[i], gamma[i] )\n",
    "#-------------------------------\n",
    "    EV_old = EV\n",
    "    EV = oq.E_Expectation_Value( qc, Energies )\n",
    "    if( EV_old > EV ):\n",
    "        EV_old = EV\n",
    "    if( EV > EV_max ):\n",
    "        Params = [beta,gamma]\n",
    "        EV_max = EV\n",
    "    s = int(s+1)\n",
    "#-------------------------------\n",
    "    if( (m.floor( s/10 ) == s/10) or (s == 1) ):\n",
    "        params_string = ''\n",
    "        for ps in np.arange(p):\n",
    "            params_string = params_string + ' \\u03B3'+str(int(ps+1))+' = '+str(round(gamma[ps],6))+'   \\u03B2'+str(int(ps+1))+' = '+str(round(beta[ps],6)) + ' '\n",
    "        params_string = params_string+' steps: '+str(s)\n",
    "        print('F(\\u03B3,\\u03B2): ',EV,' |',params_string)\n",
    "print('\\n _____ Terminated Gradient Ascent _____ \\n')\n",
    "params_string = ''\n",
    "for ps in np.arange(p):\n",
    "    params_string = params_string + ' \\u03B3'+str(int(ps+1))+' = '+str(round(gamma[ps],6))+' \\u03B2'+str(int(ps+1))+' = '+str(round(beta[ps],6)) + ' '\n",
    "params_string = params_string+' steps: '+str(s)\n",
    "print('F(\\u03B3,\\u03B2): ',EV,' |',params_string,'\\n')\n",
    "#=========================================================\n",
    "beta = Params[0]\n",
    "gamma = Params[1]\n",
    "p = len( Params[0] )\n",
    "#------------------------------\n",
    "q = QuantumRegister(len(Vert))\n",
    "qc= QuantumCircuit(q)\n",
    "for hh in np.arange(len(Vert)):\n",
    "    qc.h( q[int(hh)] )\n",
    "for i in np.arange(p):\n",
    "    oq.MaxCut_Circuit( qc, q, Vert, Edge, beta[i], gamma[i] )\n",
    "SV = oq.execute( qc, S_simulator, shots=1 ).result().get_statevector()\n",
    "oq.Top_States(States,Energies,SV,12)\n"
   ]
  },
  {
   "cell_type": "code",
   "execution_count": 24,
   "id": "6ab18fde-2fe0-440f-acd5-93a970d21e42",
   "metadata": {
    "tags": []
   },
   "outputs": [
    {
     "name": "stdout",
     "output_type": "stream",
     "text": [
      "Energy Expectation Value:  5.2934  γ =  5.6549  β =  0.6912 \n",
      "\n"
     ]
    },
    {
     "data": {
      "image/png": "[encoded data removed]",
      "text/plain": [
       "<Figure size 640x480 with 2 Axes>"
      ]
     },
     "metadata": {},
     "output_type": "display_data"
    },
    {
     "name": "stdout",
     "output_type": "stream",
     "text": [
      "State  100110  Probability:  9.0 %  Energy:  7.0\n",
      "State  011001  Probability:  9.0 %  Energy:  7.0\n",
      "State  101100  Probability:  5.55 %  Energy:  6.0\n",
      "State  010011  Probability:  5.55 %  Energy:  6.0\n",
      "State  001001  Probability:  3.9 %  Energy:  6.0\n",
      "State  110110  Probability:  3.9 %  Energy:  6.0\n",
      "State  100100  Probability:  3.39 %  Energy:  6.0\n",
      "State  011011  Probability:  3.39 %  Energy:  6.0\n",
      "State  010110  Probability:  2.92 %  Energy:  5.0\n",
      "State  101001  Probability:  2.92 %  Energy:  5.0\n",
      "State  110010  Probability:  2.92 %  Energy:  5.0\n",
      "State  001101  Probability:  2.92 %  Energy:  5.0\n"
     ]
    }
   ],
   "source": [
    "size = 100\n",
    "#-------------------------------------------------------\n",
    "Vert = [ 0,1,2,3,4,5 ]\n",
    "Edge = [ [0,1],[0,2],[0,5],[1,2],[1,3],[2,3],[2,4],[3,5] ]\n",
    "#-------------------------------------------------------\n",
    "Energies,States = oq.MaxCut_Energy( Vert,Edge )\n",
    "EV_grid = np.zeros(shape=(size,size))\n",
    "EV_max = -1\n",
    "#========================================================\n",
    "for b in np.arange(size):\n",
    "    beta = round(2*m.pi*(b/size),4)\n",
    "    for g in np.arange(size):\n",
    "        gamma = round(2*m.pi*(g/size),4)\n",
    "        q = QuantumRegister(len(Vert))\n",
    "        qc= QuantumCircuit(q)\n",
    "        for hh in np.arange(len(Vert)):\n",
    "            qc.h( q[int(hh)] )\n",
    "        oq.MaxCut_Circuit( qc, q, Vert, Edge, beta, gamma )\n",
    "        EV = oq.E_Expectation_Value( qc, Energies )\n",
    "        EV_grid[b,g] = EV\n",
    "        if( EV > EV_max ):\n",
    "            Params = [beta,gamma]\n",
    "            EV_max = EV\n",
    "print('Energy Expectation Value: ',EV_max,' \\u03B3 = ',Params[1],' \\u03B2 = ',Params[0],'\\n')\n",
    "#--------------------------------------\n",
    "fig, ax = plt.subplots()\n",
    "show_text = False\n",
    "show_ticks = False\n",
    "oq.Heatmap(EV_grid, show_text, show_ticks, ax, \"plasma\", \"Energy Expectation Value\")\n",
    "fig.tight_layout()\n",
    "plt.show()\n",
    "#======================================\n",
    "beta = Params[0]\n",
    "gamma = Params[1]\n",
    "#--------------------------------------\n",
    "q = QuantumRegister(len(Vert))\n",
    "qc= QuantumCircuit(q)\n",
    "for hh in np.arange(len(Vert)):\n",
    "    qc.h( q[int(hh)] )\n",
    "oq.MaxCut_Circuit( qc, q, Vert, Edge, beta, gamma )\n",
    "SV = oq.execute( qc, S_simulator, shots=1 ).result().get_statevector()\n",
    "oq.Top_States(States,Energies,SV,12)"
   ]
  },
  {
   "cell_type": "code",
   "execution_count": null,
   "id": "a9e83215-51ab-46c2-aeb1-49d5b33beb47",
   "metadata": {},
   "outputs": [],
   "source": []
  }
 ],
 "metadata": {
  "kernelspec": {
   "display_name": "Python 3 (ipykernel)",
   "language": "python",
   "name": "python3"
  },
  "language_info": {
   "codemirror_mode": {
    "name": "ipython",
    "version": 3
   },
   "file_extension": ".py",
   "mimetype": "text/x-python",
   "name": "python",
   "nbconvert_exporter": "python",
   "pygments_lexer": "ipython3",
   "version": "3.11.5"
  }
 },
 "nbformat": 4,
 "nbformat_minor": 5
}

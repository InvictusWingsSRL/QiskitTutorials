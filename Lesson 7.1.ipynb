{
 "cells": [
  {
   "cell_type": "code",
   "execution_count": 1,
   "id": "76132ea5-add7-473a-8741-6814cead0271",
   "metadata": {
    "tags": []
   },
   "outputs": [],
   "source": [
    "from qiskit import ClassicalRegister, QuantumRegister, QuantumCircuit, transpile, qasm2, qasm3\n",
    "from qiskit_aer import Aer\n",
    "from qiskit.primitives import BackendSampler\n",
    "import Our_Qiskit_Functions as oq\n",
    "import numpy as np\n",
    "import math as m\n",
    "import random"
   ]
  },
  {
   "cell_type": "code",
   "execution_count": 2,
   "id": "3cc804b8-1c9f-47b7-b806-51f79f9a6e82",
   "metadata": {
    "tags": []
   },
   "outputs": [
    {
     "name": "stdout",
     "output_type": "stream",
     "text": [
      "Solution:  4 \n",
      " M:  [5, 12, 17, 21]\n"
     ]
    }
   ],
   "source": [
    "def f(x):\n",
    "    if( (x==5) or (x==12) or (x==17) or (x==21) ):\n",
    "        return 1\n",
    "    else:\n",
    "        return 0\n",
    "#=====================================\n",
    "N = [2,5,8,12,13,17,21,24,30,31,32,39]\n",
    "count = 0\n",
    "M = []\n",
    "#--------------------------\n",
    "for i in np.arange(len(N)):\n",
    "    if( f(N[i])==1 ):\n",
    "        count = count + 1\n",
    "        M.append( N[i] )\n",
    "print('Solution: ',count,'\\n M: ',M)"
   ]
  },
  {
   "cell_type": "code",
   "execution_count": 3,
   "id": "d278f598-564d-4438-801b-040bf841e469",
   "metadata": {
    "tags": []
   },
   "outputs": [
    {
     "name": "stdout",
     "output_type": "stream",
     "text": [
      "0.17678  |000>   0.17678  |100>   -0.53033  |010>   -0.53033  |110>   0.17678  |001>   0.17678  |101>   -0.53033  |011>   0.17678  |111>   \n"
     ]
    }
   ],
   "source": [
    "marked = ['010','011','110']\n",
    "Q = len(marked[0])\n",
    "iters = 1\n",
    "#=========================================\n",
    "q = QuantumRegister(Q,name='q')\n",
    "a1 = QuantumRegister(1,name='a1')\n",
    "a2 = QuantumRegister(Q-2,name='a2')\n",
    "qc = QuantumCircuit(q,a1,a2,name='qc')\n",
    "#------------------------------------------\n",
    "for j in np.arange(Q):\n",
    "    qc.h( q[int(j)] )\n",
    "qc.x( a1[0] )\n",
    "\n",
    "for i in np.arange( iters ):\n",
    "    for j in np.arange(len(marked)):\n",
    "        M = list(marked[j])\n",
    "        for k in np.arange(len(M)):\n",
    "            if(M[k]=='1'):\n",
    "                M[k] = 1\n",
    "            else:\n",
    "                M[k] = 0\n",
    "        oq.Grover_Oracle(M, qc, q, a1, a2)\n",
    "    oq.Grover_Diffusion(M, qc, q, a1, a2)\n",
    "\n",
    "oq.Wavefunction(qc,systems=[Q,Q-2,1],show_systems=[True,False,False]);"
   ]
  },
  {
   "cell_type": "code",
   "execution_count": 4,
   "id": "d079361b-303e-427c-9b26-ddde99e3abe8",
   "metadata": {
    "tags": []
   },
   "outputs": [
    {
     "name": "stdout",
     "output_type": "stream",
     "text": [
      "-0.44194  |000>   -0.44194  |100>   -0.08839  |010>   -0.08839  |110>   -0.44194  |001>   -0.44194  |101>   -0.08839  |011>   -0.44194  |111>   \n"
     ]
    }
   ],
   "source": [
    "marked = ['010','011','110']\n",
    "Q = len(marked[0])\n",
    "iters = 2\n",
    "#=========================================\n",
    "q = QuantumRegister(Q,name='q')\n",
    "a1 = QuantumRegister(1,name='a1')\n",
    "a2 = QuantumRegister(Q-2,name='a2')\n",
    "qc = QuantumCircuit(q,a1,a2,name='qc')\n",
    "#------------------------------------------\n",
    "for j in np.arange(Q):\n",
    "    qc.h( q[int(j)] )\n",
    "qc.x( a1[0] )\n",
    "\n",
    "qc,q,a1,a2 = oq.Multi_Grover(q,a1,a2,qc,marked,iters)\n",
    "\n",
    "oq.Wavefunction(qc,systems=[Q,Q-2,1],show_systems=[True,False,False]);"
   ]
  },
  {
   "cell_type": "code",
   "execution_count": 5,
   "id": "4fbd11ba-f245-4bba-8e3d-b6d8b8ed3a6b",
   "metadata": {
    "tags": []
   },
   "outputs": [
    {
     "name": "stdout",
     "output_type": "stream",
     "text": [
      "0.00276  |00000>   \n",
      "0.00276  |10000>   \n",
      "0.00276  |01000>   \n",
      "0.00276  |11000>   \n",
      "0.00276  |00100>   \n",
      "0.00276  |10100>   \n",
      "0.57729  |01100>   \n",
      "0.00276  |11100>   \n",
      "0.00276  |00010>   \n",
      "0.00276  |10010>   \n",
      "0.57729  |01010>   \n",
      "0.00276  |11010>   \n",
      "0.00276  |00110>   \n",
      "0.00276  |10110>   \n",
      "0.00276  |01110>   \n",
      "0.00276  |11110>   \n",
      "0.00276  |00001>   \n",
      "0.00276  |10001>   \n",
      "0.00276  |01001>   \n",
      "0.00276  |11001>   \n",
      "0.57729  |00101>   \n",
      "0.00276  |10101>   \n",
      "0.00276  |01101>   \n",
      "0.00276  |11101>   \n",
      "0.00276  |00011>   \n",
      "0.00276  |10011>   \n",
      "0.00276  |01011>   \n",
      "0.00276  |11011>   \n",
      "0.00276  |00111>   \n",
      "0.00276  |10111>   \n",
      "0.00276  |01111>   \n",
      "0.00276  |11111>   \n",
      "\n"
     ]
    }
   ],
   "source": [
    "marked = ['01010','01100','00101']\n",
    "Q = len(marked[0])\n",
    "iters = 2\n",
    "#=========================================\n",
    "q = QuantumRegister(Q,name='q')\n",
    "a1 = QuantumRegister(1,name='a1')\n",
    "a2 = QuantumRegister(Q-2,name='a2')\n",
    "qc = QuantumCircuit(q,a1,a2,name='qc')\n",
    "#------------------------------------------\n",
    "for j in np.arange(Q):\n",
    "    qc.h( q[int(j)] )\n",
    "qc.x( a1[0] )\n",
    "qc,q,a1,a2 = oq.Multi_Grover(q,a1,a2,qc,marked,iters)\n",
    "oq.Wavefunction(qc,systems=[Q,Q-2,1],show_systems=[True,False,False],column=True);"
   ]
  },
  {
   "cell_type": "code",
   "execution_count": 6,
   "id": "db9a9ef2-90ac-4a57-a314-356eb33ec7f8",
   "metadata": {
    "tags": []
   },
   "outputs": [
    {
     "name": "stdout",
     "output_type": "stream",
     "text": [
      "Average Trials to Find Each State:   \n",
      "\n",
      "1)  1.0    2) 2.249    3) 3.919    4) 6.425    5) 11.429\n"
     ]
    }
   ],
   "source": [
    "runs = 100000\n",
    "Avgs = [0,0,0,0,0]\n",
    "#=======================================\n",
    "for r in np.arange(runs):\n",
    "    Measured = []\n",
    "    Trials = []\n",
    "    t = 0\n",
    "    while( len(Measured) != 5 ):\n",
    "        Measurement = round( 0.500000001+ random.random()*5 )\n",
    "        t = t + 1\n",
    "        new_state = True\n",
    "        for i in np.arange( len(Measured) ):\n",
    "            if( Measurement == Measured[i] ):\n",
    "                new_state = False\n",
    "        if(new_state == True):\n",
    "            Measured.append(Measurement)\n",
    "            Trials.append(t)\n",
    "    for i in np.arange(5):\n",
    "        Avgs[i] = Avgs[i] + Trials[i]\n",
    "#=======================================\n",
    "for j in np.arange(5):\n",
    "    Avgs[j] = round(Avgs[j]/runs,3)\n",
    "    \n",
    "print('Average Trials to Find Each State:   \\n\\n1) ', Avgs[0], '   2)',Avgs[1], '   3)',Avgs[2], '   4)',Avgs[3], '   5)',Avgs[4]); "
   ]
  },
  {
   "cell_type": "code",
   "execution_count": 7,
   "id": "117f6df8-df21-4cd4-b9c7-e2e673529ae3",
   "metadata": {
    "tags": []
   },
   "outputs": [
    {
     "name": "stdout",
     "output_type": "stream",
     "text": [
      "\n",
      "___ Initial State ___\n",
      "1.0  |00>   \n",
      "\n",
      "___ After Control-Hadamard ___\n",
      "1.0  |00>   \n",
      "\n",
      "------------------------------------\n",
      "\n",
      "___ Initial State ___\n",
      "1.0  |01>   \n",
      "\n",
      "___ After Control-Hadamard ___\n",
      "1.0  |01>   \n",
      "\n",
      "------------------------------------\n",
      "\n",
      "___ Initial State ___\n",
      "1.0  |10>   \n",
      "\n",
      "___ After Control-Hadamard ___\n",
      "0.70711  |10>   0.70711  |11>   \n",
      "\n",
      "------------------------------------\n",
      "\n",
      "___ Initial State ___\n",
      "1.0  |11>   \n",
      "\n",
      "___ After Control-Hadamard ___\n",
      "0.70711  |10>   -0.70711  |11>   \n"
     ]
    }
   ],
   "source": [
    "for i in np.arange(4):\n",
    "    q = QuantumRegister(2,name='q')\n",
    "    qc= QuantumCircuit(q,name='qc')\n",
    "    if( (i == 1) or (i == 3) ):\n",
    "        qc.x( q[1] )\n",
    "    if( (i == 2) or (i == 3) ):\n",
    "        qc.x( q[0] )\n",
    "    \n",
    "    print('\\n___ Initial State ___')\n",
    "    oq.Wavefunction(qc)\n",
    "    qc.ch( q[0],q[1] )\n",
    "    print('\\n___ After Control-Hadamard ___')\n",
    "    oq.Wavefunction(qc)\n",
    "    \n",
    "    if( i <= 2):\n",
    "        print('\\n------------------------------------')"
   ]
  },
  {
   "cell_type": "code",
   "execution_count": 8,
   "id": "f0ed1c42-a186-4cec-807d-0bef429f86f3",
   "metadata": {
    "tags": []
   },
   "outputs": [
    {
     "name": "stdout",
     "output_type": "stream",
     "text": [
      "__ Initial State __\n",
      "0.5  |00>   0.5  |10>   0.5  |01>   0.5  |11>   \n",
      "\n",
      "__ After Grovers __\n",
      "-1.0  |10>   \n"
     ]
    }
   ],
   "source": [
    "q = QuantumRegister(2,name='q')\n",
    "a = QuantumRegister(1,name='a')\n",
    "qc= QuantumCircuit(q,a,name='qc')\n",
    "#--------------------------------\n",
    "qc.h( q[0] )\n",
    "qc.h( q[1] )\n",
    "print('__ Initial State __')\n",
    "oq.Wavefunction(qc,systems=[2,1],show_systems=[True,False])\n",
    "qc.x( a[0] )\n",
    "qc.h( a[0] )\n",
    "#------------------------- Oracle\n",
    "qc.barrier()\n",
    "qc.x( q[1] )\n",
    "qc.ccx( q[0],q[1],a[0] )\n",
    "qc.x( q[1] )\n",
    "#------------------------- Diffusion\n",
    "qc.barrier()\n",
    "qc.h( q[0] )\n",
    "qc.h( q[1] )\n",
    "qc.x( q[0] )\n",
    "qc.x( q[1] )\n",
    "qc.ccx( q[0],q[1],a[0] )\n",
    "qc.x( q[0] )\n",
    "qc.x( q[1] )\n",
    "qc.h( q[0] )\n",
    "qc.h( q[1] )\n",
    "qc.barrier()\n",
    "qc.h( a[0] )\n",
    "qc.x( a[0] )\n",
    "print('\\n__ After Grovers __')\n",
    "oq.Wavefunction(qc,systems=[2,1],show_systems=[True,False]);"
   ]
  },
  {
   "cell_type": "code",
   "execution_count": 9,
   "id": "280e144c-41d5-4895-948b-9e6a416c2d51",
   "metadata": {
    "tags": []
   },
   "outputs": [
    {
     "data": {
      "image/png": "[encoded data removed]",
      "text/plain": [
       "<Figure size 1374.24x284.278 with 1 Axes>"
      ]
     },
     "execution_count": 9,
     "metadata": {},
     "output_type": "execute_result"
    }
   ],
   "source": [
    "qc.draw('mpl')"
   ]
  },
  {
   "cell_type": "code",
   "execution_count": 10,
   "id": "ea9d0c7b-2981-4682-8b01-ab5f1fdcfe83",
   "metadata": {
    "tags": []
   },
   "outputs": [
    {
     "name": "stdout",
     "output_type": "stream",
     "text": [
      "__ Initial State __\n",
      "0.5  |1>|00>   0.5  |1>|10>   0.5  |1>|01>   0.5  |1>|11>   \n",
      "\n",
      "__ After c-Grovers __\n",
      "-1.0  |1>|10>   \n"
     ]
    }
   ],
   "source": [
    "c = QuantumRegister(1,name='c')\n",
    "q = QuantumRegister(2,name='q')\n",
    "a1 = QuantumRegister(1,name='a1')\n",
    "a2 = QuantumRegister(1,name='a2')\n",
    "qc= QuantumCircuit(c,q,a1,a2,name='qc')\n",
    "qc.x( c[0] )\n",
    "qc.ch( c[0], q[0] )\n",
    "qc.ch( c[0], q[1] )\n",
    "print('__ Initial State __')\n",
    "oq.Wavefunction(qc,systems=[1,2,1,1],show_systems=[True,True,False,False])\n",
    "qc.cx( c[0], a2[0] )\n",
    "qc.ch( c[0], a2[0] )\n",
    "#------------------------- Oracle\n",
    "qc.barrier()\n",
    "qc.cx( c[0], q[1] )\n",
    "qc.ccx( q[0], q[1], a1[0] )\n",
    "qc.ccx( c[0], a1[0], a2[0] )\n",
    "qc.ccx( q[0], q[1], a1[0] )\n",
    "qc.cx( c[0], q[1] )\n",
    "#------------------------- Diffusion\n",
    "qc.barrier()\n",
    "qc.ch( c[0], q[0] )\n",
    "qc.ch( c[0], q[1] )\n",
    "qc.cx( c[0], q[0] )\n",
    "qc.cx( c[0], q[1] )\n",
    "qc.ccx( q[0], q[1], a1[0] )\n",
    "qc.ccx( c[0], a1[0], a2[0] )\n",
    "qc.ccx( q[0], q[1], a1[0] )\n",
    "qc.cx( c[0], q[0] )\n",
    "qc.cx( c[0], q[1] )\n",
    "qc.ch( c[0], q[0] )\n",
    "qc.ch( c[0], q[1] )\n",
    "qc.barrier()\n",
    "qc.ch( c[0], a2[0] )\n",
    "qc.cx( c[0], a2[0] )\n",
    "print('\\n__ After c-Grovers __')\n",
    "oq.Wavefunction(qc,systems=[1,2,1,1],show_systems=[True,True,False,False]);"
   ]
  },
  {
   "cell_type": "code",
   "execution_count": 11,
   "id": "4f4f49ba-fb52-4df4-afc7-de16e42aa9f4",
   "metadata": {
    "tags": []
   },
   "outputs": [
    {
     "data": {
      "image/png": "[encoded data removed]",
      "text/plain": [
       "<Figure size 2210.35x953.167 with 1 Axes>"
      ]
     },
     "execution_count": 11,
     "metadata": {},
     "output_type": "execute_result"
    }
   ],
   "source": [
    "qc.draw('mpl')"
   ]
  },
  {
   "cell_type": "code",
   "execution_count": 12,
   "id": "feb2b6e9-eb98-4c2c-bb5d-082f01294603",
   "metadata": {
    "tags": []
   },
   "outputs": [
    {
     "name": "stdout",
     "output_type": "stream",
     "text": [
      "0.35355  |000>   0.35355  |100>   0.35355  |010>   0.35355  |110>   0.35355  |001>   0.35355  |101>   0.35355  |011>   0.35355  |111>   \n",
      "\n",
      "____ Grover Iterations:  1  ____\n",
      "-0.17678  |000>   -0.17678  |100>   -0.17678  |010>   -0.17678  |110>   -0.17678  |001>   -0.88388  |101>   -0.17678  |011>   -0.17678  |111>   \n",
      "\n",
      "____ Grover Iterations:  2  ____\n",
      "-0.08839  |000>   -0.08839  |100>   -0.08839  |010>   -0.08839  |110>   -0.08839  |001>   0.97227  |101>   -0.08839  |011>   -0.08839  |111>   \n"
     ]
    }
   ],
   "source": [
    "q = QuantumRegister(3,name='q')\n",
    "a1= QuantumRegister(1,name='a1')\n",
    "a2= QuantumRegister(1,name='a2')\n",
    "qc= QuantumCircuit(q,a1,a2,name='qc')\n",
    "marked = [1,0,1]\n",
    "for i in np.arange(3):\n",
    "    qc.h( q[int(i)] )\n",
    "qc.x( a1[0] )\n",
    "oq.Wavefunction(qc, systems=[3,1,1], show_systems=[True,False,False])\n",
    "for i in np.arange(2):\n",
    "    oq.Grover_Oracle(marked, qc, q, a1, a2)\n",
    "    oq.Grover_Diffusion(marked, qc, q, a1, a2)\n",
    "    print('\\n____ Grover Iterations: ',int(i+1),' ____')\n",
    "    oq.Wavefunction(qc, systems=[3,1,1], show_systems=[True,False,False])"
   ]
  },
  {
   "cell_type": "code",
   "execution_count": 13,
   "id": "7bac7f23-3d6c-4b72-b79a-00091b97a43b",
   "metadata": {
    "tags": []
   },
   "outputs": [
    {
     "name": "stdout",
     "output_type": "stream",
     "text": [
      "_____ 1 Grover Iteration M = 3 _____ \n",
      "0.17678  |000>   0.17678  |100>   0.17678  |010>   -0.53033  |110>   0.17678  |001>   -0.53033  |101>   0.17678  |011>   -0.53033  |111>   \n"
     ]
    }
   ],
   "source": [
    "marked = ['101','110','111']\n",
    "Q = len(marked[0])\n",
    "iters = 1\n",
    "#=========================================\n",
    "q = QuantumRegister(Q,name='q')\n",
    "a1 = QuantumRegister(1,name='a1')\n",
    "a2 = QuantumRegister(Q-2,name='a2')\n",
    "qc = QuantumCircuit(q,a1,a2,name='qc')\n",
    "#------------------------------------------\n",
    "for j in np.arange(Q):\n",
    "    qc.h( q[int(j)] )\n",
    "qc.x( a1[0] )\n",
    "qc,q,a1,a2 = oq.Multi_Grover(q,a1,a2,qc,marked,iters)\n",
    "print('_____ 1 Grover Iteration M = 3 _____ ')\n",
    "oq.Wavefunction(qc,systems=[Q,Q-2,1],show_systems=[True,False,False]);"
   ]
  },
  {
   "cell_type": "code",
   "execution_count": 14,
   "id": "75fbe624-65d9-4019-90cd-7bf14d5e3f47",
   "metadata": {},
   "outputs": [
    {
     "name": "stdout",
     "output_type": "stream",
     "text": [
      "N:  32  M:  2  Optimal Iterations:  3 \n",
      "\n",
      "\n",
      "0.03591  |00000>   \n",
      "0.03591  |10000>   \n",
      "0.03591  |01000>   \n",
      "-0.6933  |11000>   \n",
      "0.03591  |00100>   \n",
      "0.03591  |10100>   \n",
      "0.03591  |01100>   \n",
      "0.03591  |11100>   \n",
      "0.03591  |00010>   \n",
      "0.03591  |10010>   \n",
      "0.03591  |01010>   \n",
      "0.03591  |11010>   \n",
      "0.03591  |00110>   \n",
      "0.03591  |10110>   \n",
      "0.03591  |01110>   \n",
      "0.03591  |11110>   \n",
      "0.03591  |00001>   \n",
      "0.03591  |10001>   \n",
      "0.03591  |01001>   \n",
      "0.03591  |11001>   \n",
      "0.03591  |00101>   \n",
      "0.03591  |10101>   \n",
      "0.03591  |01101>   \n",
      "0.03591  |11101>   \n",
      "0.03591  |00011>   \n",
      "0.03591  |10011>   \n",
      "0.03591  |01011>   \n",
      "0.03591  |11011>   \n",
      "0.03591  |00111>   \n",
      "-0.6933  |10111>   \n",
      "0.03591  |01111>   \n",
      "0.03591  |11111>   \n",
      "\n"
     ]
    }
   ],
   "source": [
    "marked = ['10111','11000']\n",
    "Q = len(marked[0])\n",
    "N = 2**Q\n",
    "M = len(marked)\n",
    "iters = int(round( (m.pi/2 - np.arctan( m.sqrt( M/(N-M) ) ) ) / ( 2 * np.arcsin( m.sqrt(M/N) ) ) ) )\n",
    "print('N: ',N,' M: ',M,' Optimal Iterations: ',iters,'\\n\\n')\n",
    "#=========================================\n",
    "q = QuantumRegister(Q,name='q')\n",
    "a1 = QuantumRegister(1,name='a1')\n",
    "a2 = QuantumRegister(Q-2,name='a2')\n",
    "qc = QuantumCircuit(q,a1,a2,name='qc')\n",
    "#------------------------------------------\n",
    "for j in np.arange(Q):\n",
    "    qc.h( q[int(j)] )\n",
    "qc.x( a1[0] )\n",
    "\n",
    "qc,q,a1,a2 = oq.Multi_Grover(q,a1,a2,qc,marked,iters)\n",
    "oq.Wavefunction(qc,systems=[Q,Q-2,1],show_systems=[True,False,False],column=True);"
   ]
  },
  {
   "cell_type": "code",
   "execution_count": 15,
   "id": "ad6ab5a0-3528-41fd-985c-b8a2adfe0a7b",
   "metadata": {
    "tags": []
   },
   "outputs": [
    {
     "name": "stdout",
     "output_type": "stream",
     "text": [
      "0.31623j |000>   0.31623j |100>   0.31623j |010>   0.40825  |110>   0.31623j |001>   0.40825  |101>   0.31623j |011>   0.40825  |111>   \n"
     ]
    }
   ],
   "source": [
    "E_plus = [ 1.0j/m.sqrt(10),1.0j/m.sqrt(10),1.0j/m.sqrt(10),1.0/m.sqrt(6),\n",
    "          1.0j/m.sqrt(10),1.0/m.sqrt(6),1.0j/m.sqrt(10),1.0/m.sqrt(6) ]\n",
    "#=========================================================================\n",
    "q = QuantumRegister(3,name='q')\n",
    "qc= QuantumCircuit(q,name='qc')\n",
    "#------------------------------\n",
    "qc.initialize( E_plus, q )\n",
    "oq.Wavefunction( qc );"
   ]
  },
  {
   "cell_type": "code",
   "execution_count": 16,
   "id": "e43959fd-31c9-40da-91bf-b7b750f3882b",
   "metadata": {
    "tags": []
   },
   "outputs": [
    {
     "name": "stdout",
     "output_type": "stream",
     "text": [
      "7029|010>   1687|001>   434|011>   280|000>   149|111>   175|100>   129|101>   117|110>   \n"
     ]
    }
   ],
   "source": [
    "Marked = ['101','110','111']\n",
    "Q = len(Marked[0])\n",
    "E_plus = [ 1.0j/m.sqrt(10),1.0j/m.sqrt(10),1.0j/m.sqrt(10),1.0/m.sqrt(6),\n",
    "          1.0j/m.sqrt(10),1.0/m.sqrt(6),1.0j/m.sqrt(10),1.0/m.sqrt(6) ]\n",
    "#========================================================================\n",
    "q = QuantumRegister(Q,name='q')\n",
    "u = QuantumRegister(Q,name='u')\n",
    "a1 = QuantumRegister(Q-1,name='a1')\n",
    "a2 = QuantumRegister(1,name='a2')\n",
    "c = ClassicalRegister(Q,name='c')\n",
    "qc= QuantumCircuit(q,u,a1,a2,c,name='qc')\n",
    "#------------------------------------\n",
    "qc.h( q[0] )\n",
    "qc.h( q[1] )\n",
    "qc.h( q[2] )\n",
    "qc.initialize(E_plus,u)\n",
    "qc.x( a2[0] )\n",
    "qc.h( a2[0] )\n",
    "#-------------------------\n",
    "for i in np.arange(Q):\n",
    "    for j in np.arange(2**i):\n",
    "        oq.C_Grover(qc,q[int(3-(i+1))],u,a1,a2,Marked,proper=True)\n",
    "#-------------------------\n",
    "qc.h( a2[0] )\n",
    "qc.x( a2[0] )\n",
    "oq.QFT_dgr( qc,q,3,swap=True )\n",
    "#--------------------------\n",
    "qc.measure(q,c)\n",
    "oq.Measurement( qc, shots=10000 );"
   ]
  },
  {
   "cell_type": "code",
   "execution_count": 17,
   "id": "f584bbcc-8b8c-4bb7-8c13-0fa783d04508",
   "metadata": {
    "tags": []
   },
   "outputs": [],
   "source": [
    "#qc.draw('mpl')"
   ]
  },
  {
   "cell_type": "code",
   "execution_count": 18,
   "id": "88ff9511-0347-4c53-9aaa-3e0805aa313d",
   "metadata": {
    "tags": []
   },
   "outputs": [
    {
     "name": "stdout",
     "output_type": "stream",
     "text": [
      "7056|110>   474|101>   1602|111>   284|000>   129|011>   204|100>   111|010>   140|001>   \n"
     ]
    }
   ],
   "source": [
    "Marked = ['101','110','111']\n",
    "Q = len(Marked[0])\n",
    "E_minus = [ -1.0j/m.sqrt(10),-1.0j/m.sqrt(10),-1.0j/m.sqrt(10),1.0/m.sqrt(6),\n",
    "           -1.0j/m.sqrt(10),1.0/m.sqrt(6),-1.0j/m.sqrt(10),1.0/m.sqrt(6) ]\n",
    "#========================================================================\n",
    "q = QuantumRegister(Q,name='q')\n",
    "u = QuantumRegister(Q,name='u')\n",
    "a1 = QuantumRegister(Q-1,name='a1')\n",
    "a2 = QuantumRegister(1,name='a2')\n",
    "c = ClassicalRegister(Q,name='c')\n",
    "qc= QuantumCircuit(q,u,a1,a2,c,name='qc')\n",
    "#------------------------------------\n",
    "qc.h( q[0] )\n",
    "qc.h( q[1] )\n",
    "qc.h( q[2] )\n",
    "qc.initialize(E_minus,u)\n",
    "qc.x( a2[0] )\n",
    "qc.h( a2[0] )\n",
    "#-------------------------\n",
    "for i in np.arange(Q):\n",
    "    for j in np.arange(2**i):\n",
    "        oq.C_Grover(qc,q[int(3-(i+1))],u,a1,a2,Marked,proper=True)\n",
    "#-------------------------\n",
    "qc.h( a2[0] )\n",
    "qc.x( a2[0] )\n",
    "oq.QFT_dgr( qc,q,3,swap=True )\n",
    "#--------------------------\n",
    "qc.measure(q,c)\n",
    "oq.Measurement( qc, shots=10000 );"
   ]
  },
  {
   "cell_type": "code",
   "execution_count": 19,
   "id": "72c5158d-4ee8-480e-9462-82acbb664987",
   "metadata": {
    "tags": []
   },
   "outputs": [
    {
     "name": "stdout",
     "output_type": "stream",
     "text": [
      "\n",
      "___ QPE for Theta =  0.79  ___\n",
      "7072|110>   1584|111>   141|001>   118|011>   121|010>   484|101>   182|100>   298|000>   \n",
      "\n",
      "___ QPE for Theta =  -0.79  ___\n",
      "7121|010>   1593|001>   117|101>   150|111>   443|011>   199|100>   277|000>   100|110>   \n"
     ]
    }
   ],
   "source": [
    "theta_vec = [0.79,-0.79]\n",
    "for i in np.arange(len(theta_vec)):\n",
    "    theta = theta_vec[i]\n",
    "    n = 3\n",
    "#=====================================\n",
    "    q1 = QuantumRegister(n,name='q1')\n",
    "    q2 = QuantumRegister(1,name='q2')\n",
    "    c = ClassicalRegister(n,name='c')\n",
    "    qc = QuantumCircuit(q1,q2,c,name='qc')\n",
    "#--------------------------------------\n",
    "    for i in np.arange(n):\n",
    "        qc.h(q1[int(i)])\n",
    "    qc.x( q2[0] )\n",
    "    phi = 2*m.pi*theta\n",
    "    for j in np.arange(n):\n",
    "        for k in np.arange(2**j):\n",
    "            qc.cp( phi, q1[int(n-1-j)], q2[0] )\n",
    "    oq.QFT_dgr( qc,q1,n,swap=True )\n",
    "#--------------------------------------\n",
    "    print('\\n___ QPE for Theta = ',theta,' ___')\n",
    "    qc.measure(q1,c)\n",
    "    oq.Measurement( qc, shots=10000, systems=[n,2] )"
   ]
  },
  {
   "cell_type": "code",
   "execution_count": 20,
   "id": "12d9712b-3851-49cc-ac11-b5f202075920",
   "metadata": {
    "tags": []
   },
   "outputs": [
    {
     "name": "stdout",
     "output_type": "stream",
     "text": [
      "6|110011>   62|001000>   1|101010>   4|001111>   4772|001001>   4745|110111>   96|110110>   13|000110>   4|010000>   25|110101>   5|001101>   4|110000>   19|001011>   85|001010>   2|110001>   7|001100>   3|101111>   1|000011>   57|111000>   6|001110>   3|110010>   3|111100>   15|111001>   15|000111>   1|010001>   14|110100>   5|111110>   1|011101>   1|101000>   7|000101>   7|111010>   1|000010>   1|000000>   1|111011>   1|100100>   1|100000>   1|010101>   2|000100>   1|111111>   1|000001>   1|011000>   \n",
      "\n",
      "Correct M:  3  θ:  0.14255\n",
      "\n",
      "Most Probable State: |001001> ----> θ:  0.1406\n",
      "\n",
      "Interpretting Measurement as θ:  0.1406  Corresponding M:  3\n"
     ]
    }
   ],
   "source": [
    "Precision = 6\n",
    "Grover_Size = 4\n",
    "#---------------\n",
    "D = 2**Precision\n",
    "N = 2**Grover_Size\n",
    "M = int(1 + (2**Grover_Size-2)*random.random() )\n",
    "#M = 1\n",
    "\n",
    "Marked = []\n",
    "for m1 in np.arange(2**Grover_Size):\n",
    "    Marked.append( oq.Binary(int(m1),2**Grover_Size) )\n",
    "random.shuffle(Marked)\n",
    "for m2 in np.arange( (int(2**Grover_Size)-M) ):\n",
    "    Marked.pop()\n",
    "\n",
    "#Marked.append(oq.Binary(1,2**Grover_Size))\n",
    "\n",
    "#=========================================\n",
    "q = QuantumRegister(Precision,name='q')\n",
    "u = QuantumRegister(Grover_Size,name='u')\n",
    "a1 = QuantumRegister(Grover_Size-1,name='a1')\n",
    "a2 = QuantumRegister(1,name='a2')\n",
    "c = ClassicalRegister(Precision,name='c')\n",
    "qc= QuantumCircuit(q,u,a1,a2,c,name='qc')\n",
    "#-----------------------------------------\n",
    "for p in np.arange(Precision):\n",
    "    qc.h( q[int(p)] )\n",
    "for g in np.arange(Grover_Size):\n",
    "    qc.h( u[int(g)] )\n",
    "qc.x( a2[0] )\n",
    "qc.h( a2[0] )\n",
    "qc.barrier()\n",
    "#-------------------------\n",
    "\n",
    "for i in np.arange(Precision):\n",
    "    ctrlQubit = q[int(Precision-(i+1))]\n",
    "    for _ in np.arange(2**i):\n",
    "        oq.C_Grover(qc,ctrlQubit,u,a1,a2,Marked,proper=True)\n",
    "\n",
    "#-------------------------\n",
    "qc.barrier()\n",
    "qc.h( a2[0] )\n",
    "qc.x( a2[0] )\n",
    "qc.barrier()\n",
    "oq.QFT_dgr( qc,q,Precision,swap=True )\n",
    "qc.measure(q,c)\n",
    "\n",
    "trials=10000\n",
    "Meas = oq.Measurement( qc, shots=trials, return_M=True, print_M=True )\n",
    "#-------------------------\n",
    "print('\\nCorrect M: ',len(Marked),' \\u03B8: ',round(2*np.arcsin(m.sqrt(len(Marked)/(2**Grover_Size)))/(2*m.pi),5))\n",
    "C,S = oq.Most_Probable(Meas,1)\n",
    "\n",
    "theta_QPE = oq.From_Binary(S[0])/D\n",
    "\n",
    "print('\\nMost Probable State: |'+str(S[0])+'> ----> \\u03B8: ',round(theta_QPE,4))\n",
    "\n",
    "if( theta_QPE >= 0.5 ):\n",
    "    theta_QPE = 1 - theta_QPE\n",
    "    print('\\nInterpretting Measurement as 1 - \\u03B8: ',round(theta_QPE,4),' Corresponding M: ',int(round(2**Grover_Size * np.sin(m.pi * theta_QPE)**2))) \n",
    "else:\n",
    "    print('\\nInterpretting Measurement as \\u03B8: ',round(theta_QPE,4),' Corresponding M: ',int(round(2**Grover_Size * np.sin(m.pi * theta_QPE)**2)))\n"
   ]
  },
  {
   "cell_type": "code",
   "execution_count": null,
   "id": "df84f3c5-82ae-4c50-ba07-8816bff6b30c",
   "metadata": {
    "tags": []
   },
   "outputs": [],
   "source": [
    "\n",
    "\n"
   ]
  }
 ],
 "metadata": {
  "kernelspec": {
   "display_name": "Python 3 (ipykernel)",
   "language": "python",
   "name": "python3"
  },
  "language_info": {
   "codemirror_mode": {
    "name": "ipython",
    "version": 3
   },
   "file_extension": ".py",
   "mimetype": "text/x-python",
   "name": "python",
   "nbconvert_exporter": "python",
   "pygments_lexer": "ipython3",
   "version": "3.11.5"
  }
 },
 "nbformat": 4,
 "nbformat_minor": 5
}

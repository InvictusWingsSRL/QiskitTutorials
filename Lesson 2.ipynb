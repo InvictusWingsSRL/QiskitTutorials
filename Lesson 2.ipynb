{
 "cells": [
  {
   "cell_type": "code",
   "execution_count": 1,
   "id": "7123947f-3a82-44dd-b829-7c2bd2e2735a",
   "metadata": {
    "tags": []
   },
   "outputs": [],
   "source": [
    "#Libraries needed to implement and simulate quantum circuits\n",
    "from qiskit import QuantumRegister, ClassicalRegister, QuantumCircuit, transpile, qasm2, qasm3\n",
    "from qiskit_aer import Aer\n",
    "from qiskit.primitives import BackendSampler\n",
    "#Custem functions to simplify answers\n",
    "import Our_Qiskit_Functions as oq #a part of the libabry presented in arXiv:1903.04359v1.\n",
    "\n",
    "import numpy as np\n",
    "import math as m\n",
    "\n",
    "#Initialize backends simulators to visualize circuits\n",
    "S_simulator = Aer.backends(name='statevector_simulator')[0]\n",
    "Q_simulator = Aer.backends(name='qasm_simulator')[0]"
   ]
  },
  {
   "cell_type": "code",
   "execution_count": 2,
   "id": "ae40ae3b-795f-49ac-ab38-69a9ffea8a7c",
   "metadata": {
    "tags": []
   },
   "outputs": [
    {
     "name": "stdout",
     "output_type": "stream",
     "text": [
      "OPENQASM 3.0;\n",
      "include \"stdgates.inc\";\n",
      "bit[3] c0;\n",
      "qubit[3] q1;\n",
      "h q1[0];\n",
      "id q1[1];\n",
      "id q1[2];\n",
      "c0[0] = measure q1[0];\n",
      "\n"
     ]
    }
   ],
   "source": [
    "q = QuantumRegister(3)\n",
    "c = ClassicalRegister(3)\n",
    "super0 = QuantumCircuit(q, c)\n",
    "\n",
    "super0.h(q[0])\n",
    "super0.id(q[1])\n",
    "super0.id(q[2])\n",
    "\n",
    "super0.measure(q[0], c[0])\n",
    "\n",
    "#print(super0.qasm3())\n",
    "print(qasm3.dumps(super0))"
   ]
  },
  {
   "cell_type": "code",
   "execution_count": 3,
   "id": "debc3516-7d54-40fe-b93c-6f4197c888f0",
   "metadata": {
    "tags": []
   },
   "outputs": [
    {
     "name": "stdout",
     "output_type": "stream",
     "text": [
      "qreg q[1];\n",
      "creg c[1];\n",
      "h q[0];\n"
     ]
    }
   ],
   "source": [
    "q = QuantumRegister(1, name='q')\n",
    "c = ClassicalRegister(1, name='c')\n",
    "super0 = QuantumCircuit(q, c,name='qc')\n",
    "\n",
    "super0.h(q[0])\n",
    "\n",
    "#Inst = super0.qasm()\n",
    "Inst = qasm2.dumps(super0)\n",
    "\n",
    "print(Inst[36:len(Inst)])"
   ]
  },
  {
   "cell_type": "code",
   "execution_count": 4,
   "id": "2200ecdf-707a-4628-925e-9790a536c274",
   "metadata": {
    "tags": []
   },
   "outputs": [
    {
     "name": "stdout",
     "output_type": "stream",
     "text": [
      "____________QuantumCircuit.qasm()_____________________\n",
      "qreg q[2];\n",
      "creg c[2];\n",
      "h q[0];\n",
      "h q[1];\n",
      "measure q[0] -> c[0];\n",
      "____________QuantumCircuit.data_____________________\n",
      "[CircuitInstruction(operation=Instruction(name='h', num_qubits=1, num_clbits=0, params=[]), qubits=(Qubit(QuantumRegister(2, 'q'), 0),), clbits=()), CircuitInstruction(operation=Instruction(name='h', num_qubits=1, num_clbits=0, params=[]), qubits=(Qubit(QuantumRegister(2, 'q'), 1),), clbits=()), CircuitInstruction(operation=Instruction(name='measure', num_qubits=1, num_clbits=1, params=[]), qubits=(Qubit(QuantumRegister(2, 'q'), 0),), clbits=(Clbit(ClassicalRegister(2, 'c'), 0),))]\n",
      "____________QuantumCircuit.qregs_____________________\n",
      "[QuantumRegister(2, 'q')]\n",
      "____________QuantumCircuit.cregs_____________________\n",
      "[ClassicalRegister(2, 'c')]\n"
     ]
    }
   ],
   "source": [
    "q = QuantumRegister(2, name='q')\n",
    "c = ClassicalRegister(2, name='c')\n",
    "two_q = QuantumCircuit(q, c,name='qc')\n",
    "\n",
    "two_q.h(q[0])\n",
    "two_q.h(q[1])\n",
    "two_q.measure(q[0],c[0])\n",
    "\n",
    "print('____________QuantumCircuit.qasm()_____________________')\n",
    "qasm = qasm2.dumps(two_q)\n",
    "print(qasm[36:len(qasm)])\n",
    "\n",
    "print('____________QuantumCircuit.data_____________________')\n",
    "print(two_q.data)\n",
    "\n",
    "print('____________QuantumCircuit.qregs_____________________')\n",
    "print(two_q.qregs)\n",
    "\n",
    "print('____________QuantumCircuit.cregs_____________________')\n",
    "print(two_q.cregs)"
   ]
  },
  {
   "cell_type": "code",
   "execution_count": 5,
   "id": "14385c15-3070-4f6f-8c91-5513b97e5c16",
   "metadata": {
    "tags": []
   },
   "outputs": [
    {
     "name": "stdout",
     "output_type": "stream",
     "text": [
      "_________Initial___________\n",
      "qreg q[2];\n",
      "creg c[2];\n",
      "h q[0];\n",
      "h q[1];\n",
      "measure q[0] -> c[0];\n",
      "______________del qc.data[1]_____________________\n",
      "qreg q[2];\n",
      "creg c[2];\n",
      "h q[0];\n",
      "measure q[0] -> c[0];\n",
      "______________qc.data.append(inst)_____________________\n",
      "qreg q[2];\n",
      "creg c[2];\n",
      "h q[0];\n",
      "measure q[0] -> c[0];\n",
      "h q[1];\n",
      "______________qc.data.insert(0,inst)_____________________\n",
      "qreg q[2];\n",
      "creg c[2];\n",
      "h q[1];\n",
      "h q[0];\n",
      "measure q[0] -> c[0];\n",
      "h q[1];\n"
     ]
    }
   ],
   "source": [
    "q = QuantumRegister(2, name='q')\n",
    "c = ClassicalRegister(2, name='c')\n",
    "qc = QuantumCircuit(q, c,name='qc')\n",
    "\n",
    "qc.h(q[0])\n",
    "qc.h(q[1])\n",
    "qc.measure(q[0],c[0])\n",
    "\n",
    "print('_________Initial___________')\n",
    "qasm = qasm2.dumps(qc)\n",
    "print(qasm[36:len(qasm)])\n",
    "\n",
    "inst = qc.data[1]\n",
    "\n",
    "del qc.data[1]\n",
    "print('______________del qc.data[1]_____________________')\n",
    "qasm = qasm2.dumps(qc)\n",
    "print(qasm[36:len(qasm)])\n",
    "\n",
    "qc.data.append(inst)\n",
    "print('______________qc.data.append(inst)_____________________')\n",
    "qasm = qasm2.dumps(qc)\n",
    "print(qasm[36:len(qasm)])\n",
    "\n",
    "qc.data.insert(0,inst)\n",
    "print('______________qc.data.insert(0,inst)_____________________')\n",
    "qasm = qasm2.dumps(qc)\n",
    "print(qasm[36:len(qasm)])\n",
    "\n"
   ]
  },
  {
   "cell_type": "code",
   "execution_count": 6,
   "id": "2df0e2c9-ee4d-45ea-9e4c-1fb004fa33ab",
   "metadata": {
    "tags": []
   },
   "outputs": [
    {
     "name": "stdout",
     "output_type": "stream",
     "text": [
      "__________qc______________\n",
      "qreg q[2];\n",
      "creg c[2];\n",
      "h q[0];\n",
      "measure q[0] -> c[0];\n",
      "__________qc2______________\n",
      "qreg q2[2];\n",
      "creg c2[2];\n",
      "h q2[0];\n"
     ]
    }
   ],
   "source": [
    "q = QuantumRegister(2, name='q')\n",
    "c = ClassicalRegister(2, name='c')\n",
    "qc = QuantumCircuit(q, c,name='qc')\n",
    "\n",
    "q2 = QuantumRegister(2, name='q2')\n",
    "c2 = ClassicalRegister(2, name='c2')\n",
    "qc2 = QuantumCircuit(q2, c2,name='qc2')\n",
    "\n",
    "qc.h(q[0])\n",
    "qc.measure(q[0],c[0])\n",
    "qc2.h(q2[0])\n",
    "      \n",
    "print('__________qc______________')\n",
    "qasm = qasm2.dumps(qc)\n",
    "print(qasm[36:len(qasm)])\n",
    "\n",
    "print('__________qc2______________')\n",
    "qasm = qasm2.dumps(qc2)\n",
    "print(qasm[36:len(qasm)])"
   ]
  },
  {
   "cell_type": "code",
   "execution_count": 7,
   "id": "4d5be3d6-a446-46c9-8ef9-fded283e33ad",
   "metadata": {
    "tags": []
   },
   "outputs": [
    {
     "name": "stdout",
     "output_type": "stream",
     "text": [
      "__________qc______________\n",
      "qreg q[1];\n",
      "creg c[1];\n",
      "creg c2[1];\n",
      "h q[0];\n",
      "measure q[0] -> c2[0];\n",
      "__________qc2______________\n",
      "qreg q2[1];\n",
      "qreg q[1];\n",
      "creg c2[1];\n",
      "h q2[0];\n",
      "h q[0];\n"
     ]
    }
   ],
   "source": [
    "q = QuantumRegister(1, name='q')\n",
    "c = ClassicalRegister(1, name='c')\n",
    "qc = QuantumCircuit(q, c,name='qc')\n",
    "\n",
    "q2 = QuantumRegister(1, name='q2')\n",
    "c2 = ClassicalRegister(1, name='c2')\n",
    "qc2 = QuantumCircuit(q2, c2,name='qc2')\n",
    "\n",
    "qc.add_register(c2)\n",
    "qc2.add_register(q)\n",
    "\n",
    "qc.h(q[0])\n",
    "qc2.h(q2[0])\n",
    "qc.measure(q[0],c2[0])\n",
    "qc2.h(q[0])\n",
    "\n",
    "print('__________qc______________')\n",
    "qasm = qasm2.dumps(qc)\n",
    "print(qasm[36:len(qasm)])\n",
    "\n",
    "print('__________qc2______________')\n",
    "qasm = qasm2.dumps(qc2)\n",
    "print(qasm[36:len(qasm)])"
   ]
  },
  {
   "cell_type": "code",
   "execution_count": 8,
   "id": "6eb8064c-ddfc-4364-a922-cab42e5ce769",
   "metadata": {
    "tags": []
   },
   "outputs": [
    {
     "name": "stdout",
     "output_type": "stream",
     "text": [
      "__________qc3 = qc1 & qc2______________\n",
      "qreg q1[2];\n",
      "creg c1[3];\n",
      "h q1[0];\n",
      "id q1[1];\n",
      "id q1[0];\n",
      "h q1[1];\n",
      "__________qc1 &= qc2______________\n",
      "qreg q1[2];\n",
      "creg c1[3];\n",
      "h q1[0];\n",
      "id q1[1];\n",
      "h q1[0];\n",
      "id q1[1];\n"
     ]
    }
   ],
   "source": [
    "q1 = QuantumRegister(2, name='q1')\n",
    "c1 = ClassicalRegister(3, name='c1')\n",
    "qc1 = QuantumCircuit(q1, c1,name='qc1')\n",
    "\n",
    "q2 = QuantumRegister(2, name='q2')\n",
    "c2 = ClassicalRegister(3, name='c2')\n",
    "qc2 = QuantumCircuit(q2, c2,name='qc2')\n",
    "\n",
    "qc1.h(q1[0])\n",
    "qc1.id(q1[1])\n",
    "\n",
    "qc2.id(q2[0])\n",
    "qc2.h(q2[1])\n",
    "\n",
    "qc3 = qc1 & qc2\n",
    "print('__________qc3 = qc1 & qc2______________')\n",
    "qasm = qasm2.dumps(qc3)\n",
    "print(qasm[36:len(qasm)])\n",
    "\n",
    "qc1 &= qc1\n",
    "print('__________qc1 &= qc2______________')\n",
    "qasm = qasm2.dumps(qc1)\n",
    "print(qasm[36:len(qasm)])\n"
   ]
  },
  {
   "cell_type": "code",
   "execution_count": 9,
   "id": "967023e1-9569-42f3-9101-ef21c6832b1b",
   "metadata": {
    "tags": []
   },
   "outputs": [
    {
     "name": "stdout",
     "output_type": "stream",
     "text": [
      "     ┌───┐┌─┐   \n",
      "q_0: ┤ H ├┤M├───\n",
      "     ├───┤└╥┘┌─┐\n",
      "q_1: ┤ H ├─╫─┤M├\n",
      "     └───┘ ║ └╥┘\n",
      "c: 2/══════╩══╩═\n",
      "           0  1 \n"
     ]
    },
    {
     "data": {
      "image/png": "[encoded data removed]",
      "text/plain": [
       "<Figure size 370.906x284.278 with 1 Axes>"
      ]
     },
     "execution_count": 9,
     "metadata": {},
     "output_type": "execute_result"
    }
   ],
   "source": [
    "q = QuantumRegister(2, name='q')\n",
    "c = ClassicalRegister(2, name='c')\n",
    "qc = QuantumCircuit(q, c,name='qc')\n",
    "\n",
    "qc.h(q[0])\n",
    "qc.h(q[1])\n",
    "qc.measure(q,c)\n",
    "\n",
    "print(qc)\n",
    "qc.draw(output='mpl')"
   ]
  },
  {
   "cell_type": "code",
   "execution_count": null,
   "id": "e55fd045-1785-4b5d-baf5-b26c632ab5b6",
   "metadata": {},
   "outputs": [],
   "source": []
  }
 ],
 "metadata": {
  "kernelspec": {
   "display_name": "Python 3 (ipykernel)",
   "language": "python",
   "name": "python3"
  },
  "language_info": {
   "codemirror_mode": {
    "name": "ipython",
    "version": 3
   },
   "file_extension": ".py",
   "mimetype": "text/x-python",
   "name": "python",
   "nbconvert_exporter": "python",
   "pygments_lexer": "ipython3",
   "version": "3.11.5"
  }
 },
 "nbformat": 4,
 "nbformat_minor": 5
}

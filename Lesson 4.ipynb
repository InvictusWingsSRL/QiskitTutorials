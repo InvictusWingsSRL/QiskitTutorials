{
 "cells": [
  {
   "cell_type": "code",
   "execution_count": 1,
   "id": "b223b2aa-867e-4459-9f87-245f507991c4",
   "metadata": {
    "tags": []
   },
   "outputs": [],
   "source": [
    "#Libraries needed to implement and simulate quantum circuits\n",
    "from qiskit import QuantumRegister, ClassicalRegister, QuantumCircuit, transpile, qasm2, qasm3\n",
    "from qiskit_aer import Aer\n",
    "from qiskit.primitives import BackendSampler\n",
    "#Custem functions to simplify answers\n",
    "import Our_Qiskit_Functions as oq #a part of the library presented in arXiv:1903.04359v1.\n",
    "\n",
    "import numpy as np\n",
    "import math as m\n",
    "\n",
    "#Initialize backends simulators to visualize circuits\n",
    "S_simulator = Aer.backends(name='statevector_simulator')[0]\n",
    "Q_simulator = Aer.backends(name='qasm_simulator')[0]"
   ]
  },
  {
   "cell_type": "code",
   "execution_count": 2,
   "id": "90fcaff0-1696-4aed-af74-3c1fb1671949",
   "metadata": {
    "tags": []
   },
   "outputs": [
    {
     "name": "stdout",
     "output_type": "stream",
     "text": [
      "_______statevector______________\n",
      "Statevector([ 0.70710678+0.j,  0.        +0.j, -0.70710678+0.j,\n",
      "             -0.        +0.j],\n",
      "            dims=(2, 2))\n",
      "\n",
      "__________wavefunction____________\n",
      "0.70711  |00>   -0.70711  |01>   \n"
     ]
    }
   ],
   "source": [
    "q = QuantumRegister(2, name='q')\n",
    "qc = QuantumCircuit(q, name = 'qc')\n",
    "\n",
    "qc.id(q[0])\n",
    "qc.h(q[1])\n",
    "qc.z(q[1])\n",
    "\n",
    "print('_______statevector______________')\n",
    "print(oq.execute(qc, S_simulator).result().get_statevector())\n",
    "\n",
    "print('\\n__________wavefunction____________')\n",
    "oq.Wavefunction(qc);"
   ]
  },
  {
   "cell_type": "code",
   "execution_count": 3,
   "id": "d7dd84c5-5cb3-4c66-9f5e-4edb0e8da264",
   "metadata": {
    "tags": []
   },
   "outputs": [
    {
     "name": "stdout",
     "output_type": "stream",
     "text": [
      "0.70710678  |00>   -0.70710678  |01>   \n"
     ]
    }
   ],
   "source": [
    "oq.Wavefunction(qc, precision = 8);"
   ]
  },
  {
   "cell_type": "code",
   "execution_count": 4,
   "id": "730c4798-daba-44d4-907c-e330afb4456c",
   "metadata": {
    "tags": []
   },
   "outputs": [
    {
     "name": "stdout",
     "output_type": "stream",
     "text": [
      "0.13901+0.08025j |0000>   0.13901+0.08025j |1000>   -0.13901-0.08025j |0100>   -0.13901-0.08025j |1100>   0.27281+0.15751j |0010>   0.27281+0.15751j |1010>   -0.27281-0.15751j |0110>   -0.27281-0.15751j |1110>   0.13901+0.08025j |0001>   0.13901+0.08025j |1001>   -0.13901-0.08025j |0101>   -0.13901-0.08025j |1101>   0.27281+0.15751j |0011>   0.27281+0.15751j |1011>   -0.27281-0.15751j |0111>   -0.27281-0.15751j |1111>   \n",
      "\n",
      "__________column____________\n",
      "0.13901+0.08025j |0000>   \n",
      "0.13901+0.08025j |1000>   \n",
      "-0.13901-0.08025j |0100>   \n",
      "-0.13901-0.08025j |1100>   \n",
      "0.27281+0.15751j |0010>   \n",
      "0.27281+0.15751j |1010>   \n",
      "-0.27281-0.15751j |0110>   \n",
      "-0.27281-0.15751j |1110>   \n",
      "0.13901+0.08025j |0001>   \n",
      "0.13901+0.08025j |1001>   \n",
      "-0.13901-0.08025j |0101>   \n",
      "-0.13901-0.08025j |1101>   \n",
      "0.27281+0.15751j |0011>   \n",
      "0.27281+0.15751j |1011>   \n",
      "-0.27281-0.15751j |0111>   \n",
      "-0.27281-0.15751j |1111>   \n",
      "\n"
     ]
    }
   ],
   "source": [
    "q = QuantumRegister(4, name='q')\n",
    "qc = QuantumCircuit(q, name = 'qc')\n",
    "\n",
    "qc.h(q[0])\n",
    "qc.h(q[1])\n",
    "qc.z(q[1])\n",
    "qc.rx(m.pi/3,q[1])\n",
    "qc.h(q[2])\n",
    "qc.ry(m.pi/5,q[2])\n",
    "qc.h(q[3])\n",
    "\n",
    "oq.Wavefunction(qc)\n",
    "\n",
    "print('\\n__________column____________')\n",
    "oq.Wavefunction(qc, column = True);"
   ]
  },
  {
   "cell_type": "code",
   "execution_count": 5,
   "id": "b4f63065-fc1a-4569-abd3-64d21ed1cd24",
   "metadata": {
    "tags": []
   },
   "outputs": [
    {
     "name": "stdout",
     "output_type": "stream",
     "text": [
      "0.5  |00>|0>   0.5  |10>|0>   0.5  |00>|1>   0.5  |10>|1>   \n"
     ]
    }
   ],
   "source": [
    "q = QuantumRegister(3, name='q')\n",
    "qc = QuantumCircuit(q, name = 'qc')\n",
    "\n",
    "qc.h(q[0])\n",
    "qc.id(q[1])\n",
    "qc.h(q[2])\n",
    "\n",
    "oq.Wavefunction(qc, systems=[2,1]);\n"
   ]
  },
  {
   "cell_type": "code",
   "execution_count": 6,
   "id": "146a85ea-1735-4476-a917-1850e69650a0",
   "metadata": {
    "tags": []
   },
   "outputs": [
    {
     "name": "stdout",
     "output_type": "stream",
     "text": [
      "0.5  |00>|0>|000>   0.5  |10>|0>|000>   0.5  |00>|1>|000>   0.5  |10>|1>|000>   \n",
      "\n",
      "________show_systems______\n",
      "0.5  |00>|0>   0.5  |10>|0>   0.5  |00>|1>   0.5  |10>|1>   \n"
     ]
    }
   ],
   "source": [
    "q = QuantumRegister(6, name='q')\n",
    "qc = QuantumCircuit(q, name = 'qc')\n",
    "\n",
    "qc.h(q[0])\n",
    "qc.id(q[1])\n",
    "qc.h(q[2])\n",
    "\n",
    "oq.Wavefunction(qc, systems=[2,1,3]);\n",
    "\n",
    "print('\\n________show_systems______')\n",
    "oq.Wavefunction(qc, systems=[2,1,3], show_systems=[True,True,False]);\n"
   ]
  },
  {
   "cell_type": "code",
   "execution_count": 7,
   "id": "146c1d26-ff19-474c-936f-631f207230d0",
   "metadata": {
    "tags": []
   },
   "outputs": [
    {
     "name": "stdout",
     "output_type": "stream",
     "text": [
      "0.5  |001>|0>   0.5  |101>|0>   0.5  |001>|1>   0.5  |101>|1>   \n",
      "\n",
      "________show_systems______\n",
      "0.5  |001>   0.5  |101>   0.5  |001>   0.5  |101>   \n"
     ]
    }
   ],
   "source": [
    "q = QuantumRegister(4, name='q')\n",
    "qc = QuantumCircuit(q, name = 'qc')\n",
    "\n",
    "qc.h(q[0])\n",
    "qc.id(q[1])\n",
    "qc.x(q[2])\n",
    "qc.h(q[3])\n",
    "\n",
    "oq.Wavefunction(qc, systems=[3,1]);\n",
    "\n",
    "print('\\n________show_systems______')\n",
    "oq.Wavefunction(qc, systems=[3,1], show_systems=[True,False]);"
   ]
  },
  {
   "cell_type": "code",
   "execution_count": 8,
   "id": "3b8ea549-ee56-48c1-9c76-ecd32640d127",
   "metadata": {
    "tags": []
   },
   "outputs": [
    {
     "name": "stdout",
     "output_type": "stream",
     "text": [
      "1|101>   \n"
     ]
    }
   ],
   "source": [
    "q = QuantumRegister(3, name='q')\n",
    "c = ClassicalRegister(3, name='c')\n",
    "qc = QuantumCircuit(q,c, name = 'qc')\n",
    "\n",
    "qc.h(q[0])\n",
    "qc.id(q[1])\n",
    "qc.x(q[2])\n",
    "qc.measure(q,c)\n",
    "\n",
    "oq.Measurement(qc);"
   ]
  },
  {
   "cell_type": "code",
   "execution_count": 9,
   "id": "541be030-5f30-4ce4-9902-4fac7fa3e19e",
   "metadata": {
    "tags": []
   },
   "outputs": [
    {
     "name": "stdout",
     "output_type": "stream",
     "text": [
      "47|101>   53|001>   \n"
     ]
    }
   ],
   "source": [
    "q = QuantumRegister(3, name='q')\n",
    "c = ClassicalRegister(3, name='c')\n",
    "qc = QuantumCircuit(q,c, name = 'qc')\n",
    "\n",
    "qc.h(q[0])\n",
    "qc.id(q[1])\n",
    "qc.x(q[2])\n",
    "qc.measure(q,c)\n",
    "\n",
    "oq.Measurement(qc, shots = 100);"
   ]
  },
  {
   "cell_type": "code",
   "execution_count": 10,
   "id": "26674c59-eb7e-4c65-aa9c-cb8922a20014",
   "metadata": {
    "tags": []
   },
   "outputs": [],
   "source": [
    "q = QuantumRegister(3, name='q')\n",
    "c = ClassicalRegister(3, name='c')\n",
    "qc = QuantumCircuit(q,c, name = 'qc')\n",
    "\n",
    "qc.h(q[0])\n",
    "qc.id(q[1])\n",
    "qc.x(q[2])\n",
    "qc.measure(q,c)\n",
    "\n",
    "oq.Measurement(qc, print_M=False);"
   ]
  },
  {
   "cell_type": "code",
   "execution_count": 11,
   "id": "e3597b7c-f861-4857-82d9-8afbd6047dd6",
   "metadata": {
    "tags": []
   },
   "outputs": [
    {
     "name": "stdout",
     "output_type": "stream",
     "text": [
      "{'001': 7, '101': 13}\n"
     ]
    }
   ],
   "source": [
    "q = QuantumRegister(3, name='q')\n",
    "c = ClassicalRegister(3, name='c')\n",
    "qc = QuantumCircuit(q,c, name = 'qc')\n",
    "\n",
    "qc.h(q[0])\n",
    "qc.id(q[1])\n",
    "qc.x(q[2])\n",
    "qc.measure(q,c)\n",
    "\n",
    "M = oq.Measurement(qc, shots = 20, print_M=False, return_M = True)\n",
    "print(M)"
   ]
  },
  {
   "cell_type": "code",
   "execution_count": 12,
   "id": "40790728-2029-4271-869a-11d863b3c383",
   "metadata": {
    "tags": []
   },
   "outputs": [
    {
     "name": "stdout",
     "output_type": "stream",
     "text": [
      "___________Initial state____________\n",
      "0.25  |0000>|000>   \n",
      "0.25  |1000>|000>   \n",
      "0.25  |0100>|000>   \n",
      "0.25  |1100>|000>   \n",
      "0.25  |0010>|000>   \n",
      "0.25  |1010>|000>   \n",
      "0.25  |0110>|000>   \n",
      "0.25  |1110>|000>   \n",
      "0.25  |0001>|000>   \n",
      "0.25  |1001>|000>   \n",
      "0.25  |0101>|000>   \n",
      "0.25  |1101>|000>   \n",
      "0.25  |0011>|000>   \n",
      "0.25  |1011>|000>   \n",
      "0.25  |0111>|000>   \n",
      "0.25  |1111>|000>   \n",
      "\n",
      "\n",
      "____After CCCZ_______\n",
      "0.25  |0000>|000>   \n",
      "0.25  |1000>|000>   \n",
      "0.25  |0100>|000>   \n",
      "0.25  |0010>|000>   \n",
      "0.25  |1010>|000>   \n",
      "0.25  |0110>|000>   \n",
      "0.25  |0001>|000>   \n",
      "0.25  |1001>|000>   \n",
      "0.25  |0101>|000>   \n",
      "0.25  |1100>|100>   \n",
      "0.25  |1110>|100>   \n",
      "0.25  |1101>|100>   \n",
      "0.25  |0011>|010>   \n",
      "0.25  |1011>|010>   \n",
      "0.25  |0111>|010>   \n",
      "-0.25  |1111>|111>   \n",
      "\n"
     ]
    }
   ],
   "source": [
    "q = QuantumRegister(7, name='q')\n",
    "qc = QuantumCircuit(q, name = 'qc')\n",
    "\n",
    "qc.h(q[0])\n",
    "qc.h(q[1])\n",
    "qc.h(q[2])\n",
    "qc.h(q[3])\n",
    "qc.id(q[4])\n",
    "qc.id(q[5])\n",
    "qc.id(q[6])\n",
    "\n",
    "print('___________Initial state____________')\n",
    "oq.Wavefunction(qc, systems=[4,3], column=True)\n",
    "\n",
    "qc.ccx(q[0],q[1],q[4])\n",
    "qc.ccx(q[2],q[3],q[5])\n",
    "qc.ccx(q[4],q[5],q[6])\n",
    "qc.cz(q[6],q[0])\n",
    "\n",
    "print('\\n____After CCCZ_______')\n",
    "oq.Wavefunction(qc, systems=[4,3], column=True);"
   ]
  },
  {
   "cell_type": "code",
   "execution_count": 13,
   "id": "d2ed53c4-a1b3-458e-81c1-84fbd4ee5ac8",
   "metadata": {
    "tags": []
   },
   "outputs": [
    {
     "name": "stdout",
     "output_type": "stream",
     "text": [
      "___________Initial state____________\n",
      "0.25  |0000>|000>   0.25  |1000>|000>   0.25  |0100>|000>   0.25  |1100>|000>   0.25  |0010>|000>   0.25  |1010>|000>   0.25  |0110>|000>   0.25  |1110>|000>   0.25  |0001>|000>   0.25  |1001>|000>   0.25  |0101>|000>   0.25  |1101>|000>   0.25  |0011>|000>   0.25  |1011>|000>   0.25  |0111>|000>   0.25  |1111>|000>   \n",
      "\n",
      "____After CCCZ_______\n",
      "0.25  |0000>|000>   0.25  |1000>|000>   0.25  |0100>|000>   0.25  |0010>|000>   0.25  |1010>|000>   0.25  |0110>|000>   0.25  |0001>|000>   0.25  |1001>|000>   0.25  |0101>|000>   0.25  |1100>|100>   0.25  |1110>|100>   0.25  |1101>|100>   0.25  |0011>|010>   0.25  |1011>|010>   0.25  |0111>|010>   -0.25  |1111>|111>   \n",
      "\n",
      "____Reverse all CCNOTs______\n",
      "0.25  |0000>|000>   \n",
      "0.25  |1000>|000>   \n",
      "0.25  |0100>|000>   \n",
      "0.25  |1100>|000>   \n",
      "0.25  |0010>|000>   \n",
      "0.25  |1010>|000>   \n",
      "0.25  |0110>|000>   \n",
      "0.25  |1110>|000>   \n",
      "0.25  |0001>|000>   \n",
      "0.25  |1001>|000>   \n",
      "0.25  |0101>|000>   \n",
      "0.25  |1101>|000>   \n",
      "0.25  |0011>|000>   \n",
      "0.25  |1011>|000>   \n",
      "0.25  |0111>|000>   \n",
      "-0.25  |1111>|000>   \n",
      "\n"
     ]
    }
   ],
   "source": [
    "q = QuantumRegister(7, name='q')\n",
    "qc = QuantumCircuit(q, name = 'qc')\n",
    "\n",
    "qc.h(q[0])\n",
    "qc.h(q[1])\n",
    "qc.h(q[2])\n",
    "qc.h(q[3])\n",
    "qc.id(q[4])\n",
    "qc.id(q[5])\n",
    "qc.id(q[6])\n",
    "\n",
    "print('___________Initial state____________')\n",
    "oq.Wavefunction(qc, systems=[4,3])\n",
    "\n",
    "qc.ccx(q[0],q[1],q[4])\n",
    "qc.ccx(q[2],q[3],q[5])\n",
    "qc.ccx(q[4],q[5],q[6])\n",
    "qc.cz(q[6],q[0])\n",
    "\n",
    "print('\\n____After CCCZ_______')\n",
    "oq.Wavefunction(qc, systems=[4,3])\n",
    "\n",
    "qc.ccx(q[4],q[5],q[6])\n",
    "qc.ccx(q[2],q[3],q[5])\n",
    "qc.ccx(q[0],q[1],q[4])\n",
    "\n",
    "print('\\n____Reverse all CCNOTs______')\n",
    "oq.Wavefunction(qc, systems=[4,3], column=True);"
   ]
  },
  {
   "cell_type": "code",
   "execution_count": 14,
   "id": "78f26b0a-63e0-4fc7-8866-b439118a028e",
   "metadata": {
    "tags": []
   },
   "outputs": [
    {
     "name": "stdout",
     "output_type": "stream",
     "text": [
      "______Initial state__________\n",
      "0.35355  |000>|0>   0.35355  |100>|0>   0.35355  |010>|0>   0.35355  |110>|0>   0.35355  |001>|0>   0.35355  |101>|0>   0.35355  |011>|0>   0.35355  |111>|0>   \n",
      "\n",
      "___________________n_NOT___________________\n",
      "0.35355  |000>|0>   0.35355  |100>|0>   0.35355  |010>|0>   0.35355  |110>|0>   0.35355  |001>|0>   0.35355  |101>|0>   0.35355  |011>|0>   0.35355  |111>|1>   \n"
     ]
    }
   ],
   "source": [
    "q = QuantumRegister(5, name='q')\n",
    "qc = QuantumCircuit(q, name = 'qc')\n",
    "\n",
    "qc.h(q[0])\n",
    "qc.h(q[1])\n",
    "qc.h(q[2])\n",
    "qc.id(q[3])\n",
    "qc.id(q[4])\n",
    "\n",
    "print('______Initial state__________')\n",
    "oq.Wavefunction(qc,systems=[3,1,1],show_systems=[True,True,False])\n",
    "\n",
    "oq.n_NOT(qc, [q[0], q[1], q[2]], q[3], [q[4]])\n",
    "\n",
    "print('\\n___________________n_NOT___________________')\n",
    "oq.Wavefunction(qc,systems=[3,1,1],show_systems=[True,True,False]);"
   ]
  },
  {
   "cell_type": "code",
   "execution_count": 15,
   "id": "f7239ad0-4fcc-4ba3-9568-b8780c4efc91",
   "metadata": {
    "tags": []
   },
   "outputs": [
    {
     "name": "stdout",
     "output_type": "stream",
     "text": [
      "______Initial state__________\n",
      "0.35355  |000>|1>   0.35355  |100>|1>   0.35355  |010>|1>   0.35355  |110>|1>   0.35355  |001>|1>   0.35355  |101>|1>   0.35355  |011>|1>   0.35355  |111>|1>   \n",
      "\n",
      "___________________n_Control_U___________________\n",
      "-0.35355  |111>|0>   0.35355  |000>|1>   0.35355  |100>|1>   0.35355  |010>|1>   0.35355  |110>|1>   0.35355  |001>|1>   0.35355  |101>|1>   0.35355  |011>|1>   \n"
     ]
    }
   ],
   "source": [
    "q = QuantumRegister(6, name='q')\n",
    "qc = QuantumCircuit(q, name = 'qc')\n",
    "\n",
    "qc.h(q[0])\n",
    "qc.h(q[1])\n",
    "qc.h(q[2])\n",
    "\n",
    "qc.x(q[3])\n",
    "\n",
    "qc.id(q[4])\n",
    "qc.id(q[5])\n",
    "\n",
    "print('______Initial state__________')\n",
    "oq.Wavefunction(qc,systems=[3,1,2],show_systems=[True,True,False])\n",
    "\n",
    "oq.n_Control_U(qc, [q[0], q[1], q[2]], [q[4],q[5]], [('Z',q[3]),('X',q[3])])\n",
    "\n",
    "print('\\n___________________n_Control_U___________________')\n",
    "oq.Wavefunction(qc,systems=[3,1,2],show_systems=[True,True,False]);"
   ]
  },
  {
   "cell_type": "code",
   "execution_count": 16,
   "id": "2955479d-1480-40b5-8b09-a694978e3b75",
   "metadata": {
    "tags": []
   },
   "outputs": [
    {
     "name": "stdout",
     "output_type": "stream",
     "text": [
      "______Initial state__________\n",
      "0.35355  |000>|1>   0.35355  |100>|1>   0.35355  |010>|1>   0.35355  |110>|1>   0.35355  |001>|1>   0.35355  |101>|1>   0.35355  |011>|1>   0.35355  |111>|1>   \n",
      "\n",
      "___________________n_Control_U___________________\n",
      "-0.35355  |111>|0>   0.35355  |000>|1>   0.35355  |100>|1>   0.35355  |010>|1>   0.35355  |110>|1>   0.35355  |001>|1>   0.35355  |101>|1>   0.35355  |011>|1>   \n"
     ]
    }
   ],
   "source": [
    "q = QuantumRegister(3, name='q')\n",
    "tgt = QuantumRegister(1,name='t')\n",
    "anc = QuantumRegister(2, name = 'a')\n",
    "qc = QuantumCircuit(q, tgt, anc, name = 'qc')\n",
    "\n",
    "qc.h(q[0])\n",
    "qc.h(q[1])\n",
    "qc.h(q[2])\n",
    "\n",
    "qc.x(tgt[0])\n",
    "\n",
    "qc.id(anc[0])\n",
    "qc.id(anc[1])\n",
    "\n",
    "print('______Initial state__________')\n",
    "oq.Wavefunction(qc,systems=[3,1,2],show_systems=[True,True,False])\n",
    "\n",
    "oq.n_Control_U(qc, q, anc, [('Z',tgt[0]),('X',tgt[0])])\n",
    "\n",
    "print('\\n___________________n_Control_U___________________')\n",
    "oq.Wavefunction(qc,systems=[3,1,2],show_systems=[True,True,False]);"
   ]
  },
  {
   "cell_type": "code",
   "execution_count": null,
   "id": "33b9acc1-f876-48b6-a6bb-8cdfcb046c71",
   "metadata": {},
   "outputs": [],
   "source": []
  }
 ],
 "metadata": {
  "kernelspec": {
   "display_name": "Python 3 (ipykernel)",
   "language": "python",
   "name": "python3"
  },
  "language_info": {
   "codemirror_mode": {
    "name": "ipython",
    "version": 3
   },
   "file_extension": ".py",
   "mimetype": "text/x-python",
   "name": "python",
   "nbconvert_exporter": "python",
   "pygments_lexer": "ipython3",
   "version": "3.11.5"
  }
 },
 "nbformat": 4,
 "nbformat_minor": 5
}

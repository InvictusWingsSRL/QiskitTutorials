{
 "cells": [
  {
   "cell_type": "code",
   "execution_count": 1,
   "id": "e6ca7d2b-7b62-45a1-b94e-bf92c4103a52",
   "metadata": {
    "tags": []
   },
   "outputs": [],
   "source": [
    "#Libraries needed to implement and simulate quantum circuits\n",
    "from qiskit import QuantumRegister, ClassicalRegister, QuantumCircuit, transpile, qasm2, qasm3\n",
    "from qiskit_aer import Aer\n",
    "from qiskit.primitives import BackendSampler\n",
    "from qiskit.providers.basic_provider import BasicProvider # instead of BasicAer\n",
    "from qiskit.visualization import plot_histogram\n",
    "#Custem functions to simplify answers\n",
    "import Our_Qiskit_Functions as oq #a part of the library presented in arXiv:1903.04359v1.\n",
    "\n",
    "import numpy as np\n",
    "import math as m\n",
    "import scipy as sci\n",
    "import random\n",
    "import matplotlib.pyplot as plt\n",
    "\n",
    "#Initialize backends simulators to visualize circuits\n",
    "S_simulator = Aer.backends(name='statevector_simulator')[0]\n",
    "M_simulator = Aer.backends(name='qasm_simulator')[0]"
   ]
  },
  {
   "cell_type": "code",
   "execution_count": 2,
   "id": "320714a6-04e6-45c6-9bbf-294fbd74c212",
   "metadata": {
    "tags": []
   },
   "outputs": [
    {
     "name": "stdout",
     "output_type": "stream",
     "text": [
      "____ Unitary Matrix ____\n",
      " [[-0.5        0.8660254]\n",
      " [-0.8660254 -0.5      ]]\n",
      "\n",
      " U |u> =  [ 0.61237244+0.35355339j -0.35355339+0.61237244j]\n",
      "e^{2πiφ} |u> =  [ 0.61237244+0.35355339j -0.35355339+0.61237244j]\n"
     ]
    }
   ],
   "source": [
    "alpha = 2*m.pi/3\n",
    "U = np.array([ [ np.cos(alpha) , np.sin(alpha) ],\n",
    "[ -np.sin(alpha) , np.cos(alpha) ] ])\n",
    "#---------------------------------------------------\n",
    "e = 0.5*(-1+m.sqrt(3)*1.0j)\n",
    "v = 1.0/m.sqrt(2)*np.array( [-1.0j,1] )\n",
    "#---------------------------------------------------\n",
    "print('____ Unitary Matrix ____\\n',U)\n",
    "print( '\\n U |u> = ',np.dot(U,v))\n",
    "print( 'e^{2\\u03C0i\\u03C6} |u> = ',e * v)"
   ]
  },
  {
   "cell_type": "code",
   "execution_count": 3,
   "id": "55b36b52-3c15-4377-aafb-1f77b4891c17",
   "metadata": {
    "tags": []
   },
   "outputs": [
    {
     "name": "stdout",
     "output_type": "stream",
     "text": [
      "____ Initial State ____\n",
      "1.0  |011>   \n",
      "\n",
      "____ After QFT† ____\n",
      "0.35355  |000>   -0.35355  |100>   0.35355j |010>   -0.35355j |110>   -0.25-0.25j |001>   0.25+0.25j |101>   0.25-0.25j |011>   -0.25+0.25j |111>   \n",
      "\n",
      " ____ QFT† Expression ____\n",
      "state:  [0, 0, 0]  phase:  (0.3536+0j)\n",
      "state:  [0, 0, 1]  phase:  (-0.25-0.25j)\n",
      "state:  [0, 1, 0]  phase:  0.3536j\n",
      "state:  [0, 1, 1]  phase:  (0.25-0.25j)\n",
      "state:  [1, 0, 0]  phase:  (-0.3536+0j)\n",
      "state:  [1, 0, 1]  phase:  (0.25+0.25j)\n",
      "state:  [1, 1, 0]  phase:  -0.3536j\n",
      "state:  [1, 1, 1]  phase:  (-0.25+0.25j)\n"
     ]
    }
   ],
   "source": [
    "q = QuantumRegister(3,name='q' )\n",
    "qc= QuantumCircuit(q,name='qc')\n",
    "#-------------------------------\n",
    "qc.x( q[1] )\n",
    "qc.x( q[2] )\n",
    "print('____ Initial State ____')\n",
    "oq.Wavefunction(qc)\n",
    "qc.swap( q[0], q[2] )\n",
    "oq.QFT_dgr( qc,q,3 )\n",
    "print('\\n____ After QFT\\u2020 ____')\n",
    "oq.Wavefunction(qc)\n",
    "#======================================\n",
    "print('\\n ____ QFT\\u2020 Expression ____')\n",
    "for k in np.arange( 8 ):\n",
    "    phase = 1.0/(m.sqrt(8)) * np.exp( -1.0j*m.pi*( (3*k)/4 ) )\n",
    "    print( 'state: ',oq.Binary(int(k),8),' phase: ',round(phase.real,4)+round(phase.imag,4)*1.0j )\n"
   ]
  },
  {
   "cell_type": "code",
   "execution_count": 4,
   "id": "8f335b40-b6d5-4732-8dd0-3e7e8cf39812",
   "metadata": {
    "tags": []
   },
   "outputs": [
    {
     "name": "stdout",
     "output_type": "stream",
     "text": [
      "Theta =  0.52  n =  3 \n",
      "---------------------------\n",
      "Probability:  0.0036  State:  [0, 0, 0]  Binary Decimal:  0.0\n",
      "Probability:  0.0041  State:  [0, 0, 1]  Binary Decimal:  0.125\n",
      "Probability:  0.0064  State:  [0, 1, 0]  Binary Decimal:  0.25\n",
      "Probability:  0.0187  State:  [0, 1, 1]  Binary Decimal:  0.375\n",
      "Probability:  0.9198  State:  [1, 0, 0]  Binary Decimal:  0.5\n",
      "Probability:  0.0346  State:  [1, 0, 1]  Binary Decimal:  0.625\n",
      "Probability:  0.0083  State:  [1, 1, 0]  Binary Decimal:  0.75\n",
      "Probability:  0.0045  State:  [1, 1, 1]  Binary Decimal:  0.875\n"
     ]
    }
   ],
   "source": [
    "n = 3\n",
    "theta = 0.52\n",
    "print('Theta = ',theta,' n = ',n,'\\n---------------------------')\n",
    "#===================\n",
    "state = []\n",
    "bstate = []\n",
    "bdec = []\n",
    "for i in range(2**n):\n",
    "    state.append(0)\n",
    "    bstate.append(oq.Binary(i,2**n))\n",
    "    bc = 0\n",
    "    for i2 in range(len(bstate[i])):\n",
    "        bc = bc + ( 1.0/(2**(i2+1)))*bstate[i][i2]\n",
    "    bdec.append(bc)\n",
    "#-------------------------------------------------------------\n",
    "for y in range(2**n):\n",
    "    for x in range(2**n):\n",
    "        state[y] = state[y] + 1.0/(2**n) * np.exp( (-2.0j*np.pi*x/(2**n))*(y-2**n*theta) )\n",
    "#--------------------------------------------------------------\n",
    "for j in np.arange(2**n):\n",
    "    print('Probability: ',round( abs(state[j])**2,4 ),' State: ',bstate[j],' Binary Decimal: ',bdec[j])"
   ]
  },
  {
   "cell_type": "code",
   "execution_count": 5,
   "id": "0fe431fe-c3f0-4a21-aa03-49df39c19758",
   "metadata": {},
   "outputs": [
    {
     "data": {
      "image/png": "[encoded data removed]",
      "text/plain": [
       "<Figure size 640x480 with 1 Axes>"
      ]
     },
     "metadata": {},
     "output_type": "display_data"
    }
   ],
   "source": [
    "x = []\n",
    "y = []\n",
    "n = 3\n",
    "for k in np.arange( 1000 ):\n",
    "    if( k != 500 ):\n",
    "        phi = -5 + k/100.\n",
    "        x.append( phi )\n",
    "        y.append( 1/(2**(2*n)) * abs( (-1 + np.exp(2.0j*m.pi*phi) )/(-1 + np.exp(2.0j*m.pi*phi/(2**n))) )**2 )\n",
    "    else:\n",
    "        x.append(phi)\n",
    "        y.append(1)\n",
    "\n",
    "plt.plot(x,y)\n",
    "plt.axis([-5,5,0,1])\n",
    "plt.show()"
   ]
  },
  {
   "cell_type": "code",
   "execution_count": 6,
   "id": "758da712-c656-4275-9320-69884ec0b55c",
   "metadata": {
    "tags": []
   },
   "outputs": [
    {
     "name": "stdout",
     "output_type": "stream",
     "text": [
      "Theta =  0.52  n =  4 \n",
      "---------------------------\n",
      "Probability:  0.0028  State:  [0, 0, 0, 0]  Binary Decimal:  0.0\n",
      "Probability:  0.0028  State:  [0, 0, 0, 1]  Binary Decimal:  0.0625\n",
      "Probability:  0.0031  State:  [0, 0, 1, 0]  Binary Decimal:  0.125\n",
      "Probability:  0.0037  State:  [0, 0, 1, 1]  Binary Decimal:  0.1875\n",
      "Probability:  0.0049  State:  [0, 1, 0, 0]  Binary Decimal:  0.25\n",
      "Probability:  0.0076  State:  [0, 1, 0, 1]  Binary Decimal:  0.3125\n",
      "Probability:  0.0144  State:  [0, 1, 1, 0]  Binary Decimal:  0.375\n",
      "Probability:  0.0424  State:  [0, 1, 1, 1]  Binary Decimal:  0.4375\n",
      "Probability:  0.7063  State:  [1, 0, 0, 0]  Binary Decimal:  0.5\n",
      "Probability:  0.1571  State:  [1, 0, 0, 1]  Binary Decimal:  0.5625\n",
      "Probability:  0.0265  State:  [1, 0, 1, 0]  Binary Decimal:  0.625\n",
      "Probability:  0.011  State:  [1, 0, 1, 1]  Binary Decimal:  0.6875\n",
      "Probability:  0.0064  State:  [1, 1, 0, 0]  Binary Decimal:  0.75\n",
      "Probability:  0.0044  State:  [1, 1, 0, 1]  Binary Decimal:  0.8125\n",
      "Probability:  0.0035  State:  [1, 1, 1, 0]  Binary Decimal:  0.875\n",
      "Probability:  0.003  State:  [1, 1, 1, 1]  Binary Decimal:  0.9375\n"
     ]
    }
   ],
   "source": [
    "n = 4\n",
    "theta = 0.52\n",
    "print('Theta = ',theta,' n = ',n,'\\n---------------------------')\n",
    "#===================\n",
    "state = []\n",
    "bstate = []\n",
    "bdec = []\n",
    "for i in range(2**n):\n",
    "    state.append(0)\n",
    "    bstate.append(oq.Binary(i,2**n))\n",
    "    bc = 0\n",
    "    for i2 in range(len(bstate[i])):\n",
    "        bc = bc + ( 1.0/(2**(i2+1)))*bstate[i][i2]\n",
    "    bdec.append(bc)\n",
    "#-------------------------------------------------------------\n",
    "for y in range(2**n):\n",
    "    for x in range(2**n):\n",
    "        state[y] = state[y] + 1.0/(2**n) * np.exp( (-2.0j*np.pi*x/(2**n))*(y-2**n*theta) )\n",
    "#--------------------------------------------------------------\n",
    "for j in np.arange(2**n):\n",
    "    print('Probability: ',round( abs(state[j])**2,4 ),' State: ',bstate[j],' Binary Decimal: ',bdec[j])"
   ]
  },
  {
   "cell_type": "code",
   "execution_count": 7,
   "id": "b765539a-0aea-4ef6-a24a-207b6e7f5f7c",
   "metadata": {
    "tags": []
   },
   "outputs": [
    {
     "name": "stdout",
     "output_type": "stream",
     "text": [
      "\n",
      "Most Probable State: |1000> Probability:  0.6975\n",
      "\n",
      "Corresponding Φ:  0.3256 \n",
      "\n",
      "Approximate θ:  0.52035\n"
     ]
    }
   ],
   "source": [
    "Prob = [ 0.0028,0.0028,0.0031,0.0037,0.0049,0.0076,0.0144,0.0424,0.7063,0.1571,0.0265,0.011,0.0064,0.0044,0.0035,0.003 ]\n",
    "Measured = np.zeros( len(Prob) )\n",
    "trials = 10000\n",
    "n = 4\n",
    "#======================================== Simulate measurements on the final system\n",
    "for t in range(trials):\n",
    "    M = random.random()\n",
    "    p = 0\n",
    "    for s in range( len(Prob) ):\n",
    "        if( p < M < (p + Prob[s]) ):\n",
    "            Measured[s] = Measured[s] + 1\n",
    "        p = p + Prob[s]\n",
    "#---------------------------------------\n",
    "MD = {}\n",
    "for i in range( len(Prob) ):\n",
    "    state = oq.Binary(int(i),2**n)\n",
    "    state_str = ''\n",
    "    for j in range(len(state)):\n",
    "        state_str = state_str+str(state[j])\n",
    "    MD[state_str] = int( Measured[i] )\n",
    "MP = oq.Most_Probable(MD,2)\n",
    "for mp in range(2):\n",
    "    MP[0][mp] = MP[0][mp]/trials\n",
    "#======================================== Compute phi using the most probable state\n",
    "phi,theta = oq.QPE_phi(MP)\n",
    "print('\\nMost Probable State: |'+str(MP[1][0])+'> Probability: ',round(MP[0][0],5))\n",
    "print('\\nCorresponding \\u03A6: ',phi,'\\n\\nApproximate \\u03B8: ',round(theta,5))"
   ]
  },
  {
   "cell_type": "code",
   "execution_count": 8,
   "id": "65aa84c7-6058-4ad7-b0f9-b46d47e11750",
   "metadata": {
    "tags": []
   },
   "outputs": [
    {
     "name": "stdout",
     "output_type": "stream",
     "text": [
      "\n",
      "___ After Control-U Operations ___\n",
      "0.35355  |000>|1>   0.30982+0.17033j |100>|1>   0.34245+0.08793j |010>|1>   0.25773+0.24202j |110>|1>   -0.35077-0.04431j |001>|1>   -0.28603-0.20781j |101>|1>   -0.32873-0.13015j |011>|1>   -0.22536-0.27242j |111>|1>   \n",
      " \n",
      "State:  [0, 0, 0]  Phase:  (0.35355+0j)\n",
      "State:  [0, 0, 1]  Phase:  (-0.35077-0.04431j)\n",
      "State:  [0, 1, 0]  Phase:  (0.34245+0.08793j)\n",
      "State:  [0, 1, 1]  Phase:  (-0.32873-0.13015j)\n",
      "State:  [1, 0, 0]  Phase:  (0.30982+0.17033j)\n",
      "State:  [1, 0, 1]  Phase:  (-0.28603-0.20781j)\n",
      "State:  [1, 1, 0]  Phase:  (0.25773+0.24202j)\n",
      "State:  [1, 1, 1]  Phase:  (-0.22536-0.27242j)\n"
     ]
    }
   ],
   "source": [
    "n = 3\n",
    "q1 = QuantumRegister(n,name='q1')\n",
    "q2 = QuantumRegister(1,name='q2')\n",
    "qc = QuantumCircuit(q1,q2,name='qc')\n",
    "theta = 0.52\n",
    "phi = 2*m.pi*theta\n",
    "#---------------------------------------------------\n",
    "for i in np.arange(n):\n",
    "    qc.h(q1[int(i)])\n",
    "qc.x( q2[0] )\n",
    "for j in np.arange(n):\n",
    "    for k in np.arange(2**j):\n",
    "        qc.cp( phi, q1[int(n-1-j)], q2[0] )\n",
    "print('\\n___ After Control-U Operations ___')\n",
    "oq.Wavefunction( qc, systems=[n,1] )\n",
    "#---------------------------------------------------\n",
    "Phases = [np.exp(4.0j*phi),np.exp(2.0j*phi),np.exp(1.0j*phi)]\n",
    "print(' ')\n",
    "for i in np.arange(8):\n",
    "    state = oq.Binary(int(i),8)\n",
    "    phase = m.sqrt(1/8)\n",
    "    for j in np.arange(3):\n",
    "        if(state[j]==1):\n",
    "            phase = phase*Phases[j]\n",
    "    print('State: ',state,' Phase: ',round(phase.real,5)+round(phase.imag,5)*1.0j)"
   ]
  },
  {
   "cell_type": "code",
   "execution_count": 9,
   "id": "ad6d8429-5903-4ee7-a7bf-78ab09a66273",
   "metadata": {
    "tags": []
   },
   "outputs": [
    {
     "name": "stdout",
     "output_type": "stream",
     "text": [
      "\n",
      "___ After QFT_dgr ___\n",
      "0.06024-0.10796j |000>|1>   0.18789+0.10484j |100>|1>   0.10682-0.03031j |010>|1>   -0.11217-0.39534j |110>|1>   0.08478-0.06705j |001>|1>   0.51766+0.65453j |101>|1>   0.13442+0.0157j |011>|1>   0.02037-0.17442j |111>|1>   \n"
     ]
    },
    {
     "data": {
      "image/png": "[encoded data removed]",
      "text/plain": [
       "<Figure size 700x500 with 1 Axes>"
      ]
     },
     "execution_count": 9,
     "metadata": {},
     "output_type": "execute_result"
    }
   ],
   "source": [
    "n = 3\n",
    "q1 = QuantumRegister(n,name='q1')\n",
    "q2 = QuantumRegister(1,name='q2')\n",
    "c = ClassicalRegister(n,name='c')\n",
    "qc = QuantumCircuit(q1,q2,c,name='qc')\n",
    "theta = 0.666\n",
    "#---------------------------------------------------\n",
    "for i in np.arange(n):\n",
    "    qc.h(q1[int(i)])\n",
    "qc.x( q2[0] )\n",
    "phi = 2*m.pi*theta\n",
    "for j in np.arange(n):\n",
    "    for k in np.arange(2**j):\n",
    "        qc.cp( phi, q1[int(n-1-j)], q2[0] )\n",
    "print('\\n___ After QFT_dgr ___')\n",
    "oq.QFT_dgr( qc,q1,n,swap=True )\n",
    "oq.Wavefunction( qc, systems=[n,1] )\n",
    "#---------------------------------------------------\n",
    "qc.measure(q1,c)\n",
    "#results = oq.execute(qc, BasicProvider().get_backend('qasm_simulator'), shots=10000).result()\n",
    "results = oq.execute(qc, S_simulator, shots=10000).result()\n",
    "plot_histogram({key: value / 10000. for key, value in results.get_counts().items()})"
   ]
  },
  {
   "cell_type": "code",
   "execution_count": 10,
   "id": "da2a93d7-c34c-44c7-b77e-6daec2fb0364",
   "metadata": {
    "tags": []
   },
   "outputs": [
    {
     "name": "stdout",
     "output_type": "stream",
     "text": [
      "Phases:  [4.3515, 0.0808]\n",
      "\n",
      "Combined θ:  0.70542\n"
     ]
    },
    {
     "data": {
      "image/png": "[encoded data removed]",
      "text/plain": [
       "<Figure size 700x500 with 1 Axes>"
      ]
     },
     "execution_count": 10,
     "metadata": {},
     "output_type": "execute_result"
    }
   ],
   "source": [
    "n1 = 3\n",
    "n2 = 2\n",
    "phases = []\n",
    "for p in np.arange( n2 ):\n",
    "    phases.append( round( 2*m.pi*random.random(),4 ) )\n",
    "theta = round( sum(phases)/(2*m.pi),5)\n",
    "if( theta > 1 ):\n",
    "    theta = round( theta - m.floor(theta),5)\n",
    "#=================================\n",
    "q = QuantumRegister(n1,name='q')\n",
    "qu = QuantumRegister(n2,name='qu')\n",
    "c = ClassicalRegister(n1,name='c')\n",
    "qc = QuantumCircuit(q,qu,c,name='qc')\n",
    "#----------------------------------\n",
    "for i in np.arange(n1):\n",
    "    qc.h( q[int(i)] )\n",
    "for i2 in np.arange(n2):\n",
    "    qc.x( qu[int(i2)] )\n",
    "qc.barrier()\n",
    "for j in np.arange(n1):\n",
    "    for j2 in np.arange(2**j):\n",
    "        for j3 in np.arange(n2):\n",
    "            qc.cp( phases[int(j3)], q[int(n1-1-j)], qu[int(j3)] )\n",
    "    qc.barrier()\n",
    "\n",
    "oq.QFT_dgr( qc,q,n1,swap=True )\n",
    "#---------------------------------------------------\n",
    "print('Phases: ',phases)\n",
    "print('\\nCombined \\u03B8: ',theta)\n",
    "qc.measure(q,c)\n",
    "#results = execute(qc, BasicAer.get_backend('qasm_simulator'), shots=10000).result()\n",
    "results = oq.execute(qc, S_simulator, shots=10000).result()\n",
    "plot_histogram({key: value / 10000. for key, value in results.get_counts().items()})"
   ]
  },
  {
   "cell_type": "code",
   "execution_count": 11,
   "id": "c874e211-8d56-4236-857b-bd452c588fc6",
   "metadata": {
    "tags": []
   },
   "outputs": [
    {
     "name": "stdout",
     "output_type": "stream",
     "text": [
      "      ┌───┐ ░                          ░                                     »\n",
      " q_0: ┤ H ├─░──────────────────────────░─────────────────────────────────────»\n",
      "      ├───┤ ░                          ░                                     »\n",
      " q_1: ┤ H ├─░──────────────────────────░──■───────────■───────────■──────────»\n",
      "      ├───┤ ░                          ░  │           │           │          »\n",
      " q_2: ┤ H ├─░──■───────────■───────────░──┼───────────┼───────────┼──────────»\n",
      "      ├───┤ ░  │P(4.3515)  │           ░  │P(4.3515)  │           │P(4.3515) »\n",
      "qu_0: ┤ X ├─░──■───────────┼───────────░──■───────────┼───────────■──────────»\n",
      "      ├───┤ ░              │P(0.0808)  ░              │P(0.0808)             »\n",
      "qu_1: ┤ X ├─░──────────────■───────────░──────────────■──────────────────────»\n",
      "      └───┘ ░                          ░                                     »\n",
      " c: 3/═══════════════════════════════════════════════════════════════════════»\n",
      "                                                                             »\n",
      "«                   ░                                                 »\n",
      "« q_0: ─────────────░──■───────────■───────────■───────────■──────────»\n",
      "«                   ░  │           │           │           │          »\n",
      "« q_1: ─■───────────░──┼───────────┼───────────┼───────────┼──────────»\n",
      "«       │           ░  │           │           │           │          »\n",
      "« q_2: ─┼───────────░──┼───────────┼───────────┼───────────┼──────────»\n",
      "«       │           ░  │P(4.3515)  │           │P(4.3515)  │          »\n",
      "«qu_0: ─┼───────────░──■───────────┼───────────■───────────┼──────────»\n",
      "«       │P(0.0808)  ░              │P(0.0808)              │P(0.0808) »\n",
      "«qu_1: ─■───────────░──────────────■───────────────────────■──────────»\n",
      "«                   ░                                                 »\n",
      "« c: 3/═══════════════════════════════════════════════════════════════»\n",
      "«                                                                     »\n",
      "«                                                       ░                   »\n",
      "« q_0: ─■───────────■───────────■───────────■───────────░──X────────────────»\n",
      "«       │           │           │           │           ░  │                »\n",
      "« q_1: ─┼───────────┼───────────┼───────────┼───────────░──┼───────■────────»\n",
      "«       │           │           │           │           ░  │ ┌───┐ │P(-π/2) »\n",
      "« q_2: ─┼───────────┼───────────┼───────────┼───────────░──X─┤ H ├─■────────»\n",
      "«       │P(4.3515)  │           │P(4.3515)  │           ░    └───┘          »\n",
      "«qu_0: ─■───────────┼───────────■───────────┼───────────░───────────────────»\n",
      "«                   │P(0.0808)              │P(0.0808)  ░                   »\n",
      "«qu_1: ─────────────■───────────────────────■───────────░───────────────────»\n",
      "«                                                       ░                   »\n",
      "« c: 3/═════════════════════════════════════════════════════════════════════»\n",
      "«                                                                           »\n",
      "«                               ┌───┐┌─┐\n",
      "« q_0: ──────■─────────■────────┤ H ├┤M├\n",
      "«      ┌───┐ │         │P(-π/2) └┬─┬┘└╥┘\n",
      "« q_1: ┤ H ├─┼─────────■─────────┤M├──╫─\n",
      "«      └───┘ │P(-π/4)    ┌─┐     └╥┘  ║ \n",
      "« q_2: ──────■───────────┤M├──────╫───╫─\n",
      "«                        └╥┘      ║   ║ \n",
      "«qu_0: ───────────────────╫───────╫───╫─\n",
      "«                         ║       ║   ║ \n",
      "«qu_1: ───────────────────╫───────╫───╫─\n",
      "«                         ║       ║   ║ \n",
      "« c: 3/═══════════════════╩═══════╩═══╩═\n",
      "«                         2       1   0 \n"
     ]
    }
   ],
   "source": [
    "print(qc)"
   ]
  },
  {
   "cell_type": "code",
   "execution_count": 12,
   "id": "a5e20386-0cd9-4f88-8a12-801a85c4eaac",
   "metadata": {
    "tags": []
   },
   "outputs": [
    {
     "name": "stdout",
     "output_type": "stream",
     "text": [
      "Phases:  [4.4112, 5.7139, 6.2794]  Combined θ:  0.61086\n",
      "\n",
      "Most Probable State: |10100> Probability:  0.4843\n",
      "\n",
      "Second Most Probable: |10011> Probability:  0.3305\n",
      "\n",
      "Corresponding Φ:  0.4524 \n",
      "\n",
      "Approximate θ:  0.61086\n"
     ]
    }
   ],
   "source": [
    "n1 = 5\n",
    "n2 = 3\n",
    "phases = []\n",
    "trials = 10000\n",
    "for p in np.arange( n2 ):\n",
    "    phases.append( round( 2*m.pi*random.random(),4 ) )\n",
    "theta = round( sum(phases)/(2*m.pi),5)\n",
    "if( theta > 1 ):\n",
    "    theta = round( theta - m.floor(theta),5)\n",
    "#================================================================== QPE Circuit\n",
    "q = QuantumRegister(n1,name='q')\n",
    "qu = QuantumRegister(n2,name='qu')\n",
    "c = ClassicalRegister(n1,name='c')\n",
    "qc = QuantumCircuit(q,qu,c,name='qc')\n",
    "#-------------------------------------\n",
    "for i in np.arange(n1):\n",
    "    qc.h( q[int(i)] )\n",
    "for i2 in np.arange(n2):\n",
    "    qc.x( qu[int(i2)] )\n",
    "for j in np.arange(n1):\n",
    "    for j2 in np.arange(2**j):\n",
    "        for j3 in np.arange(n2):\n",
    "            qc.cp( phases[int(j3)], q[int(n1-1-j)], qu[int(j3)] )\n",
    "oq.QFT_dgr( qc,q,n1,swap=True )\n",
    "#==================================================================\n",
    "print('Phases: ',phases,' Combined \\u03B8: ',theta)\n",
    "qc.measure(q,c)\n",
    "M = oq.Measurement( qc,systems=[n1,n2],shots=trials,return_M=True,print_M=False )\n",
    "MP = oq.Most_Probable(M,2)\n",
    "for mp in np.arange(2):\n",
    "    MP[0][mp] = MP[0][mp]/trials\n",
    "phi,theta = oq.QPE_phi(MP)\n",
    "print('\\nMost Probable State: |'+str(MP[1][0])+'> Probability: ',round(MP[0][0],5))\n",
    "print('\\nSecond Most Probable: |'+str(MP[1][1])+'> Probability: ',round(MP[0][1],5))\n",
    "print('\\nCorresponding \\u03A6: ',phi,'\\n\\nApproximate \\u03B8: ',round(theta,5))"
   ]
  },
  {
   "cell_type": "code",
   "execution_count": null,
   "id": "e0b5cb01-3cdc-4021-844b-a3677449d827",
   "metadata": {},
   "outputs": [],
   "source": []
  }
 ],
 "metadata": {
  "kernelspec": {
   "display_name": "Python 3 (ipykernel)",
   "language": "python",
   "name": "python3"
  },
  "language_info": {
   "codemirror_mode": {
    "name": "ipython",
    "version": 3
   },
   "file_extension": ".py",
   "mimetype": "text/x-python",
   "name": "python",
   "nbconvert_exporter": "python",
   "pygments_lexer": "ipython3",
   "version": "3.11.5"
  }
 },
 "nbformat": 4,
 "nbformat_minor": 5
}

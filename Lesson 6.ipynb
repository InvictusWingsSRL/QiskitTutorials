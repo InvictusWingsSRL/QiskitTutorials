{
 "cells": [
  {
   "cell_type": "code",
   "execution_count": 1,
   "id": "f881ed00-a05c-4571-aeb0-461cb4ffce52",
   "metadata": {
    "tags": []
   },
   "outputs": [],
   "source": [
    "#Libraries needed to implement and simulate quantum circuits\n",
    "from qiskit import QuantumRegister, ClassicalRegister, QuantumCircuit, transpile, qasm2, qasm3\n",
    "from qiskit_aer import Aer\n",
    "from qiskit.primitives import BackendSampler\n",
    "#Custem functions to simplify answers\n",
    "import Our_Qiskit_Functions as oq #a part of the libabry presented in arXiv:1903.04359v1.\n",
    "\n",
    "import numpy as np\n",
    "import math as m\n",
    "import scipy as sci\n",
    "\n",
    "#Initialize backends simulators to visualize circuits\n",
    "S_simulator = Aer.backends(name='statevector_simulator')[0]\n",
    "M_simulator = Aer.backends(name='qasm_simulator')[0]"
   ]
  },
  {
   "cell_type": "code",
   "execution_count": 2,
   "id": "bac8daf4-6493-44e8-b585-af646a4a3b7b",
   "metadata": {
    "tags": []
   },
   "outputs": [
    {
     "name": "stdout",
     "output_type": "stream",
     "text": [
      "_____Initial State_________\n",
      "1.0  |1010>   \n",
      "\n",
      "_____Operator H + X + Y + Z_________\n",
      "-0.70711j |0100>   0.70711j |1100>   \n",
      "\n",
      "_____Operator H + X + Y + Z_________\n",
      "1.0  |1010>   \n"
     ]
    }
   ],
   "source": [
    "q = QuantumRegister(4,name='q')\n",
    "H_qc = QuantumCircuit(q,name='qc')\n",
    "\n",
    "H_qc.x(q[0])\n",
    "H_qc.id(q[1])\n",
    "H_qc.x(q[2])\n",
    "\n",
    "print('_____Initial State_________')\n",
    "oq.Wavefunction(H_qc)\n",
    "\n",
    "H_qc.h(q[0])\n",
    "H_qc.x(q[1])\n",
    "H_qc.y(q[2])\n",
    "H_qc.z(q[3])\n",
    "\n",
    "print('\\n_____Operator H + X + Y + Z_________')\n",
    "oq.Wavefunction(H_qc)\n",
    "\n",
    "H_qc.h(q[0])\n",
    "H_qc.x(q[1])\n",
    "H_qc.y(q[2])\n",
    "H_qc.z(q[3])\n",
    "\n",
    "print('\\n_____Operator H + X + Y + Z_________')\n",
    "oq.Wavefunction(H_qc);"
   ]
  },
  {
   "cell_type": "code",
   "execution_count": 3,
   "id": "6c8c976d-4004-4dbc-8727-3797ce23b304",
   "metadata": {
    "tags": []
   },
   "outputs": [
    {
     "name": "stdout",
     "output_type": "stream",
     "text": [
      "_____Initial State_________\n",
      "1.0  |0>   \n",
      "\n",
      "_____Operator XZ_________\n",
      "-1.0  |1>   \n",
      "\n",
      "_____Operator XZ_________\n",
      "-1.0  |0>   \n"
     ]
    }
   ],
   "source": [
    "q = QuantumRegister(1,name='q')\n",
    "XZ_qc = QuantumCircuit(q,name='qc')\n",
    "\n",
    "XZ_qc.id(q[0])\n",
    "\n",
    "print('_____Initial State_________')\n",
    "oq.Wavefunction(XZ_qc)\n",
    "\n",
    "XZ_qc.x(q[0])\n",
    "XZ_qc.z(q[0])\n",
    "\n",
    "print('\\n_____Operator XZ_________')\n",
    "oq.Wavefunction(XZ_qc)\n",
    "\n",
    "XZ_qc.x(q[0])\n",
    "XZ_qc.z(q[0])\n",
    "\n",
    "print('\\n_____Operator XZ_________')\n",
    "oq.Wavefunction(XZ_qc);"
   ]
  },
  {
   "cell_type": "code",
   "execution_count": 4,
   "id": "63e4f59c-2d90-4750-bdaa-1ae108adb786",
   "metadata": {
    "tags": []
   },
   "outputs": [
    {
     "name": "stdout",
     "output_type": "stream",
     "text": [
      "_____Initial State_________\n",
      "1.0  |0>   \n",
      "\n",
      "_____Operator XZ_________\n",
      "-1.0  |1>   \n",
      "\n",
      "_____Operator ZX_________\n",
      "1.0  |0>   \n"
     ]
    }
   ],
   "source": [
    "q = QuantumRegister(1,name='q')\n",
    "XZ_qc = QuantumCircuit(q,name='qc')\n",
    "\n",
    "XZ_qc.id(q[0])\n",
    "\n",
    "print('_____Initial State_________')\n",
    "oq.Wavefunction(XZ_qc)\n",
    "\n",
    "XZ_qc.x(q[0])\n",
    "XZ_qc.z(q[0])\n",
    "\n",
    "print('\\n_____Operator XZ_________')\n",
    "oq.Wavefunction(XZ_qc)\n",
    "\n",
    "XZ_qc.z(q[0])\n",
    "XZ_qc.x(q[0])\n",
    "\n",
    "print('\\n_____Operator ZX_________')\n",
    "oq.Wavefunction(XZ_qc);"
   ]
  },
  {
   "cell_type": "code",
   "execution_count": 5,
   "id": "04ec6f69-3a7f-4644-804c-b76e5c1476c5",
   "metadata": {
    "tags": []
   },
   "outputs": [
    {
     "name": "stdout",
     "output_type": "stream",
     "text": [
      "_____Initial State_________\n",
      "0.5  |00>   -0.5  |10>   -0.5  |01>   0.5  |11>   \n",
      "\n",
      "_____After QFT_________\n",
      "0.5-0.5j |10>   0.5+0.5j |11>   \n"
     ]
    }
   ],
   "source": [
    "q = QuantumRegister(2,name='q')\n",
    "F_qc = QuantumCircuit(q,name='qc')\n",
    "\n",
    "F_qc.x(q[0])\n",
    "F_qc.h(q[0])\n",
    "F_qc.x(q[1])\n",
    "F_qc.h(q[1])\n",
    "\n",
    "print('_____Initial State_________')\n",
    "oq.Wavefunction(F_qc)\n",
    "\n",
    "F_qc.h(q[0])\n",
    "F_qc.cp(m.pi/2,q[1],q[0])\n",
    "F_qc.h(q[1])\n",
    "\n",
    "print('\\n_____After QFT_________')\n",
    "oq.Wavefunction(F_qc);\n"
   ]
  },
  {
   "cell_type": "code",
   "execution_count": 6,
   "id": "1214a6dc-c7cc-477a-96ef-ed34a9c63828",
   "metadata": {
    "tags": []
   },
   "outputs": [
    {
     "name": "stdout",
     "output_type": "stream",
     "text": [
      "_____Initial State_________\n",
      "1.0  |001>   \n",
      "\n",
      "_____After QFT_________\n",
      "0.35355  |000>   0.25+0.25j |100>   0.25+0.25j |010>   0.35355j |110>   -0.35355  |001>   -0.25-0.25j |101>   -0.25-0.25j |011>   -0.35355j |111>   \n"
     ]
    }
   ],
   "source": [
    "q = QuantumRegister(3,name='q')\n",
    "F_qc = QuantumCircuit(q,name='qc')\n",
    "\n",
    "F_qc.x(q[2])\n",
    "\n",
    "print('_____Initial State_________')\n",
    "oq.Wavefunction(F_qc)\n",
    "\n",
    "#---------------------------- qubit 0\n",
    "F_qc.h(q[0])\n",
    "F_qc.cp(m.pi/2,q[1],q[0])\n",
    "F_qc.cp(m.pi/4,q[2],q[0])\n",
    "#---------------------------- qubit 1\n",
    "F_qc.h(q[1])\n",
    "F_qc.cp(m.pi/4,q[2],q[1])\n",
    "#---------------------------- qubit 2\n",
    "F_qc.h(q[2])\n",
    "\n",
    "\n",
    "print('\\n_____After QFT_________')\n",
    "oq.Wavefunction(F_qc);\n"
   ]
  },
  {
   "cell_type": "code",
   "execution_count": 7,
   "id": "08d5991e-8df8-4676-9f19-60217fe11817",
   "metadata": {
    "tags": []
   },
   "outputs": [
    {
     "name": "stdout",
     "output_type": "stream",
     "text": [
      "_____Initial State_________\n",
      "0.5  |00>   -0.5  |10>   -0.5  |01>   0.5  |11>   \n",
      "\n",
      "_____First QFT_________\n",
      "0.5-0.5j |10>   0.5+0.5j |11>   \n",
      "\n",
      "_____Second QFT_________\n",
      "0.5  |00>   -0.5j |01>   -0.5+0.5j |11>   \n"
     ]
    }
   ],
   "source": [
    "q = QuantumRegister(2,name='q')\n",
    "F_qc = QuantumCircuit(q,name='qc')\n",
    "\n",
    "F_qc.x(q[0])\n",
    "F_qc.h(q[0])\n",
    "F_qc.x(q[1])\n",
    "F_qc.h(q[1])\n",
    "\n",
    "print('_____Initial State_________')\n",
    "oq.Wavefunction(F_qc)\n",
    "\n",
    "oq.QFT(F_qc,q,2)\n",
    "\n",
    "print('\\n_____First QFT_________')\n",
    "oq.Wavefunction(F_qc)\n",
    "\n",
    "oq.QFT(F_qc,q,2)\n",
    "\n",
    "print('\\n_____Second QFT_________')\n",
    "oq.Wavefunction(F_qc);\n"
   ]
  },
  {
   "cell_type": "code",
   "execution_count": 8,
   "id": "37e83be3-a9ce-4537-9505-87c97bb6a20f",
   "metadata": {
    "tags": []
   },
   "outputs": [
    {
     "name": "stdout",
     "output_type": "stream",
     "text": [
      "_____Initial State_________\n",
      "0.5  |00>   -0.5  |10>   -0.5  |01>   0.5  |11>   \n",
      " \n",
      "_____QFT_________\n",
      "0.5-0.5j |10>   0.5+0.5j |11>   \n",
      " \n",
      "_____Inverse QFT_________\n",
      "0.5  |00>   -0.5  |10>   -0.5  |01>   0.5  |11>   \n"
     ]
    }
   ],
   "source": [
    "q = QuantumRegister(2,name='q')\n",
    "F_qc = QuantumCircuit(q,name='qc')\n",
    "\n",
    "F_qc.x(q[0])\n",
    "F_qc.h(q[0])\n",
    "F_qc.x(q[1])\n",
    "F_qc.h(q[1])\n",
    "\n",
    "print('_____Initial State_________')\n",
    "oq.Wavefunction(F_qc)\n",
    "print(' ')\n",
    "\n",
    "F_qc.h(q[0])\n",
    "F_qc.cp(m.pi/2,q[1],q[0])\n",
    "F_qc.h(q[1])\n",
    "\n",
    "print('_____QFT_________')\n",
    "oq.Wavefunction(F_qc)\n",
    "print(' ')\n",
    "\n",
    "F_qc.h(q[1])\n",
    "F_qc.cp(-m.pi/2,q[1],q[0])\n",
    "F_qc.h(q[0])\n",
    "\n",
    "print('_____Inverse QFT_________')\n",
    "oq.Wavefunction(F_qc);"
   ]
  },
  {
   "cell_type": "code",
   "execution_count": 9,
   "id": "2d5d8699-986e-4685-a38d-5aeef31ce6dc",
   "metadata": {
    "tags": []
   },
   "outputs": [
    {
     "name": "stdout",
     "output_type": "stream",
     "text": [
      "_____Initial State_________\n",
      "0.5  |00>   -0.5  |10>   -0.5  |01>   0.5  |11>   \n",
      "\n",
      "_____QFT_________\n",
      "0.5-0.5j |10>   0.5+0.5j |11>   \n",
      "\n",
      "_____Inverse QFT_________\n",
      "0.5  |00>   -0.5  |10>   -0.5  |01>   0.5  |11>   \n"
     ]
    }
   ],
   "source": [
    "q = QuantumRegister(2,name='q')\n",
    "F_qc = QuantumCircuit(q,name='qc')\n",
    "\n",
    "F_qc.x(q[0])\n",
    "F_qc.h(q[0])\n",
    "F_qc.x(q[1])\n",
    "F_qc.h(q[1])\n",
    "\n",
    "print('_____Initial State_________')\n",
    "oq.Wavefunction(F_qc)\n",
    "\n",
    "oq.QFT(F_qc,q,2)\n",
    "\n",
    "print('\\n_____QFT_________')\n",
    "oq.Wavefunction(F_qc)\n",
    "\n",
    "oq.QFT_dgr(F_qc,q,2)\n",
    "\n",
    "print('\\n_____Inverse QFT_________')\n",
    "oq.Wavefunction(F_qc);"
   ]
  },
  {
   "cell_type": "code",
   "execution_count": 10,
   "id": "570d7729-f670-48e3-8370-4bcdf1dd9928",
   "metadata": {},
   "outputs": [
    {
     "name": "stdout",
     "output_type": "stream",
     "text": [
      "______DFT†_________\n",
      "State:  [0, 0, 0]    Amplitude:  0.35355\n",
      "State:  [0, 0, 1]    Amplitude:  (0.25+0.25j)\n",
      "State:  [0, 1, 0]    Amplitude:  0.35355j\n",
      "State:  [0, 1, 1]    Amplitude:  (-0.25+0.25j)\n",
      "State:  [1, 0, 0]    Amplitude:  -0.35355\n",
      "State:  [1, 0, 1]    Amplitude:  (-0.25-0.25j)\n",
      "State:  [1, 1, 0]    Amplitude:  (-0-0.35355j)\n",
      "State:  [1, 1, 1]    Amplitude:  (0.25-0.25j)\n",
      "\n",
      "_____QFT________\n",
      "0.35355  |000>   0.25+0.25j |100>   0.35355j |010>   -0.25+0.25j |110>   -0.35355  |001>   -0.25-0.25j |101>   -0.35355j |011>   0.25-0.25j |111>   \n"
     ]
    }
   ],
   "source": [
    "X = [0,1/m.sqrt(8),0,0,0,0,0,0]\n",
    "FX = oq.DFT(X, inverse = True)\n",
    "\n",
    "print('______DFT\\u2020_________')\n",
    "for i in range(len(FX)):\n",
    "    print ('State: ',oq.Binary(i,2**3), '   Amplitude: ', FX[i])\n",
    "\n",
    "#===================================================================\n",
    "\n",
    "q = QuantumRegister(3, name='q')\n",
    "qc = QuantumCircuit(q, name='qc')\n",
    "qc.x(q[2])\n",
    "oq.QFT(qc,q,3)\n",
    "print('\\n_____QFT________')\n",
    "oq.Wavefunction(qc);"
   ]
  },
  {
   "cell_type": "code",
   "execution_count": 11,
   "id": "9c4d0f45-f6cb-4a23-a3c9-b1db1c648b80",
   "metadata": {
    "tags": []
   },
   "outputs": [
    {
     "name": "stdout",
     "output_type": "stream",
     "text": [
      "______DFT†_________\n",
      "State:  [0, 0, 0]    Amplitude:  0.35355\n",
      "State:  [0, 0, 1]    Amplitude:  (0.25+0.25j)\n",
      "State:  [0, 1, 0]    Amplitude:  0.35355j\n",
      "State:  [0, 1, 1]    Amplitude:  (-0.25+0.25j)\n",
      "State:  [1, 0, 0]    Amplitude:  -0.35355\n",
      "State:  [1, 0, 1]    Amplitude:  (-0.25-0.25j)\n",
      "State:  [1, 1, 0]    Amplitude:  (-0-0.35355j)\n",
      "State:  [1, 1, 1]    Amplitude:  (0.25-0.25j)\n",
      "\n",
      "_____QFT________\n",
      "0.35355  |000>   -0.35355  |100>   0.35355j |010>   -0.35355j |110>   0.25+0.25j |001>   -0.25-0.25j |101>   -0.25+0.25j |011>   0.25-0.25j |111>   \n"
     ]
    }
   ],
   "source": [
    "X = [0,1/m.sqrt(8),0,0,0,0,0,0]\n",
    "FX = oq.DFT(X, inverse = True)\n",
    "\n",
    "print('______DFT\\u2020_________')\n",
    "for i in range(len(FX)):\n",
    "    print ('State: ',oq.Binary(i,2**3), '   Amplitude: ', FX[i])\n",
    "\n",
    "#===================================================================\n",
    "\n",
    "q = QuantumRegister(3, name='q')\n",
    "qc = QuantumCircuit(q, name='qc')\n",
    "qc.x(q[2])\n",
    "oq.QFT(qc,q,3)\n",
    "qc.swap(q[0],q[2])\n",
    "print('\\n_____QFT________')\n",
    "oq.Wavefunction(qc);"
   ]
  },
  {
   "cell_type": "code",
   "execution_count": 12,
   "id": "de3e397f-5123-45e7-9ac5-cfb7d272397e",
   "metadata": {
    "tags": []
   },
   "outputs": [
    {
     "name": "stdout",
     "output_type": "stream",
     "text": [
      "marked state:  [1, 0]\n",
      " \n",
      "_____Initial State (QFT)_________\n",
      "0.5  |00>   0.5  |10>   0.5  |01>   0.5  |11>   \n",
      " \n",
      "__________Flip the marked state_____________\n",
      "0.5  |00>   -0.5  |10>   0.5  |01>   0.5  |11>   \n",
      " \n",
      "_____QFT_________\n",
      "0.5  |00>   0.5  |10>   -0.5  |01>   0.5  |11>   \n",
      " \n",
      "__________Flip the |00> state_____________\n",
      "-0.5  |00>   0.5  |10>   -0.5  |01>   0.5  |11>   \n",
      " \n",
      "_____QFT_dgr_________\n",
      "-1.0  |10>   \n"
     ]
    }
   ],
   "source": [
    "q = QuantumRegister(2, name='q')\n",
    "anc = QuantumRegister(1, name='anc')\n",
    "FG_qc = QuantumCircuit(q, anc, name='qc')\n",
    "marked = [1,0]\n",
    "\n",
    "FG_qc.x(anc[0])\n",
    "\n",
    "print('marked state: ',marked)\n",
    "print(' ')\n",
    "\n",
    "oq.QFT(FG_qc,q,2)\n",
    "\n",
    "print('_____Initial State (QFT)_________')\n",
    "oq.Wavefunction(FG_qc, systems=[2,1], show_systems=[True,False])\n",
    "print(' ')\n",
    "\n",
    "oq.X_Transformation(FG_qc, q, marked)\n",
    "FG_qc.h(anc[0])\n",
    "FG_qc.ccx(q[0],q[1],anc[0])\n",
    "oq.X_Transformation(FG_qc,q,marked)\n",
    "\n",
    "FG_qc.h(anc[0])\n",
    "print('__________Flip the marked state_____________')\n",
    "oq.Wavefunction(FG_qc, systems=[2,1], show_systems=[True,False])\n",
    "print(' ')\n",
    "\n",
    "oq.QFT(FG_qc,q,2)\n",
    "\n",
    "print('_____QFT_________')\n",
    "oq.Wavefunction(FG_qc, systems=[2,1], show_systems=[True,False])\n",
    "print(' ')\n",
    "FG_qc.h(anc[0])\n",
    "\n",
    "oq.X_Transformation(FG_qc, q, [0,0])\n",
    "FG_qc.ccx(q[0],q[1],anc[0])\n",
    "FG_qc.h(anc[0])\n",
    "oq.X_Transformation(FG_qc,q,[0,0])\n",
    "\n",
    "print('__________Flip the |00> state_____________')\n",
    "oq.Wavefunction(FG_qc, systems=[2,1], show_systems=[True,False])\n",
    "print(' ')\n",
    "\n",
    "oq.QFT_dgr(FG_qc,q,2)\n",
    "\n",
    "print('_____QFT_dgr_________')\n",
    "oq.Wavefunction(FG_qc, systems=[2,1], show_systems=[True,False]);"
   ]
  },
  {
   "cell_type": "code",
   "execution_count": 13,
   "id": "b6c02946-b96c-4587-93d6-87740f69398f",
   "metadata": {},
   "outputs": [
    {
     "name": "stdout",
     "output_type": "stream",
     "text": [
      "______DFT†_________\n",
      "State:  [0, 0, 0]    Amplitude:  0.35355\n",
      "State:  [0, 0, 1]    Amplitude:  (0.25+0.25j)\n",
      "State:  [0, 1, 0]    Amplitude:  0.35355j\n",
      "State:  [0, 1, 1]    Amplitude:  (-0.25+0.25j)\n",
      "State:  [1, 0, 0]    Amplitude:  -0.35355\n",
      "State:  [1, 0, 1]    Amplitude:  (-0.25-0.25j)\n",
      "State:  [1, 1, 0]    Amplitude:  (-0-0.35355j)\n",
      "State:  [1, 1, 1]    Amplitude:  (0.25-0.25j)\n",
      "\n",
      "_____QFT________\n",
      "0.35355  |000>   -0.35355  |100>   0.35355j |010>   -0.35355j |110>   0.25+0.25j |001>   -0.25-0.25j |101>   -0.25+0.25j |011>   0.25-0.25j |111>   \n"
     ]
    }
   ],
   "source": [
    "X = [0,1/m.sqrt(8),0,0,0,0,0,0]\n",
    "FX = oq.DFT(X, inverse = True)\n",
    "\n",
    "print('______DFT\\u2020_________')\n",
    "for i in range(len(FX)):\n",
    "    print ('State: ',oq.Binary(i,2**3), '   Amplitude: ', FX[i])\n",
    "\n",
    "#===================================================================\n",
    "\n",
    "q = QuantumRegister(3, name='q')\n",
    "qc = QuantumCircuit(q, name='qc')\n",
    "qc.x(q[2])\n",
    "oq.QFT(qc,q,3,swap=True)\n",
    "print('\\n_____QFT________')\n",
    "oq.Wavefunction(qc);"
   ]
  },
  {
   "cell_type": "code",
   "execution_count": 14,
   "id": "2ca4c09d-adaa-4418-af54-b0843d804c0b",
   "metadata": {},
   "outputs": [
    {
     "data": {
      "image/png": "[encoded data removed]",
      "text/plain": [
       "<Figure size 956.385x284.278 with 1 Axes>"
      ]
     },
     "execution_count": 14,
     "metadata": {},
     "output_type": "execute_result"
    }
   ],
   "source": [
    "qc.draw(output='mpl')"
   ]
  },
  {
   "cell_type": "code",
   "execution_count": null,
   "id": "86146e1e-c108-42d6-be2b-18d364b87299",
   "metadata": {},
   "outputs": [],
   "source": []
  }
 ],
 "metadata": {
  "kernelspec": {
   "display_name": "Python 3 (ipykernel)",
   "language": "python",
   "name": "python3"
  },
  "language_info": {
   "codemirror_mode": {
    "name": "ipython",
    "version": 3
   },
   "file_extension": ".py",
   "mimetype": "text/x-python",
   "name": "python",
   "nbconvert_exporter": "python",
   "pygments_lexer": "ipython3",
   "version": "3.11.5"
  }
 },
 "nbformat": 4,
 "nbformat_minor": 5
}

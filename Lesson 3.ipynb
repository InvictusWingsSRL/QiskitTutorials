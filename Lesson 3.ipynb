{
 "cells": [
  {
   "cell_type": "code",
   "execution_count": 1,
   "id": "6c53e81a-41db-4977-993e-3ed454931bb3",
   "metadata": {
    "tags": []
   },
   "outputs": [],
   "source": [
    "#Libraries needed to implement and simulate quantum circuits\n",
    "from qiskit import QuantumRegister, ClassicalRegister, QuantumCircuit, transpile, qasm2, qasm3\n",
    "from qiskit_aer import Aer\n",
    "from qiskit.primitives import BackendSampler\n",
    "#Custem functions to simplify answers\n",
    "import Our_Qiskit_Functions as oq #a part of the library presented in arXiv:1903.04359v1.\n",
    "\n",
    "import numpy as np\n",
    "import math as m\n",
    "\n",
    "#Initialize backends simulators to visualize circuits\n",
    "S_simulator = Aer.backends(name='statevector_simulator')[0]\n",
    "Q_simulator = Aer.backends(name='qasm_simulator')[0]"
   ]
  },
  {
   "cell_type": "code",
   "execution_count": 2,
   "id": "2c98f08a-d10f-4856-9ee6-b176179129fc",
   "metadata": {
    "tags": []
   },
   "outputs": [
    {
     "name": "stdout",
     "output_type": "stream",
     "text": [
      "___________Initial____________\n",
      "1.0  |0>   \n",
      "___________Final____________\n",
      "1.0  |0>   \n"
     ]
    },
    {
     "data": {
      "image/png": "[encoded data removed]",
      "text/plain": [
       "<Figure size 269.064x117.056 with 1 Axes>"
      ]
     },
     "execution_count": 2,
     "metadata": {},
     "output_type": "execute_result"
    }
   ],
   "source": [
    "q = QuantumRegister(1, name='q')\n",
    "I_qc = QuantumCircuit(q, name = 'qc')\n",
    "\n",
    "I_qc.id(q[0])\n",
    "print('___________Initial____________')\n",
    "oq.Wavefunction(I_qc)\n",
    "\n",
    "I_qc.id(q[0])\n",
    "print('___________Final____________')\n",
    "oq.Wavefunction(I_qc)\n",
    "\n",
    "I_qc.draw(output='mpl')"
   ]
  },
  {
   "cell_type": "code",
   "execution_count": 3,
   "id": "d6a0b3cf-5d1d-4633-918f-636c03821599",
   "metadata": {
    "tags": []
   },
   "outputs": [
    {
     "name": "stdout",
     "output_type": "stream",
     "text": [
      "___________Initial____________\n",
      "1.0  |0>   \n",
      "___________Final____________\n",
      "0.70711  |0>   0.70711  |1>   \n"
     ]
    },
    {
     "data": {
      "image/png": "[encoded data removed]",
      "text/plain": [
       "<Figure size 269.064x117.056 with 1 Axes>"
      ]
     },
     "execution_count": 3,
     "metadata": {},
     "output_type": "execute_result"
    }
   ],
   "source": [
    "q = QuantumRegister(1, name='q')\n",
    "H_qc = QuantumCircuit(q, name = 'qc')\n",
    "\n",
    "H_qc.id(q[0])\n",
    "print('___________Initial____________')\n",
    "oq.Wavefunction(I_qc)\n",
    "\n",
    "H_qc.h(q[0])\n",
    "print('___________Final____________')\n",
    "oq.Wavefunction(H_qc)\n",
    "\n",
    "H_qc.draw(output='mpl')"
   ]
  },
  {
   "cell_type": "code",
   "execution_count": 4,
   "id": "acc80063-fe66-4bd7-be4b-ee9f19eac17d",
   "metadata": {
    "tags": []
   },
   "outputs": [
    {
     "name": "stdout",
     "output_type": "stream",
     "text": [
      "___________Initial____________\n",
      "1.0  |0>   \n",
      "___________Final____________\n",
      "1.0  |1>   \n"
     ]
    },
    {
     "data": {
      "image/png": "[encoded data removed]",
      "text/plain": [
       "<Figure size 269.064x117.056 with 1 Axes>"
      ]
     },
     "execution_count": 4,
     "metadata": {},
     "output_type": "execute_result"
    }
   ],
   "source": [
    "q = QuantumRegister(1, name='q')\n",
    "X_qc = QuantumCircuit(q, name = 'qc')\n",
    "\n",
    "X_qc.id(q[0])\n",
    "print('___________Initial____________')\n",
    "oq.Wavefunction(X_qc)\n",
    "\n",
    "X_qc.x(q[0])\n",
    "print('___________Final____________')\n",
    "oq.Wavefunction(X_qc)\n",
    "\n",
    "X_qc.draw(output='mpl')"
   ]
  },
  {
   "cell_type": "code",
   "execution_count": 5,
   "id": "985401f3-2c1a-40f1-a746-35d331039478",
   "metadata": {
    "tags": []
   },
   "outputs": [
    {
     "name": "stdout",
     "output_type": "stream",
     "text": [
      "___________Initial____________\n",
      "1.0  |0>   \n",
      "___________Final____________\n",
      "1.0j |1>   \n"
     ]
    },
    {
     "data": {
      "image/png": "[encoded data removed]",
      "text/plain": [
       "<Figure size 269.064x117.056 with 1 Axes>"
      ]
     },
     "execution_count": 5,
     "metadata": {},
     "output_type": "execute_result"
    }
   ],
   "source": [
    "q = QuantumRegister(1, name='q')\n",
    "Y_qc = QuantumCircuit(q, name = 'qc')\n",
    "\n",
    "Y_qc.id(q[0])\n",
    "print('___________Initial____________')\n",
    "oq.Wavefunction(Y_qc)\n",
    "\n",
    "Y_qc.y(q[0])\n",
    "print('___________Final____________')\n",
    "oq.Wavefunction(Y_qc)\n",
    "\n",
    "Y_qc.draw(output='mpl')"
   ]
  },
  {
   "cell_type": "code",
   "execution_count": 6,
   "id": "23a90f80-c206-4048-ab36-e2555de8cafa",
   "metadata": {
    "tags": []
   },
   "outputs": [
    {
     "name": "stdout",
     "output_type": "stream",
     "text": [
      "___________Initial____________\n",
      "0.70711  |0>   0.70711  |1>   \n",
      "___________Final____________\n",
      "0.70711  |0>   -0.70711  |1>   \n"
     ]
    },
    {
     "data": {
      "image/png": "[encoded data removed]",
      "text/plain": [
       "<Figure size 269.064x117.056 with 1 Axes>"
      ]
     },
     "execution_count": 6,
     "metadata": {},
     "output_type": "execute_result"
    }
   ],
   "source": [
    "q = QuantumRegister(1, name='q')\n",
    "Z_qc = QuantumCircuit(q, name = 'qc')\n",
    "\n",
    "Z_qc.h(q[0])\n",
    "print('___________Initial____________')\n",
    "oq.Wavefunction(Z_qc)\n",
    "\n",
    "Z_qc.z(q[0])\n",
    "print('___________Final____________')\n",
    "oq.Wavefunction(Z_qc)\n",
    "\n",
    "Z_qc.draw(output='mpl')"
   ]
  },
  {
   "cell_type": "code",
   "execution_count": 7,
   "id": "f525ef43-e065-44a4-be1b-abcfd284db41",
   "metadata": {
    "tags": []
   },
   "outputs": [
    {
     "name": "stdout",
     "output_type": "stream",
     "text": [
      "___________Initial____________\n",
      "0.70711  |0>   0.70711  |1>   \n",
      "___________Final____________\n",
      "0.70711  |0>   0.70711j |1>   \n"
     ]
    },
    {
     "data": {
      "image/png": "[encoded data removed]",
      "text/plain": [
       "<Figure size 269.064x117.056 with 1 Axes>"
      ]
     },
     "execution_count": 7,
     "metadata": {},
     "output_type": "execute_result"
    }
   ],
   "source": [
    "q = QuantumRegister(1, name='q')\n",
    "u1_qc = QuantumCircuit(q, name = 'qc')\n",
    "\n",
    "u1_qc.h(q[0])\n",
    "print('___________Initial____________')\n",
    "oq.Wavefunction(u1_qc)\n",
    "\n",
    "u1_qc.p(m.pi/2,q[0])\n",
    "print('___________Final____________')\n",
    "oq.Wavefunction(u1_qc)\n",
    "\n",
    "u1_qc.draw(output='mpl')"
   ]
  },
  {
   "cell_type": "code",
   "execution_count": 8,
   "id": "f079aead-c9f6-4eb1-a2fc-55b582ba9e98",
   "metadata": {
    "tags": []
   },
   "outputs": [
    {
     "name": "stdout",
     "output_type": "stream",
     "text": [
      "___________Initial____________\n",
      "0.70711  |0>   0.70711  |1>   \n",
      "___________Final____________\n",
      "0.70711  |0>   0.70711j |1>   \n"
     ]
    },
    {
     "data": {
      "image/png": "[encoded data removed]",
      "text/plain": [
       "<Figure size 269.064x117.056 with 1 Axes>"
      ]
     },
     "execution_count": 8,
     "metadata": {},
     "output_type": "execute_result"
    }
   ],
   "source": [
    "q = QuantumRegister(1, name='q')\n",
    "S_qc = QuantumCircuit(q, name = 'qc')\n",
    "\n",
    "S_qc.h(q[0])\n",
    "print('___________Initial____________')\n",
    "oq.Wavefunction(S_qc)\n",
    "\n",
    "S_qc.s(q[0])\n",
    "print('___________Final____________')\n",
    "oq.Wavefunction(S_qc)\n",
    "\n",
    "S_qc.draw(output='mpl')"
   ]
  },
  {
   "cell_type": "code",
   "execution_count": 9,
   "id": "4fcf12e6-d7c1-40ca-a3c2-9b9711815aed",
   "metadata": {
    "tags": []
   },
   "outputs": [
    {
     "name": "stdout",
     "output_type": "stream",
     "text": [
      "___________Initial____________\n",
      "0.70711  |0>   0.70711  |1>   \n",
      "___________Final____________\n",
      "0.70711  |0>   0.5+0.5j |1>   \n"
     ]
    },
    {
     "data": {
      "image/png": "[encoded data removed]",
      "text/plain": [
       "<Figure size 269.064x117.056 with 1 Axes>"
      ]
     },
     "execution_count": 9,
     "metadata": {},
     "output_type": "execute_result"
    }
   ],
   "source": [
    "q = QuantumRegister(1, name='q')\n",
    "T_qc = QuantumCircuit(q, name = 'qc')\n",
    "\n",
    "T_qc.h(q[0])\n",
    "print('___________Initial____________')\n",
    "oq.Wavefunction(T_qc)\n",
    "\n",
    "T_qc.t(q[0])\n",
    "#T_qc.t(q[0])\n",
    "\n",
    "print('___________Final____________')\n",
    "oq.Wavefunction(T_qc)\n",
    "\n",
    "T_qc.draw(output='mpl')"
   ]
  },
  {
   "cell_type": "code",
   "execution_count": 10,
   "id": "7965aa68-8f64-45ac-9712-d7c0909ba58a",
   "metadata": {
    "tags": []
   },
   "outputs": [
    {
     "name": "stdout",
     "output_type": "stream",
     "text": [
      "___________Initial____________\n",
      "1.0  |0>   \n",
      "___________Final____________\n",
      "0.70711  |0>   -0.70711j |1>   \n"
     ]
    },
    {
     "data": {
      "image/png": "[encoded data removed]",
      "text/plain": [
       "<Figure size 269.064x117.056 with 1 Axes>"
      ]
     },
     "execution_count": 10,
     "metadata": {},
     "output_type": "execute_result"
    }
   ],
   "source": [
    "q = QuantumRegister(1, name='q')\n",
    "Rx_qc = QuantumCircuit(q, name = 'qc')\n",
    "\n",
    "Rx_qc.id(q[0])\n",
    "print('___________Initial____________')\n",
    "oq.Wavefunction(Rx_qc)\n",
    "\n",
    "Rx_qc.rx(m.pi/2,q[0])\n",
    "print('___________Final____________')\n",
    "oq.Wavefunction(Rx_qc)\n",
    "\n",
    "Rx_qc.draw(output='mpl')"
   ]
  },
  {
   "cell_type": "code",
   "execution_count": 11,
   "id": "e01c56c9-b1a2-47fc-a0b9-659d814b6ab3",
   "metadata": {
    "tags": []
   },
   "outputs": [
    {
     "name": "stdout",
     "output_type": "stream",
     "text": [
      "___________Initial____________\n",
      "1.0  |0>   \n",
      "___________Final____________\n",
      "0.70711  |0>   0.70711  |1>   \n"
     ]
    },
    {
     "data": {
      "image/png": "[encoded data removed]",
      "text/plain": [
       "<Figure size 269.064x117.056 with 1 Axes>"
      ]
     },
     "execution_count": 11,
     "metadata": {},
     "output_type": "execute_result"
    }
   ],
   "source": [
    "q = QuantumRegister(1, name='q')\n",
    "Ry_qc = QuantumCircuit(q, name = 'qc')\n",
    "\n",
    "Ry_qc.id(q[0])\n",
    "print('___________Initial____________')\n",
    "oq.Wavefunction(Ry_qc)\n",
    "\n",
    "Ry_qc.ry(m.pi/2,q[0])\n",
    "print('___________Final____________')\n",
    "oq.Wavefunction(Ry_qc)\n",
    "\n",
    "Ry_qc.draw(output='mpl')"
   ]
  },
  {
   "cell_type": "code",
   "execution_count": 12,
   "id": "cc90737e-b988-4646-a97f-c547fcabdcf4",
   "metadata": {
    "tags": []
   },
   "outputs": [
    {
     "name": "stdout",
     "output_type": "stream",
     "text": [
      "___________Initial____________\n",
      "0.70711  |0>   0.70711  |1>   \n",
      "___________Final____________\n",
      "0.5-0.5j |0>   0.5+0.5j |1>   \n"
     ]
    },
    {
     "data": {
      "image/png": "[encoded data removed]",
      "text/plain": [
       "<Figure size 269.064x117.056 with 1 Axes>"
      ]
     },
     "execution_count": 12,
     "metadata": {},
     "output_type": "execute_result"
    }
   ],
   "source": [
    "q = QuantumRegister(1, name='q')\n",
    "Rz_qc = QuantumCircuit(q, name = 'qc')\n",
    "\n",
    "Rz_qc.h(q[0])\n",
    "print('___________Initial____________')\n",
    "oq.Wavefunction(Rz_qc)\n",
    "\n",
    "Rz_qc.rz(m.pi/2,q[0])\n",
    "\n",
    "#Rz_qc.t(q[0])\n",
    "#Rz_qc.x(q[0])\n",
    "#Rz_qc.t(q[0])\n",
    "#Rz_qc.x(q[0])\n",
    "\n",
    "print('___________Final____________')\n",
    "oq.Wavefunction(Rz_qc)\n",
    "\n",
    "Rz_qc.draw(output='mpl')"
   ]
  },
  {
   "cell_type": "code",
   "execution_count": 13,
   "id": "bca167e4-46af-4e61-93e6-873cc56e1a32",
   "metadata": {
    "tags": []
   },
   "outputs": [
    {
     "name": "stdout",
     "output_type": "stream",
     "text": [
      "___________Initial____________\n",
      "0.70711  |00>   -0.70711  |10>   \n",
      "___________Final____________\n",
      "0.70711  |00>   -0.70711  |11>   \n"
     ]
    },
    {
     "data": {
      "image/png": "[encoded data removed]",
      "text/plain": [
       "<Figure size 370.906x200.667 with 1 Axes>"
      ]
     },
     "execution_count": 13,
     "metadata": {},
     "output_type": "execute_result"
    }
   ],
   "source": [
    "q = QuantumRegister(2, name='q')\n",
    "Cx_qc = QuantumCircuit(q, name = 'qc')\n",
    "\n",
    "Cx_qc.h(q[0])\n",
    "Cx_qc.z(q[0])\n",
    "Cx_qc.id(q[1])\n",
    "\n",
    "print('___________Initial____________')\n",
    "oq.Wavefunction(Cx_qc)\n",
    "\n",
    "Cx_qc.cx(q[0],q[1])\n",
    "\n",
    "print('___________Final____________')\n",
    "oq.Wavefunction(Cx_qc)\n",
    "\n",
    "Cx_qc.draw(output='mpl')"
   ]
  },
  {
   "cell_type": "code",
   "execution_count": 14,
   "id": "36914afc-53f5-4f2e-b18a-3ac8dea879a8",
   "metadata": {
    "tags": []
   },
   "outputs": [
    {
     "name": "stdout",
     "output_type": "stream",
     "text": [
      "___________Initial____________\n",
      "0.70711  |01>   0.70711  |11>   \n",
      "___________Final____________\n",
      "0.70711  |01>   -0.70711  |11>   \n"
     ]
    },
    {
     "data": {
      "image/png": "[encoded data removed]",
      "text/plain": [
       "<Figure size 287.294x200.667 with 1 Axes>"
      ]
     },
     "execution_count": 14,
     "metadata": {},
     "output_type": "execute_result"
    }
   ],
   "source": [
    "q = QuantumRegister(2, name='q')\n",
    "Cz_qc = QuantumCircuit(q, name = 'qc')\n",
    "\n",
    "Cz_qc.h(q[0])\n",
    "Cz_qc.x(q[1])\n",
    "\n",
    "print('___________Initial____________')\n",
    "oq.Wavefunction(Cz_qc)\n",
    "\n",
    "Cz_qc.cz(q[0],q[1])\n",
    "\n",
    "print('___________Final____________')\n",
    "oq.Wavefunction(Cz_qc)\n",
    "\n",
    "Cz_qc.draw(output='mpl')"
   ]
  },
  {
   "cell_type": "code",
   "execution_count": 15,
   "id": "6c1f2eae-7765-4254-90db-0ce4976bf5d2",
   "metadata": {
    "tags": []
   },
   "outputs": [
    {
     "name": "stdout",
     "output_type": "stream",
     "text": [
      "___________Initial____________\n",
      "0.70711  |01>   0.70711  |11>   \n",
      "___________Final____________\n",
      "0.70711  |01>   0.70711j |11>   \n"
     ]
    },
    {
     "data": {
      "image/png": "[encoded data removed]",
      "text/plain": [
       "<Figure size 370.906x200.667 with 1 Axes>"
      ]
     },
     "execution_count": 15,
     "metadata": {},
     "output_type": "execute_result"
    }
   ],
   "source": [
    "q = QuantumRegister(2, name='q')\n",
    "cu1_qc = QuantumCircuit(q, name = 'qc')\n",
    "\n",
    "cu1_qc.h(q[0])\n",
    "cu1_qc.x(q[1])\n",
    "\n",
    "print('___________Initial____________')\n",
    "oq.Wavefunction(cu1_qc)\n",
    "\n",
    "cu1_qc.cp(m.pi/2,q[0],q[1])\n",
    "\n",
    "print('___________Final____________')\n",
    "oq.Wavefunction(cu1_qc)\n",
    "\n",
    "cu1_qc.draw(output='mpl')"
   ]
  },
  {
   "cell_type": "code",
   "execution_count": 16,
   "id": "1a3efb05-487e-4ad7-a69d-0d82889cc836",
   "metadata": {
    "tags": []
   },
   "outputs": [
    {
     "name": "stdout",
     "output_type": "stream",
     "text": [
      "___________Initial____________\n",
      "0.70711  |10>   0.70711  |11>   \n",
      "___________Final____________\n",
      "0.70711  |01>   0.70711  |11>   \n"
     ]
    },
    {
     "data": {
      "image/png": "[encoded data removed]",
      "text/plain": [
       "<Figure size 287.294x200.667 with 1 Axes>"
      ]
     },
     "execution_count": 16,
     "metadata": {},
     "output_type": "execute_result"
    }
   ],
   "source": [
    "q = QuantumRegister(2, name='q')\n",
    "swap_qc = QuantumCircuit(q, name = 'qc')\n",
    "\n",
    "swap_qc.x(q[0])\n",
    "swap_qc.h(q[1])\n",
    "\n",
    "print('___________Initial____________')\n",
    "oq.Wavefunction(swap_qc)\n",
    "\n",
    "swap_qc.swap(q[0],q[1])\n",
    "\n",
    "print('___________Final____________')\n",
    "oq.Wavefunction(swap_qc)\n",
    "\n",
    "swap_qc.draw(output='mpl')"
   ]
  },
  {
   "cell_type": "code",
   "execution_count": 17,
   "id": "f51fd45e-4880-4ae0-88f3-6918bd97fbaf",
   "metadata": {
    "tags": []
   },
   "outputs": [
    {
     "name": "stdout",
     "output_type": "stream",
     "text": [
      "___________Initial____________\n",
      "0.70711  |010>   0.70711  |110>   \n",
      "___________Final____________\n",
      "0.70711  |010>   0.70711  |101>   \n"
     ]
    },
    {
     "data": {
      "image/png": "[encoded data removed]",
      "text/plain": [
       "<Figure size 287.496x284.278 with 1 Axes>"
      ]
     },
     "execution_count": 17,
     "metadata": {},
     "output_type": "execute_result"
    }
   ],
   "source": [
    "q = QuantumRegister(3, name='q')\n",
    "cswap_qc = QuantumCircuit(q, name = 'qc')\n",
    "\n",
    "cswap_qc.h(q[0])\n",
    "cswap_qc.x(q[1])\n",
    "cswap_qc.id(q[2])\n",
    "\n",
    "print('___________Initial____________')\n",
    "oq.Wavefunction(cswap_qc)\n",
    "\n",
    "cswap_qc.cswap(q[0],q[1],q[2])\n",
    "\n",
    "print('___________Final____________')\n",
    "oq.Wavefunction(cswap_qc)\n",
    "\n",
    "cswap_qc.draw(output='mpl')"
   ]
  },
  {
   "cell_type": "code",
   "execution_count": 18,
   "id": "a0862117-dbde-407d-afc6-088a7fa45a08",
   "metadata": {
    "tags": []
   },
   "outputs": [
    {
     "name": "stdout",
     "output_type": "stream",
     "text": [
      "___________Initial____________\n",
      "0.70711  |110>   -0.70711  |111>   \n",
      "___________Final____________\n",
      "-0.70711  |110>   0.70711  |111>   \n"
     ]
    },
    {
     "data": {
      "image/png": "[encoded data removed]",
      "text/plain": [
       "<Figure size 371.107x284.278 with 1 Axes>"
      ]
     },
     "execution_count": 18,
     "metadata": {},
     "output_type": "execute_result"
    }
   ],
   "source": [
    "q = QuantumRegister(3, name='q')\n",
    "ccnot_qc = QuantumCircuit(q, name = 'qc')\n",
    "\n",
    "ccnot_qc.x(q[0])\n",
    "ccnot_qc.x(q[1])\n",
    "ccnot_qc.h(q[2])\n",
    "ccnot_qc.z(q[2])\n",
    "\n",
    "print('___________Initial____________')\n",
    "oq.Wavefunction(ccnot_qc)\n",
    "\n",
    "ccnot_qc.ccx(q[0],q[1],q[2])\n",
    "\n",
    "print('___________Final____________')\n",
    "oq.Wavefunction(ccnot_qc)\n",
    "\n",
    "ccnot_qc.draw(output='mpl')"
   ]
  }
 ],
 "metadata": {
  "kernelspec": {
   "display_name": "Python 3 (ipykernel)",
   "language": "python",
   "name": "python3"
  },
  "language_info": {
   "codemirror_mode": {
    "name": "ipython",
    "version": 3
   },
   "file_extension": ".py",
   "mimetype": "text/x-python",
   "name": "python",
   "nbconvert_exporter": "python",
   "pygments_lexer": "ipython3",
   "version": "3.11.5"
  }
 },
 "nbformat": 4,
 "nbformat_minor": 5
}

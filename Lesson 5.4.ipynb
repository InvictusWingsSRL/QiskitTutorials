{
 "cells": [
  {
   "cell_type": "code",
   "execution_count": 1,
   "id": "07af712c-4fa8-4de3-b329-247e8b22d803",
   "metadata": {
    "tags": []
   },
   "outputs": [],
   "source": [
    "#Libraries needed to implement and simulate quantum circuits\n",
    "from qiskit import QuantumRegister, ClassicalRegister, QuantumCircuit, transpile, qasm2, qasm3\n",
    "from qiskit_aer import Aer\n",
    "from qiskit.primitives import BackendSampler\n",
    "#Custem functions to simplify answers\n",
    "import Our_Qiskit_Functions as oq #a part of the libabry presented in arXiv:1903.04359v1.\n",
    "\n",
    "import numpy as np\n",
    "import math as m\n",
    "import scipy as sci\n",
    "\n",
    "#Initialize backends simulators to visualize circuits\n",
    "S_simulator = Aer.backends(name='statevector_simulator')[0]\n",
    "M_simulator = Aer.backends(name='qasm_simulator')[0]"
   ]
  },
  {
   "cell_type": "code",
   "execution_count": 2,
   "id": "8ebf7381-7697-4d62-8226-921d78826905",
   "metadata": {
    "tags": []
   },
   "outputs": [
    {
     "name": "stdout",
     "output_type": "stream",
     "text": [
      "0.35355  |000>   0.35355  |100>   0.35355  |010>   0.35355  |110>   0.35355  |001>   0.35355  |101>   0.35355  |011>   0.35355  |111>   \n"
     ]
    }
   ],
   "source": [
    "N = 3\n",
    "q = QuantumRegister(N, name='q')\n",
    "qc = QuantumCircuit(q,name='qc')\n",
    "\n",
    "for i in range(N):\n",
    "    qc.h(q[i])\n",
    "oq.Wavefunction(qc);"
   ]
  },
  {
   "cell_type": "code",
   "execution_count": 3,
   "id": "632e0e31-2f5f-4413-a3dd-eb7c0b53d76e",
   "metadata": {
    "tags": []
   },
   "outputs": [
    {
     "name": "stdout",
     "output_type": "stream",
     "text": [
      "108|111>   125|010>   123|001>   121|000>   126|100>   132|101>   130|110>   135|011>   \n"
     ]
    }
   ],
   "source": [
    "N = 3\n",
    "q = QuantumRegister(N, name='q')\n",
    "c = ClassicalRegister(N, name = 'c')\n",
    "qc = QuantumCircuit(q,c,name='qc')\n",
    "\n",
    "for i in range(N):\n",
    "    qc.h(q[i])\n",
    "\n",
    "qc.measure(q,c)\n",
    "oq.Measurement(qc,shots=1000)"
   ]
  },
  {
   "cell_type": "code",
   "execution_count": 4,
   "id": "31f53e42-4800-48e9-80a7-e545d3efc42e",
   "metadata": {
    "tags": []
   },
   "outputs": [
    {
     "name": "stdout",
     "output_type": "stream",
     "text": [
      "___________Initial State____________\n",
      "0.5  |00>   0.5  |10>   0.5  |01>   -0.5  |11>   \n",
      "\n",
      "X_Transformation: |00>  <----> |11>\n",
      "\n",
      "__________ After X(0) + X(1) ______\n",
      "-0.5  |00>   0.5  |10>   0.5  |01>   0.5  |11>   \n"
     ]
    }
   ],
   "source": [
    "q = QuantumRegister(2, name='q')\n",
    "G_qc = QuantumCircuit(q,name='qc')\n",
    "\n",
    "G_qc.h(q[0])\n",
    "G_qc.h(q[1])\n",
    "G_qc.cz(q[0],q[1])\n",
    "\n",
    "print('___________Initial State____________')\n",
    "oq.Wavefunction(G_qc)\n",
    "\n",
    "print('\\nX_Transformation: |00>  <----> |11>')\n",
    "oq.X_Transformation(G_qc, q, [0,0])\n",
    "\n",
    "print('\\n__________ After X(0) + X(1) ______')\n",
    "oq.Wavefunction(G_qc);"
   ]
  },
  {
   "cell_type": "code",
   "execution_count": 5,
   "id": "ac7f7c8f-a91e-4224-a80e-be0820423018",
   "metadata": {
    "tags": []
   },
   "outputs": [
    {
     "name": "stdout",
     "output_type": "stream",
     "text": [
      "___________Initial State____________\n",
      "0.5  |00>   0.5  |10>   -0.5  |01>   0.5  |11>   \n",
      "\n",
      "__________ X(0) ______\n",
      "0.5  |00>   0.5  |10>   0.5  |01>   -0.5  |11>   \n",
      "\n",
      "__________ X(0) ______\n",
      "0.5  |00>   0.5  |10>   -0.5  |01>   0.5  |11>   \n"
     ]
    }
   ],
   "source": [
    "q = QuantumRegister(2, name='q')\n",
    "G_qc = QuantumCircuit(q,name='qc')\n",
    "marked=[0,1]\n",
    "\n",
    "G_qc.h(q[0])\n",
    "G_qc.h(q[1])\n",
    "G_qc.cz(q[0],q[1])\n",
    "G_qc.x(q[0])\n",
    "\n",
    "print('___________Initial State____________')\n",
    "oq.Wavefunction(G_qc)\n",
    "\n",
    "oq.X_Transformation(G_qc, q, marked)\n",
    "\n",
    "print('\\n__________ X(0) ______')\n",
    "oq.Wavefunction(G_qc)\n",
    "\n",
    "oq.X_Transformation(G_qc,q, marked)\n",
    "\n",
    "print('\\n__________ X(0) ______')\n",
    "oq.Wavefunction(G_qc);\n"
   ]
  },
  {
   "cell_type": "code",
   "execution_count": 6,
   "id": "2cc0ce35-17f3-4482-9f3b-52f50bbe39bd",
   "metadata": {
    "tags": []
   },
   "outputs": [
    {
     "name": "stdout",
     "output_type": "stream",
     "text": [
      "___________Initial State____________\n",
      "0.35355  |000>   0.35355  |100>   0.35355  |010>   0.35355  |110>   0.35355  |001>   0.35355  |101>   0.35355  |011>   0.35355  |111>   \n",
      "\n",
      "___________H(q[3]) + X_Transformation____________\n",
      "0.25  |000>|0>   0.25  |100>|0>   0.25  |010>|0>   0.25  |110>|0>   0.25  |001>|0>   0.25  |101>|0>   0.25  |011>|0>   0.25  |111>|0>   -0.25  |000>|1>   -0.25  |100>|1>   -0.25  |010>|1>   -0.25  |110>|1>   -0.25  |001>|1>   -0.25  |101>|1>   -0.25  |011>|1>   -0.25  |111>|1>   \n",
      "\n",
      "___________n_NOT____________\n",
      "0.25  |000>|0>   0.25  |100>|0>   0.25  |010>|0>   0.25  |110>|0>   0.25  |001>|0>   0.25  |101>|0>   0.25  |011>|0>   -0.25  |111>|0>   -0.25  |000>|1>   -0.25  |100>|1>   -0.25  |010>|1>   -0.25  |110>|1>   -0.25  |001>|1>   -0.25  |101>|1>   -0.25  |011>|1>   0.25  |111>|1>   \n",
      "\n",
      "___________X_Transformation + H(q[3])____________\n",
      "0.35355  |000>|1>   0.35355  |100>|1>   -0.35355  |010>|1>   0.35355  |110>|1>   0.35355  |001>|1>   0.35355  |101>|1>   0.35355  |011>|1>   0.35355  |111>|1>   \n"
     ]
    }
   ],
   "source": [
    "q = QuantumRegister(3, name='q')\n",
    "anc = QuantumRegister(1, name='anc')\n",
    "n_anc = QuantumRegister(1, name='nanc')\n",
    "G_qc = QuantumCircuit(q, anc, n_anc,name='qc')\n",
    "marked = [0,1,0]\n",
    "\n",
    "G_qc.h(q[0])\n",
    "G_qc.h(q[1])\n",
    "G_qc.h(q[2])\n",
    "G_qc.x(anc[0])\n",
    "\n",
    "print('___________Initial State____________')\n",
    "oq.Wavefunction(G_qc, systems=[3,1,1], show_systems=[True,False,False])\n",
    "\n",
    "G_qc.h(anc[0])\n",
    "oq.X_Transformation(G_qc,q,marked)\n",
    "print('\\n___________H(q[3]) + X_Transformation____________')\n",
    "oq.Wavefunction(G_qc, systems=[3,1,1], show_systems=[True,True,False])\n",
    "\n",
    "oq.n_NOT(G_qc,q, anc[0],n_anc)\n",
    "print('\\n___________n_NOT____________')\n",
    "oq.Wavefunction(G_qc, systems=[3,1,1], show_systems=[True,True,False])\n",
    "\n",
    "oq.X_Transformation(G_qc,q,marked)\n",
    "G_qc.h(anc[0])\n",
    "\n",
    "print('\\n___________X_Transformation + H(q[3])____________')\n",
    "oq.Wavefunction(G_qc, systems=[3,1,1], show_systems=[True,True,False]);\n"
   ]
  },
  {
   "cell_type": "code",
   "execution_count": 7,
   "id": "e398d492-824b-4a56-922b-c82651714662",
   "metadata": {
    "tags": []
   },
   "outputs": [
    {
     "name": "stdout",
     "output_type": "stream",
     "text": [
      "___________Initial State____________\n",
      "0.35355  |000>   0.35355  |100>   0.35355  |010>   0.35355  |110>   0.35355  |001>   0.35355  |101>   0.35355  |011>   0.35355  |111>   \n",
      "\n",
      "___________Final State____________\n",
      "0.35355  |000>|1>   0.35355  |100>|1>   -0.35355  |010>|1>   0.35355  |110>|1>   0.35355  |001>|1>   0.35355  |101>|1>   0.35355  |011>|1>   0.35355  |111>|1>   \n"
     ]
    }
   ],
   "source": [
    "q = QuantumRegister(3, name='q')\n",
    "anc = QuantumRegister(1, name='anc')\n",
    "n_anc = QuantumRegister(1, name='nanc')\n",
    "G_qc = QuantumCircuit(q, anc, n_anc,name='qc')\n",
    "marked = [0,1,0]\n",
    "\n",
    "G_qc.h(q[0])\n",
    "G_qc.h(q[1])\n",
    "G_qc.h(q[2])\n",
    "G_qc.x(anc[0])\n",
    "\n",
    "print('___________Initial State____________')\n",
    "oq.Wavefunction(G_qc, systems=[3,1,1], show_systems=[True,False,False])\n",
    "\n",
    "oq.Grover_Oracle(marked, G_qc, q, anc, n_anc)\n",
    "\n",
    "print('\\n___________Final State____________')\n",
    "oq.Wavefunction(G_qc, systems=[3,1,1], show_systems=[True,True,False]);"
   ]
  },
  {
   "cell_type": "code",
   "execution_count": 8,
   "id": "1535dd93-2fb1-40db-a97f-80f81311d89c",
   "metadata": {},
   "outputs": [
    {
     "name": "stdout",
     "output_type": "stream",
     "text": [
      "___________Initial State____________\n",
      "0.5  |00>   0.5  |10>   0.5  |01>   0.5  |11>   \n",
      "\n",
      "___________Grover Oracle:  [1, 0] ____________\n",
      "0.5  |00>   -0.5  |10>   0.5  |01>   0.5  |11>   \n",
      "\n",
      "___________After Grover Diffusion____________\n",
      "-1.0  |10>   \n"
     ]
    }
   ],
   "source": [
    "q = QuantumRegister(2, name='q')\n",
    "anc = QuantumRegister(1, name='anc')\n",
    "n_anc = QuantumRegister(1, name='nanc')\n",
    "G_qc = QuantumCircuit(q, anc, name='qc')\n",
    "marked = [1,0]\n",
    "\n",
    "G_qc.h(q[0])\n",
    "G_qc.h(q[1])\n",
    "G_qc.x(anc[0])\n",
    "\n",
    "print('___________Initial State____________')\n",
    "oq.Wavefunction(G_qc, systems=[2,1], show_systems=[True,False])\n",
    "\n",
    "oq.Grover_Oracle(marked, G_qc, q, anc, n_anc)\n",
    "\n",
    "print('\\n___________Grover Oracle: ',marked,'____________')\n",
    "oq.Wavefunction(G_qc, systems=[2,1], show_systems=[True,False])\n",
    "\n",
    "G_qc.h(q[0])\n",
    "G_qc.h(q[1])\n",
    "oq.Grover_Oracle([0,0], G_qc, q, anc, n_anc)\n",
    "G_qc.h(q[0])\n",
    "G_qc.h(q[1])\n",
    "\n",
    "print('\\n___________After Grover Diffusion____________')\n",
    "oq.Wavefunction(G_qc, systems=[2,1], show_systems=[True,False]);"
   ]
  },
  {
   "cell_type": "code",
   "execution_count": 9,
   "id": "320fef84-b2c3-4977-980a-777e16bdf382",
   "metadata": {
    "tags": []
   },
   "outputs": [
    {
     "name": "stdout",
     "output_type": "stream",
     "text": [
      "___________Initial State____________\n",
      "0.5  |00>   0.5  |10>   0.5  |01>   0.5  |11>   \n",
      "\n",
      "___________Grover Oracle:  [1, 0] ____________\n",
      "0.5  |00>   -0.5  |10>   0.5  |01>   0.5  |11>   \n",
      "\n",
      "___________H^2 transformation____________\n",
      "0.5  |00>   0.5  |10>   -0.5  |01>   0.5  |11>   \n",
      "\n",
      "___________Grover Oracle: [0, 0]____________\n",
      "-0.5  |00>   0.5  |10>   -0.5  |01>   0.5  |11>   \n",
      "\n",
      "___________H^2 transformation____________\n",
      "-1.0  |10>   \n"
     ]
    }
   ],
   "source": [
    "q = QuantumRegister(2, name='q')\n",
    "anc = QuantumRegister(1, name='anc')\n",
    "n_anc = QuantumRegister(1, name='nanc')\n",
    "G_qc = QuantumCircuit(q, anc, name='qc')\n",
    "marked = [1,0]\n",
    "\n",
    "G_qc.h(q[0])\n",
    "G_qc.h(q[1])\n",
    "G_qc.x(anc[0])\n",
    "\n",
    "print('___________Initial State____________')\n",
    "oq.Wavefunction(G_qc, systems=[2,1], show_systems=[True,False])\n",
    "\n",
    "oq.Grover_Oracle(marked, G_qc, q, anc, n_anc)\n",
    "\n",
    "print('\\n___________Grover Oracle: ',marked,'____________')\n",
    "oq.Wavefunction(G_qc, systems=[2,1], show_systems=[True,False])\n",
    "\n",
    "G_qc.h(q[0])\n",
    "G_qc.h(q[1])\n",
    "print('\\n___________H^2 transformation____________')\n",
    "oq.Wavefunction(G_qc, systems=[2,1], show_systems=[True,False])\n",
    "\n",
    "oq.Grover_Oracle([0,0], G_qc, q, anc, n_anc)\n",
    "print('\\n___________Grover Oracle: [0, 0]____________')\n",
    "oq.Wavefunction(G_qc, systems=[2,1], show_systems=[True,False])\n",
    "\n",
    "G_qc.h(q[0])\n",
    "G_qc.h(q[1])\n",
    "\n",
    "print('\\n___________H^2 transformation____________')\n",
    "oq.Wavefunction(G_qc, systems=[2,1], show_systems=[True,False]);"
   ]
  },
  {
   "cell_type": "code",
   "execution_count": 10,
   "id": "be55ba52-075c-4df2-b950-c3ddb812cfe3",
   "metadata": {
    "tags": []
   },
   "outputs": [
    {
     "name": "stdout",
     "output_type": "stream",
     "text": [
      "___________Initial State____________\n",
      "0.70711  |00>   0.70711  |10>   \n",
      "\n",
      "___________After Grover____________\n",
      "-0.70711  |01>   -0.70711  |11>   \n"
     ]
    }
   ],
   "source": [
    "q = QuantumRegister(2, name='q')\n",
    "anc = QuantumRegister(1, name='anc')\n",
    "n_anc = QuantumRegister(1, name='nanc')\n",
    "G_qc = QuantumCircuit(q, anc, name='qc')\n",
    "marked = [1,0]\n",
    "\n",
    "G_qc.h(q[0])\n",
    "G_qc.id(q[1])\n",
    "G_qc.x(anc[0])\n",
    "print('___________Initial State____________')\n",
    "oq.Wavefunction(G_qc, systems=[2,1], show_systems=[True,False])\n",
    "\n",
    "G_qc.h(q[0])\n",
    "G_qc.h(q[1])\n",
    "oq.Grover_Oracle([0,0], G_qc, q, anc, n_anc)\n",
    "G_qc.h(q[0])\n",
    "G_qc.h(q[1])\n",
    "\n",
    "print('\\n___________After Grover____________')\n",
    "oq.Wavefunction(G_qc, systems=[2,1], show_systems=[True,False]);"
   ]
  },
  {
   "cell_type": "code",
   "execution_count": 11,
   "id": "b38731c5-ed29-485f-9532-18f3b0486945",
   "metadata": {
    "tags": []
   },
   "outputs": [
    {
     "name": "stdout",
     "output_type": "stream",
     "text": [
      "___________Initial State____________\n",
      "0.5  |00>   0.5  |10>   0.5  |01>   0.5  |11>   \n",
      "\n",
      "___________Grover Oracle: |01>____________\n",
      "0.5  |00>   -0.5  |10>   0.5  |01>   0.5  |11>   \n",
      "\n",
      "___________H^2 transformation____________\n",
      "0.5  |00>   0.5  |10>   -0.5  |01>   0.5  |11>   \n",
      "\n",
      "___________Flipping the sign on: |01> |10> |11>____________\n",
      "0.5  |00>   -0.5  |10>   0.5  |01>   -0.5  |11>   \n",
      "\n",
      "___________H^2 transformation____________\n",
      "1.0  |10>   \n"
     ]
    }
   ],
   "source": [
    "q = QuantumRegister(2, name='q')\n",
    "anc = QuantumRegister(1, name='anc')\n",
    "n_anc = QuantumRegister(1, name='nanc')\n",
    "G_qc = QuantumCircuit(q, anc, name='qc')\n",
    "marked = [1,0]\n",
    "\n",
    "G_qc.h(q[0])\n",
    "G_qc.h(q[1])\n",
    "G_qc.x(anc[0])\n",
    "\n",
    "print('___________Initial State____________')\n",
    "oq.Wavefunction(G_qc, systems=[2,1], show_systems=[True,False])\n",
    "\n",
    "oq.Grover_Oracle(marked, G_qc, q, anc, n_anc)\n",
    "\n",
    "print('\\n___________Grover Oracle: |01>____________')\n",
    "oq.Wavefunction(G_qc, systems=[2,1], show_systems=[True,False])\n",
    "\n",
    "G_qc.h(q[0])\n",
    "G_qc.h(q[1])\n",
    "print('\\n___________H^2 transformation____________')\n",
    "oq.Wavefunction(G_qc, systems=[2,1], show_systems=[True,False])\n",
    "\n",
    "oq.Grover_Oracle([0,1], G_qc, q, anc, n_anc)\n",
    "oq.Grover_Oracle([1,0], G_qc, q, anc, n_anc)\n",
    "oq.Grover_Oracle([1,1], G_qc, q, anc, n_anc)\n",
    "print('\\n___________Flipping the sign on: |01> |10> |11>____________')\n",
    "oq.Wavefunction(G_qc, systems=[2,1], show_systems=[True,False])\n",
    "\n",
    "G_qc.h(q[0])\n",
    "G_qc.h(q[1])\n",
    "\n",
    "print('\\n___________H^2 transformation____________')\n",
    "oq.Wavefunction(G_qc, systems=[2,1], show_systems=[True,False]);"
   ]
  },
  {
   "cell_type": "code",
   "execution_count": 12,
   "id": "692191a0-2d3b-455d-9660-539d2ff33e42",
   "metadata": {
    "tags": []
   },
   "outputs": [
    {
     "name": "stdout",
     "output_type": "stream",
     "text": [
      "___________Initial State____________\n",
      "0.35355  |000>   0.35355  |100>   0.35355  |010>   0.35355  |110>   0.35355  |001>   0.35355  |101>   0.35355  |011>   0.35355  |111>   \n",
      "\n",
      "___________ 1  Grover iteration____________\n",
      "-0.17678  |000>   -0.17678  |100>   -0.17678  |010>   -0.88388  |110>   -0.17678  |001>   -0.17678  |101>   -0.17678  |011>   -0.17678  |111>   \n",
      "\n",
      "___________ 2  Grover iteration____________\n",
      "-0.08839  |000>   -0.08839  |100>   -0.08839  |010>   0.97227  |110>   -0.08839  |001>   -0.08839  |101>   -0.08839  |011>   -0.08839  |111>   \n",
      "\n",
      "___________ 3  Grover iteration____________\n",
      "0.30936  |000>   0.30936  |100>   0.30936  |010>   -0.57452  |110>   0.30936  |001>   0.30936  |101>   0.30936  |011>   0.30936  |111>   \n"
     ]
    }
   ],
   "source": [
    "q = QuantumRegister(3, name='q')\n",
    "anc = QuantumRegister(1, name='anc')\n",
    "n_anc = QuantumRegister(1, name='nanc')\n",
    "G_qc = QuantumCircuit(q, anc, n_anc,name='qc')\n",
    "marked = [1,1,0]\n",
    "\n",
    "G_qc.h(q[0])\n",
    "G_qc.h(q[1])\n",
    "G_qc.h(q[2])\n",
    "G_qc.x(anc[0])\n",
    "\n",
    "print('___________Initial State____________')\n",
    "oq.Wavefunction(G_qc, systems=[3,1,1], show_systems=[True,False,False])\n",
    "\n",
    "iterations = 3\n",
    "\n",
    "for i in range(iterations):\n",
    "    oq.Grover_Oracle(marked, G_qc, q, anc, n_anc)\n",
    "    oq.Grover_Diffusion(marked, G_qc, q, anc, n_anc)\n",
    "    print('\\n___________',i+1,' Grover iteration____________')\n",
    "    oq.Wavefunction(G_qc, systems=[3,1,1], show_systems=[True,False,False])"
   ]
  },
  {
   "cell_type": "code",
   "execution_count": 13,
   "id": "107eb8b3-189f-4077-b4ee-1387d09f9110",
   "metadata": {
    "tags": []
   },
   "outputs": [
    {
     "name": "stdout",
     "output_type": "stream",
     "text": [
      "0.05078  |0000>   \n",
      "0.05078  |1000>   \n",
      "0.05078  |0100>   \n",
      "0.05078  |1100>   \n",
      "0.05078  |0010>   \n",
      "0.05078  |1010>   \n",
      "-0.98047  |0110>   \n",
      "0.05078  |1110>   \n",
      "0.05078  |0001>   \n",
      "0.05078  |1001>   \n",
      "0.05078  |0101>   \n",
      "0.05078  |1101>   \n",
      "0.05078  |0011>   \n",
      "0.05078  |1011>   \n",
      "0.05078  |0111>   \n",
      "0.05078  |1111>   \n",
      "\n",
      " \n",
      "\n",
      "_________Measurement Results_________\n",
      "98|0110>   1|1110>   1|0001>   \n"
     ]
    }
   ],
   "source": [
    "Q = 4\n",
    "marked = [0,1,1,0]\n",
    "\n",
    "G_qc, q, an1, an2, c = oq.Grover(Q, marked)\n",
    "\n",
    "oq.Wavefunction(G_qc, systems=[Q,1,Q-2], show_systems=[True,False,False], column = True)\n",
    "print(' ')\n",
    "G_qc.measure(q,c)\n",
    "print('\\n_________Measurement Results_________')\n",
    "oq.Measurement(G_qc, shots = 100);"
   ]
  },
  {
   "cell_type": "code",
   "execution_count": null,
   "id": "a871fb48-81ad-4c70-8ded-730371d706d9",
   "metadata": {},
   "outputs": [],
   "source": []
  }
 ],
 "metadata": {
  "kernelspec": {
   "display_name": "Python 3 (ipykernel)",
   "language": "python",
   "name": "python3"
  },
  "language_info": {
   "codemirror_mode": {
    "name": "ipython",
    "version": 3
   },
   "file_extension": ".py",
   "mimetype": "text/x-python",
   "name": "python",
   "nbconvert_exporter": "python",
   "pygments_lexer": "ipython3",
   "version": "3.11.5"
  }
 },
 "nbformat": 4,
 "nbformat_minor": 5
}

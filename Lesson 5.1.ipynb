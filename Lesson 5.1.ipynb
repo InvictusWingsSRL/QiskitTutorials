{
 "cells": [
  {
   "cell_type": "code",
   "execution_count": 1,
   "id": "1166679c-29a7-443e-b896-06f79954fbd9",
   "metadata": {
    "tags": []
   },
   "outputs": [],
   "source": [
    "#Libraries needed to implement and simulate quantum circuits\n",
    "from qiskit import QuantumRegister, ClassicalRegister, QuantumCircuit, transpile, qasm2, qasm3\n",
    "from qiskit_aer import Aer\n",
    "from qiskit.primitives import BackendSampler\n",
    "#Custem functions to simplify answers\n",
    "import Our_Qiskit_Functions as oq #a part of the library presented in arXiv:1903.04359v1.\n",
    "\n",
    "import numpy as np\n",
    "import math as m\n",
    "\n",
    "#Initialize backends simulators to visualize circuits\n",
    "S_simulator = Aer.backends(name='statevector_simulator')[0]\n",
    "M_simulator = Aer.backends(name='qasm_simulator')[0]"
   ]
  },
  {
   "cell_type": "code",
   "execution_count": 2,
   "id": "5f48baf3-dc27-4591-b08b-077a045ffd45",
   "metadata": {
    "tags": []
   },
   "outputs": [
    {
     "name": "stdout",
     "output_type": "stream",
     "text": [
      "_________Initial state____________\n",
      "0.70711  |00>   -0.70711  |10>   \n",
      "\n",
      "_____________After blackbox___________\n",
      "0.70711  |00>   -0.70711  |10>   \n"
     ]
    }
   ],
   "source": [
    "q = QuantumRegister(2, name='q')\n",
    "test_g = QuantumCircuit(q, name = 'qc')\n",
    "\n",
    "test_g.h(q[0])\n",
    "test_g.x(q[1])\n",
    "test_g.cz(q[0],q[1])\n",
    "test_g.x(q[1])\n",
    "\n",
    "print('_________Initial state____________')\n",
    "oq.Wavefunction(test_g)\n",
    "\n",
    "f=oq.Blackbox_g_D(test_g, q)\n",
    "\n",
    "print('\\n_____________After blackbox___________')\n",
    "oq.Wavefunction(test_g);"
   ]
  },
  {
   "cell_type": "code",
   "execution_count": 3,
   "id": "b0b0c8fc-ba76-42c7-8942-a7ea35204191",
   "metadata": {
    "tags": []
   },
   "outputs": [
    {
     "name": "stdout",
     "output_type": "stream",
     "text": [
      "_________Initial state____________\n",
      "0.5  |00>   0.5  |10>   -0.5  |01>   -0.5  |11>   \n"
     ]
    },
    {
     "data": {
      "text/html": [
       "<pre style=\"word-wrap: normal;white-space: pre;background: #fff0;line-height: 1.1;font-family: &quot;Courier New&quot;,Courier,monospace\">     ┌───┐     \n",
       "q_0: ┤ H ├─────\n",
       "     ├───┤┌───┐\n",
       "q_1: ┤ X ├┤ H ├\n",
       "     └───┘└───┘</pre>"
      ],
      "text/plain": [
       "     ┌───┐     \n",
       "q_0: ┤ H ├─────\n",
       "     ├───┤┌───┐\n",
       "q_1: ┤ X ├┤ H ├\n",
       "     └───┘└───┘"
      ]
     },
     "execution_count": 3,
     "metadata": {},
     "output_type": "execute_result"
    }
   ],
   "source": [
    "q = QuantumRegister(2, name='q')\n",
    "deutsch_qc = QuantumCircuit(q, name = 'qc')\n",
    "\n",
    "deutsch_qc.h(q[0])\n",
    "deutsch_qc.x(q[1])\n",
    "deutsch_qc.h(q[1])\n",
    "\n",
    "print('_________Initial state____________')\n",
    "oq.Wavefunction(deutsch_qc)\n",
    "\n",
    "deutsch_qc.draw()"
   ]
  },
  {
   "cell_type": "code",
   "execution_count": 4,
   "id": "80152775-0340-474b-a655-57b9e9b71154",
   "metadata": {
    "tags": []
   },
   "outputs": [
    {
     "name": "stdout",
     "output_type": "stream",
     "text": [
      "_________Initial state____________\n",
      "0.5  |00>   0.5  |10>   -0.5  |01>   -0.5  |11>   \n",
      "\n",
      "_____________After blackbox___________\n",
      "0.5  |00>   -0.5  |10>   -0.5  |01>   0.5  |11>   \n",
      "\n",
      "_____________After H^2___________\n",
      "1.0  |11>   \n"
     ]
    }
   ],
   "source": [
    "q = QuantumRegister(2, name='q')\n",
    "deutsch_qc = QuantumCircuit(q, name = 'qc')\n",
    "\n",
    "deutsch_qc.h(q[0])\n",
    "deutsch_qc.x(q[1])\n",
    "deutsch_qc.h(q[1])\n",
    "\n",
    "print('_________Initial state____________')\n",
    "oq.Wavefunction(deutsch_qc)\n",
    "\n",
    "f=oq.Blackbox_g_D(deutsch_qc, q)\n",
    "\n",
    "print('\\n_____________After blackbox___________')\n",
    "oq.Wavefunction(deutsch_qc)\n",
    "\n",
    "deutsch_qc.h(q[0])\n",
    "deutsch_qc.h(q[1])\n",
    "\n",
    "print('\\n_____________After H^2___________')\n",
    "oq.Wavefunction(deutsch_qc);\n"
   ]
  },
  {
   "cell_type": "code",
   "execution_count": 5,
   "id": "59b930c4-7e26-4403-9090-0061043680a7",
   "metadata": {
    "tags": []
   },
   "outputs": [
    {
     "name": "stdout",
     "output_type": "stream",
     "text": [
      "_________Initial state____________\n",
      "0.5  |00>   0.5  |10>   -0.5  |01>   -0.5  |11>   \n",
      "\n",
      "_____________After blackbox___________\n",
      "-0.5  |00>   -0.5  |10>   0.5  |01>   0.5  |11>   \n",
      "\n",
      "_____________After H^2___________\n",
      "-0.70711  |00>   0.70711  |01>   \n"
     ]
    }
   ],
   "source": [
    "q = QuantumRegister(2, name='q')\n",
    "deutsch_qc = QuantumCircuit(q, name = 'qc')\n",
    "\n",
    "deutsch_qc.x(q[1])\n",
    "\n",
    "deutsch_qc.h(q[0])\n",
    "deutsch_qc.h(q[1])\n",
    "\n",
    "print('_________Initial state____________')\n",
    "oq.Wavefunction(deutsch_qc)\n",
    "\n",
    "f=oq.Blackbox_g_D(deutsch_qc, q)\n",
    "\n",
    "print('\\n_____________After blackbox___________')\n",
    "oq.Wavefunction(deutsch_qc)\n",
    "\n",
    "deutsch_qc.h(q[0])\n",
    "#deutsch_qc.h(q[1])\n",
    "\n",
    "print('\\n_____________After H^2___________')\n",
    "oq.Wavefunction(deutsch_qc);"
   ]
  },
  {
   "cell_type": "code",
   "execution_count": 6,
   "id": "f46f1496-00da-4ccb-8cb0-bcee33dba778",
   "metadata": {
    "tags": []
   },
   "outputs": [
    {
     "name": "stdout",
     "output_type": "stream",
     "text": [
      "Measured state |0> therefore f is constant!\n",
      " \n",
      "Hidden f:  f(0,1) -> 1\n"
     ]
    }
   ],
   "source": [
    "q = QuantumRegister(2, name='q')\n",
    "c = ClassicalRegister(2, name='c')\n",
    "deutsch_qc = QuantumCircuit(q, c, name = 'qc')\n",
    "\n",
    "deutsch_qc.x(q[1])\n",
    "\n",
    "f = oq.Deutsch(deutsch_qc, q)\n",
    "deutsch_qc.measure(q,c)\n",
    "\n",
    "Qubit0_M = list(oq.execute(deutsch_qc, M_simulator, shots = 1).result().get_counts(deutsch_qc).keys())[0][1]\n",
    "\n",
    "if Qubit0_M == '0':\n",
    "    print('Measured state |0> therefore f is constant!')\n",
    "else:\n",
    "    print('Measured state |1> therefore f is balanced!')\n",
    "    \n",
    "print(' ')\n",
    "print('Hidden f: ',f)"
   ]
  },
  {
   "cell_type": "code",
   "execution_count": 7,
   "id": "2b0d721a-4436-4634-bd04-083e6837ace2",
   "metadata": {
    "tags": []
   },
   "outputs": [
    {
     "name": "stdout",
     "output_type": "stream",
     "text": [
      "_________Initial state____________\n",
      "0.5  |00>   0.5  |10>   -0.5  |01>   -0.5  |11>   \n",
      "_________X____________\n",
      "0.5  |00>   0.5  |10>   -0.5  |01>   -0.5  |11>   \n",
      "_________CNOT____________\n",
      "0.5  |00>   -0.5  |10>   -0.5  |01>   0.5  |11>   \n",
      "_________X____________\n",
      "-0.5  |00>   0.5  |10>   0.5  |01>   -0.5  |11>   \n"
     ]
    },
    {
     "data": {
      "image/png": "[encoded data removed]",
      "text/plain": [
       "<Figure size 454.517x200.667 with 1 Axes>"
      ]
     },
     "execution_count": 7,
     "metadata": {},
     "output_type": "execute_result"
    }
   ],
   "source": [
    "q = QuantumRegister(2, name='q')\n",
    "zero_CNOT = QuantumCircuit(q, name = 'qc')\n",
    "\n",
    "zero_CNOT.x(q[1])\n",
    "\n",
    "zero_CNOT.h(q[0])\n",
    "zero_CNOT.h(q[1])\n",
    "\n",
    "print('_________Initial state____________')\n",
    "oq.Wavefunction(zero_CNOT)\n",
    "\n",
    "zero_CNOT.x(q[0])\n",
    "print('_________X____________')\n",
    "oq.Wavefunction(zero_CNOT)\n",
    "\n",
    "zero_CNOT.cx(q[0],q[1])\n",
    "print('_________CNOT____________')\n",
    "oq.Wavefunction(zero_CNOT)\n",
    "\n",
    "zero_CNOT.x(q[0])\n",
    "print('_________X____________')\n",
    "oq.Wavefunction(zero_CNOT)\n",
    "\n",
    "zero_CNOT.draw(output='mpl')"
   ]
  },
  {
   "cell_type": "code",
   "execution_count": null,
   "id": "53d61b6d-d3c8-4f93-a4fa-fa1f04d944b4",
   "metadata": {},
   "outputs": [],
   "source": []
  }
 ],
 "metadata": {
  "kernelspec": {
   "display_name": "Python 3 (ipykernel)",
   "language": "python",
   "name": "python3"
  },
  "language_info": {
   "codemirror_mode": {
    "name": "ipython",
    "version": 3
   },
   "file_extension": ".py",
   "mimetype": "text/x-python",
   "name": "python",
   "nbconvert_exporter": "python",
   "pygments_lexer": "ipython3",
   "version": "3.11.5"
  }
 },
 "nbformat": 4,
 "nbformat_minor": 5
}

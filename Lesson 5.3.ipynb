{
 "cells": [
  {
   "cell_type": "code",
   "execution_count": 1,
   "id": "f3c5c6a3-fcd3-4aa1-bef7-84a7e66cd6f5",
   "metadata": {
    "tags": []
   },
   "outputs": [],
   "source": [
    "#Libraries needed to implement and simulate quantum circuits\n",
    "from qiskit import QuantumRegister, ClassicalRegister, QuantumCircuit, transpile, qasm2, qasm3\n",
    "from qiskit_aer import Aer\n",
    "from qiskit.primitives import BackendSampler\n",
    "#Custem functions to simplify answers\n",
    "import Our_Qiskit_Functions as oq #a part of the libabry presented in arXiv:1903.04359v1.\n",
    "\n",
    "import numpy as np\n",
    "import math as m\n",
    "import scipy as sci\n",
    "\n",
    "#Initialize backends simulators to visualize circuits\n",
    "S_simulator = Aer.backends(name='statevector_simulator')[0]\n",
    "M_simulator = Aer.backends(name='qasm_simulator')[0]"
   ]
  },
  {
   "cell_type": "code",
   "execution_count": 2,
   "id": "9dc8e753-f7e7-4354-bbe2-423f6a492783",
   "metadata": {
    "tags": []
   },
   "outputs": [
    {
     "name": "stdout",
     "output_type": "stream",
     "text": [
      "      s:  [0. 1. 0.]\n",
      " \n",
      " inputs:  [0. 1. 2. 3. 4. 5. 6. 7.]\n",
      "outputs:  [3. 1. 3. 1. 2. 4. 2. 4.]\n"
     ]
    }
   ],
   "source": [
    "N = 3\n",
    "s = np.zeros(N)\n",
    "for i in range(N):\n",
    "    s[i] = m.floor(2*np.random.rand())\n",
    "    \n",
    "inputs = np.zeros(2**N)\n",
    "outputs = []\n",
    "for o in range(2**N):\n",
    "    inputs[o] = o\n",
    "    outputs.append(o)\n",
    "\n",
    "f = np.zeros(2**N)\n",
    "for j in range(2**N):\n",
    "    out = outputs[int(m.floor(len(outputs)*np.random.rand()))]\n",
    "    f[j] = out\n",
    "    f[int(oq.From_Binary(oq.Oplus(oq.Binary(j, 2**N),s)))] = out\n",
    "    outputs.remove(out)\n",
    "    \n",
    "print('      s: ', s)\n",
    "print(' ')\n",
    "print(' inputs: ', inputs)\n",
    "print('outputs: ', f)"
   ]
  },
  {
   "cell_type": "code",
   "execution_count": 3,
   "id": "2b5b4467-04d2-4da6-aafc-783e01a70396",
   "metadata": {
    "tags": []
   },
   "outputs": [
    {
     "name": "stdout",
     "output_type": "stream",
     "text": [
      "___________Initial state_______________\n",
      "0.5  |0000>   0.5  |1000>   0.5  |0100>   0.5  |1100>   \n",
      "\n",
      "s =  [1. 1.]\n",
      "\n",
      "__________________After g__________\n",
      "0.5  |10>|00>   0.5  |01>|00>   0.5  |00>|10>   0.5  |11>|10>   \n",
      "\n",
      "___________Afeter H^2_______________\n",
      "0.5  |00>|00>   -0.5  |11>|00>   0.5  |00>|10>   0.5  |11>|10>   \n"
     ]
    }
   ],
   "source": [
    "q = QuantumRegister(2, name='q')\n",
    "anc=QuantumRegister(2, name='anc')\n",
    "S_qc=QuantumCircuit(q,anc,name='qc')\n",
    "\n",
    "S_qc.h(q[0])\n",
    "S_qc.h(q[1])\n",
    "\n",
    "print('___________Initial state_______________')\n",
    "oq.Wavefunction(S_qc, sustem=[2,2])\n",
    "\n",
    "S_qc,s,f = oq.Blackbox_g_S(2, S_qc, q, anc)\n",
    "\n",
    "print('\\ns = ', s)\n",
    "print('\\n__________________After g__________')\n",
    "oq.Wavefunction(S_qc, systems=[2,2,1], show_systems=[True,True,False])\n",
    "\n",
    "S_qc.h(q[0])\n",
    "S_qc.h(q[1])\n",
    "\n",
    "print('\\n___________Afeter H^2_______________')\n",
    "oq.Wavefunction(S_qc, systems=[2,2,1], show_systems=[True,True,False]);"
   ]
  },
  {
   "cell_type": "code",
   "execution_count": 4,
   "id": "d9cce514-c3dc-4082-bb48-4013b78c139a",
   "metadata": {
    "tags": []
   },
   "outputs": [
    {
     "name": "stdout",
     "output_type": "stream",
     "text": [
      "Measurement Results:  {'000': 6, '100': 5, '010': 7, '110': 2}\n",
      "\n",
      "candidate:  [[0, 0, 1]]\n",
      "\n",
      "   hidden:  [0. 0. 1.]\n"
     ]
    }
   ],
   "source": [
    "q = QuantumRegister(3, name='q')\n",
    "c = ClassicalRegister(3,name='c')\n",
    "anc=QuantumRegister(3, name='anc')\n",
    "S_qc=QuantumCircuit(q,anc,c, name='qc')\n",
    "\n",
    "for i in range(3):\n",
    "    S_qc.h(q[i])\n",
    "\n",
    "S_qc, s, f = oq.Blackbox_g_S(3, S_qc, q, anc)\n",
    "\n",
    "for i in range(3):\n",
    "    S_qc.h(q[i])\n",
    "    \n",
    "S_qc.measure(q,c)\n",
    "\n",
    "run_quantum = True\n",
    "\n",
    "while(run_quantum):\n",
    "    M = oq.Measurement(S_qc, shots = 20, return_M = True, print_M = False)\n",
    "    if len(list(M.keys())) >= 4:\n",
    "        run_quantum = False\n",
    "        print('Measurement Results: ', M)\n",
    "        Equations = []\n",
    "        for i in range(len(list(M.keys()))):\n",
    "            if list(M.keys())[i] != '000':\n",
    "                Equations.append([int(list(M.keys())[i][0]), int(list(M.keys())[i][1]), int(list(M.keys())[i][2])])\n",
    "        s_primes = oq.Simons_Solver(Equations,3)\n",
    "        print('\\ncandidate: ', s_primes)\n",
    "        print('\\n   hidden: ', s)"
   ]
  },
  {
   "cell_type": "code",
   "execution_count": 5,
   "id": "c341b907-f4e7-4e87-8226-28fd4fcb1b68",
   "metadata": {
    "tags": []
   },
   "outputs": [
    {
     "name": "stdout",
     "output_type": "stream",
     "text": [
      "\n",
      "          candidate:  [[1, 0, 0]]\n",
      "\n",
      "             hidden:  [1. 0. 0.]\n",
      "\n",
      "unique measurements:  ['010', '011']\n",
      "\n",
      "       quantum runs:  2\n"
     ]
    }
   ],
   "source": [
    "q = QuantumRegister(3, name='q')\n",
    "c = ClassicalRegister(3,name='c')\n",
    "anc=QuantumRegister(3, name='anc')\n",
    "S_qc=QuantumCircuit(q,anc,c, name='qc')\n",
    "\n",
    "for i in range(3):\n",
    "    S_qc.h(q[i])\n",
    "\n",
    "S_qc, s, f = oq.Blackbox_g_S(3, S_qc, q, anc)\n",
    "\n",
    "for i in range(3):\n",
    "    S_qc.h(q[i])\n",
    "    \n",
    "S_qc.measure(q,c)\n",
    "\n",
    "run_quantum = True\n",
    "Equations = []\n",
    "Results = []\n",
    "quantum_runs = 0\n",
    "    \n",
    "while(run_quantum):\n",
    "    quantum_runs += 1\n",
    "    M = oq.Measurement(S_qc, shots = 20, return_M = True, print_M = False)\n",
    "    new_result = True\n",
    "        \n",
    "    for r in range(len(Results)):\n",
    "        if list(M.keys())[0] == Results[r]:\n",
    "            new_result = False\n",
    "            break\n",
    "        \n",
    "    if new_result:\n",
    "        Results.append(list(M.keys())[0])\n",
    "        Equations.append([int(list(M.keys())[0][0]), int(list(M.keys())[0][1]), int(list(M.keys())[0][2])])\n",
    "        s_primes = oq.Simons_Solver(Equations, 3)\n",
    "        if len(s_primes) == 1:\n",
    "            run_quantum = False\n",
    "            \n",
    "print('\\n          candidate: ', s_primes)\n",
    "print('\\n             hidden: ', s)\n",
    "print('\\nunique measurements: ', Results)\n",
    "print('\\n       quantum runs: ', quantum_runs)"
   ]
  },
  {
   "cell_type": "code",
   "execution_count": 6,
   "id": "8809e987-5a49-4817-b29c-efa12a05f59e",
   "metadata": {
    "tags": []
   },
   "outputs": [
    {
     "name": "stdout",
     "output_type": "stream",
     "text": [
      "\n",
      "          candidate:  [[0, 1, 0, 1]]\n",
      "\n",
      "             hidden:  [0. 1. 0. 1.]\n",
      "\n",
      "unique measurements:  ['1111', '0101', '1000']\n",
      "\n",
      "       quantum runs:  3\n"
     ]
    }
   ],
   "source": [
    "Q = 4\n",
    "\n",
    "q = QuantumRegister(Q, name='q')\n",
    "c = ClassicalRegister(Q,name='c')\n",
    "anc=QuantumRegister(Q, name='anc')\n",
    "S_qc=QuantumCircuit(q,anc,c, name='qc')\n",
    "\n",
    "S_qc, s = oq.Simons_Quantum(Q, S_qc, q, c, anc)\n",
    "sp, r, qr = oq.Simons_Classical(Q, S_qc)\n",
    "\n",
    "print('\\n          candidate: ', sp)\n",
    "print('\\n             hidden: ', s)\n",
    "print('\\nunique measurements: ', r)\n",
    "print('\\n       quantum runs: ', qr)\n"
   ]
  },
  {
   "cell_type": "code",
   "execution_count": null,
   "id": "687d21f2-91e9-4d71-9b38-9cfa3fedd11e",
   "metadata": {},
   "outputs": [],
   "source": []
  }
 ],
 "metadata": {
  "kernelspec": {
   "display_name": "Python 3 (ipykernel)",
   "language": "python",
   "name": "python3"
  },
  "language_info": {
   "codemirror_mode": {
    "name": "ipython",
    "version": 3
   },
   "file_extension": ".py",
   "mimetype": "text/x-python",
   "name": "python",
   "nbconvert_exporter": "python",
   "pygments_lexer": "ipython3",
   "version": "3.11.5"
  }
 },
 "nbformat": 4,
 "nbformat_minor": 5
}

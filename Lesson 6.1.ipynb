{
 "cells": [
  {
   "cell_type": "code",
   "execution_count": 1,
   "id": "637fd6cd-67b1-4fe7-8436-b242be74569a",
   "metadata": {
    "tags": []
   },
   "outputs": [],
   "source": [
    "#Libraries needed to implement and simulate quantum circuits\n",
    "from qiskit import QuantumRegister, ClassicalRegister, QuantumCircuit, transpile, qasm2, qasm3\n",
    "from qiskit_aer import Aer\n",
    "from qiskit.primitives import BackendSampler\n",
    "#Custem functions to simplify answers\n",
    "import Our_Qiskit_Functions as oq #a part of the library presented in arXiv:1903.04359v1.\n",
    "\n",
    "import numpy as np\n",
    "import math as m\n",
    "import scipy as sci\n",
    "\n",
    "#Initialize backends simulators to visualize circuits\n",
    "S_simulator = Aer.backends(name='statevector_simulator')[0]\n",
    "M_simulator = Aer.backends(name='qasm_simulator')[0]"
   ]
  },
  {
   "cell_type": "code",
   "execution_count": 2,
   "id": "176a776f-d494-4315-a1d3-8f930da46af8",
   "metadata": {
    "tags": []
   },
   "outputs": [
    {
     "name": "stdout",
     "output_type": "stream",
     "text": [
      "Adding a =  [1, 1, 0, 0]  + b =  [0, 1, 1, 1]  ===>  [1, 0, 0, 1, 1]\n"
     ]
    }
   ],
   "source": [
    "def XOR(a,b):\n",
    "    if( (a+b)==1 ):\n",
    "        return 1\n",
    "    else:\n",
    "        return 0\n",
    "\n",
    "def OR(a,b):\n",
    "    if( (a+b)>=1 ):\n",
    "        return 1\n",
    "    else:\n",
    "        return 0\n",
    "\n",
    "def AND(a,b):\n",
    "    if( (a+b)==2 ):\n",
    "        return 1\n",
    "    else:\n",
    "        return 0\n",
    "    \n",
    "#====================================\n",
    "a = [1,1,0,0]\n",
    "b = [0,1,1,1]\n",
    "C = 0\n",
    "Sum = []\n",
    "for i in range( len(a) ):\n",
    "    xor1 = XOR(a[0-i-1],b[0-i-1])\n",
    "    S = XOR(xor1,C)\n",
    "    and1 = AND(a[0-i-1],b[0-i-1])\n",
    "    and2 = AND(xor1,C)\n",
    "    C = OR(and1,and2)\n",
    "    Sum.insert(0,S)\n",
    "if( C == 1 ):\n",
    "    Sum.insert(0,C)\n",
    "\n",
    "print('Adding a = ',a,' + b = ',b,' ===> ',Sum)"
   ]
  },
  {
   "cell_type": "code",
   "execution_count": 3,
   "id": "21d68c89-2f46-4711-bb98-3b206feb45ac",
   "metadata": {
    "tags": []
   },
   "outputs": [
    {
     "name": "stdout",
     "output_type": "stream",
     "text": [
      "0.35355  |000>   -0.35355j |100>   -0.35355  |010>   0.35355j |110>   0.35355  |001>   -0.35355j |101>   -0.35355  |011>   0.35355j |111>   \n"
     ]
    }
   ],
   "source": [
    "q = QuantumRegister(3,name='q')\n",
    "qc= QuantumCircuit(q,name='qc')\n",
    "#------------------------------\n",
    "qc.h( q[0] )\n",
    "qc.h( q[1] )\n",
    "qc.h( q[2] )\n",
    "qc.p( 3*m.pi/2, q[0] )\n",
    "qc.p( m.pi, q[1] )\n",
    "qc.p( 0, q[2] )\n",
    "oq.Wavefunction(qc);"
   ]
  },
  {
   "cell_type": "code",
   "execution_count": 4,
   "id": "97201604-0ad9-45ea-be03-95f216e5f723",
   "metadata": {
    "tags": []
   },
   "outputs": [
    {
     "name": "stdout",
     "output_type": "stream",
     "text": [
      "0.35355  |000>   -0.35355j |100>   -0.35355  |010>   0.35355j |110>   0.35355  |001>   -0.35355j |101>   -0.35355  |011>   0.35355j |111>   \n"
     ]
    }
   ],
   "source": [
    "q = QuantumRegister(3,name='q')\n",
    "qc= QuantumCircuit(q,name='qc')\n",
    "#------------------------------\n",
    "qc.x( q[0] )\n",
    "qc.x( q[1] )\n",
    "oq.QFT(qc,q,3)\n",
    "oq.Wavefunction(qc);"
   ]
  },
  {
   "cell_type": "code",
   "execution_count": 5,
   "id": "0fd50e5f-bf68-4ec7-8a4c-d724ac25f40e",
   "metadata": {},
   "outputs": [
    {
     "name": "stdout",
     "output_type": "stream",
     "text": [
      "1.0  |01>|10>   \n"
     ]
    }
   ],
   "source": [
    "qa = QuantumRegister(2,name='a')\n",
    "qb = QuantumRegister(2,name='b')\n",
    "qc = QuantumCircuit(qa,qb,name='qc')\n",
    "qc.x( qa[1] )\n",
    "qc.x( qb[0] )\n",
    "oq.Wavefunction(qc,systems=[2,2]);"
   ]
  },
  {
   "cell_type": "code",
   "execution_count": 6,
   "id": "4480fdaa-f2ae-4b58-98fb-779ee932996b",
   "metadata": {
    "tags": []
   },
   "outputs": [
    {
     "name": "stdout",
     "output_type": "stream",
     "text": [
      "_____ States to Add Together _____\n",
      "1.0  |01>|10>   \n",
      "\n",
      "___ Sum Stored in |a> ___\n",
      "1.0  |11>   \n"
     ]
    }
   ],
   "source": [
    "qa = QuantumRegister(2,name='a')\n",
    "qb = QuantumRegister(2,name='b')\n",
    "qc = QuantumCircuit(qa,qb,name='qc')\n",
    "#------------------------------------\n",
    "qc.x( qa[1] )\n",
    "qc.x( qb[0] )\n",
    "print('_____ States to Add Together _____')\n",
    "oq.Wavefunction(qc,systems=[2,2])\n",
    "oq.QFT(qc,qa,2)\n",
    "#----------------------------- phase contributions from |b>\n",
    "qc.cp( m.pi, qb[0], qa[0] )\n",
    "qc.cp( m.pi/2, qb[1], qa[0] )\n",
    "qc.cp( m.pi, qb[1], qa[1] )\n",
    "#-----------------------------\n",
    "oq.QFT_dgr(qc,qa,2)\n",
    "print('\\n___ Sum Stored in |a> ___')\n",
    "oq.Wavefunction(qc,systems=[2,2],show_systems=[True,False]);"
   ]
  },
  {
   "cell_type": "code",
   "execution_count": 7,
   "id": "d8ad0870-aaca-4f45-b99b-7cd355ff01d2",
   "metadata": {
    "tags": []
   },
   "outputs": [
    {
     "name": "stdout",
     "output_type": "stream",
     "text": [
      "\n",
      "A: [0, 1]  B: [1, 0]\n",
      "1.0  |11>   \n",
      "\n",
      "A: [0, 1]  B: [1, 1]\n",
      "1.0  |00>   \n",
      "\n",
      "A: [1, 0]  B: [1, 0]\n",
      "1.0  |00>   \n",
      "\n",
      "A: [1, 0]  B: [1, 1]\n",
      "1.0  |01>   \n",
      "\n",
      "A: [1, 1]  B: [1, 0]\n",
      "1.0  |01>   \n",
      "\n",
      "A: [1, 1]  B: [1, 1]\n",
      "1.0  |10>   \n"
     ]
    }
   ],
   "source": [
    "A_States = [[0,1],[1,0],[1,1]]\n",
    "B_States = [[1,0],[1,1]]\n",
    "#------------------------------------\n",
    "for a in range(len(A_States)):\n",
    "    A = A_States[a]\n",
    "    for b in range(len(B_States)):\n",
    "        B = B_States[b]\n",
    "        qa = QuantumRegister(2,name='a')\n",
    "        qb = QuantumRegister(2,name='b')\n",
    "        qc = QuantumCircuit(qa,qb,name='qc')\n",
    "        #-----------------------------------\n",
    "        if(A[0]==1):\n",
    "            qc.x( qa[0] )\n",
    "        if(A[1]==1):\n",
    "            qc.x( qa[1] )\n",
    "        if(B[0]==1):\n",
    "            qc.x( qb[0] )\n",
    "        if(B[1]==1):\n",
    "            qc.x( qb[1] )\n",
    "        oq.QFT(qc,qa,2)\n",
    "        qc.cp( m.pi, qb[0], qa[0] )\n",
    "        qc.cp( m.pi/2, qb[1], qa[0] )\n",
    "        qc.cp( m.pi, qb[1], qa[1] )\n",
    "        oq.QFT_dgr(qc,qa,2)\n",
    "        print('\\nA:',A,' B:',B)\n",
    "        oq.Wavefunction(qc,systems=[2,2],show_systems=[True,False])\n"
   ]
  },
  {
   "cell_type": "code",
   "execution_count": 8,
   "id": "0314decc-06e9-482f-a7d1-0ca98e4cd7af",
   "metadata": {
    "tags": []
   },
   "outputs": [
    {
     "name": "stdout",
     "output_type": "stream",
     "text": [
      "_____ States to Add Together _____\n",
      "1.0  |010>|11>   \n",
      "\n",
      "___ Sum Stored in |a> ___\n",
      "1.0  |101>   \n"
     ]
    }
   ],
   "source": [
    "qa = QuantumRegister(3,name='a')\n",
    "qb = QuantumRegister(2,name='b')\n",
    "qc = QuantumCircuit(qa,qb,name='qc')\n",
    "#-----------------------------------\n",
    "qc.x( qa[1] )\n",
    "qc.x( qb[0] )\n",
    "qc.x( qb[1] )\n",
    "print('_____ States to Add Together _____')\n",
    "oq.Wavefunction(qc,systems=[3,2])\n",
    "oq.QFT(qc,qa,3)\n",
    "#------------------------------ phase contributions from |b>\n",
    "qc.cp( m.pi/2, qb[0], qa[0] )\n",
    "qc.cp( m.pi/4, qb[1], qa[0] )\n",
    "qc.cp( m.pi, qb[0], qa[1] )\n",
    "qc.cp( m.pi/2, qb[1], qa[1] )\n",
    "qc.cp( m.pi, qb[1], qa[2] )\n",
    "#------------------------------\n",
    "oq.QFT_dgr(qc,qa,3)\n",
    "print('\\n___ Sum Stored in |a> ___')\n",
    "oq.Wavefunction(qc,systems=[3,2],show_systems=[True,False]);"
   ]
  },
  {
   "cell_type": "code",
   "execution_count": 9,
   "id": "91aed169-4ace-4fa0-b80d-c1910c3f7a1e",
   "metadata": {
    "tags": []
   },
   "outputs": [
    {
     "name": "stdout",
     "output_type": "stream",
     "text": [
      "States to Add Together:  [0, 1, 1, 0]  +  [1, 1, 0, 1]\n",
      "\n",
      "___ Sum Stored in |a> ___\n",
      "1.0  |10011>   \n"
     ]
    }
   ],
   "source": [
    "A = [0,1,1,0]\n",
    "B = [1,1,0,1] #A and B need to be arrays of equal length (don't include the extra 0 qubit for A)\n",
    "print('States to Add Together: ',A,' + ',B)\n",
    "#=========================================\n",
    "qa = QuantumRegister(len(A)+1,name='a')\n",
    "qb = QuantumRegister(len(B),name='b')\n",
    "qc = QuantumCircuit(qa,qb,name='qc')\n",
    "#--------------------------------------\n",
    "oq.Quantum_Adder(qc,qa,qb,A,B)\n",
    "print('\\n___ Sum Stored in |a> ___')\n",
    "oq.Wavefunction(qc,systems=[len(A)+1,len(B)],show_systems=[True,False]);"
   ]
  },
  {
   "cell_type": "code",
   "execution_count": 10,
   "id": "ada6a779-7a6e-41d6-ba08-785324eca000",
   "metadata": {
    "tags": []
   },
   "outputs": [
    {
     "name": "stdout",
     "output_type": "stream",
     "text": [
      "____ States to Subtract ____\n",
      "1.0  |110>|011>   \n",
      "\n",
      "___ Difference Stored in |a> ___\n",
      "1.0  |011>   \n"
     ]
    }
   ],
   "source": [
    "qa = QuantumRegister(3,name='a')\n",
    "qb = QuantumRegister(3,name='b')\n",
    "qc = QuantumCircuit(qa,qb,name='qc')\n",
    "#-----------------------------------\n",
    "qc.x( qa[0] )\n",
    "qc.x( qa[1] )\n",
    "qc.x( qb[1] )\n",
    "qc.x( qb[2] )\n",
    "print('____ States to Subtract ____')\n",
    "oq.Wavefunction(qc,systems=[3,3])\n",
    "oq.QFT(qc,qa,3)\n",
    "#------------------------------ phase contributions from |b>\n",
    "qc.cp( -m.pi, qb[0], qa[0] )\n",
    "qc.cp( -m.pi/2, qb[1], qa[0] )\n",
    "qc.cp( -m.pi/4, qb[2], qa[0] )\n",
    "qc.cp( -m.pi, qb[1], qa[1] )\n",
    "qc.cp( -m.pi/2, qb[2], qa[1] )\n",
    "qc.cp( -m.pi, qb[2], qa[2] )\n",
    "#------------------------------\n",
    "oq.QFT_dgr(qc,qa,3)\n",
    "print('\\n___ Difference Stored in |a> ___')\n",
    "oq.Wavefunction(qc,systems=[3,3],show_systems=[True,False]);"
   ]
  },
  {
   "cell_type": "code",
   "execution_count": null,
   "id": "bd2c2831-8aca-4f3b-8f08-81fae4c5015f",
   "metadata": {},
   "outputs": [],
   "source": []
  }
 ],
 "metadata": {
  "kernelspec": {
   "display_name": "Python 3 (ipykernel)",
   "language": "python",
   "name": "python3"
  },
  "language_info": {
   "codemirror_mode": {
    "name": "ipython",
    "version": 3
   },
   "file_extension": ".py",
   "mimetype": "text/x-python",
   "name": "python",
   "nbconvert_exporter": "python",
   "pygments_lexer": "ipython3",
   "version": "3.11.5"
  }
 },
 "nbformat": 4,
 "nbformat_minor": 5
}

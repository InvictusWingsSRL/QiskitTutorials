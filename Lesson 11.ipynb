{
 "cells": [
  {
   "cell_type": "code",
   "execution_count": 1,
   "id": "6af7bd6b-f688-4d08-a80f-714811ebd305",
   "metadata": {
    "tags": []
   },
   "outputs": [],
   "source": [
    "from qiskit import ClassicalRegister, QuantumRegister, QuantumCircuit, transpile, qasm2, qasm3\n",
    "from qiskit_aer import Aer\n",
    "from qiskit.primitives import BackendSampler\n",
    "from qiskit.providers.basic_provider import BasicProvider # instead of BasicAer\n",
    "import Our_Qiskit_Functions as oq\n",
    "import numpy as np\n",
    "import math as m\n",
    "import scipy as sci\n",
    "import random\n",
    "import matplotlib\n",
    "import matplotlib.pyplot as plt\n",
    "from itertools import permutations\n",
    "S_simulator = Aer.backends(name='statevector_simulator')[0]"
   ]
  },
  {
   "cell_type": "code",
   "execution_count": 2,
   "id": "6ac65669-ed83-4bbb-a3fe-6c857a6406ad",
   "metadata": {
    "tags": []
   },
   "outputs": [
    {
     "name": "stdout",
     "output_type": "stream",
     "text": [
      "Total Particle Distance:  10  Particle Masses m1:  1  m2:  2  m3:  3\n",
      "\n",
      "Minimal Total Energy:  -381.5408\n",
      "\n",
      "Distances Between Particles: 1-2:  3.3  1-3:  2.747  2-3:  3.953\n",
      "\n",
      "Energy Contributions: 1-2:  -64.52  1-3:  -49.07  2-3:  -267.95\n"
     ]
    }
   ],
   "source": [
    "def E(m1,m2,q):\n",
    "    return abs(m1-m2)*2*q**4 - abs(m1+m2)*10*q**2 + 25\n",
    "#=====================================================\n",
    "D = 10\n",
    "M = [1,2,3]\n",
    "GS = [999,0,0,0]\n",
    "N = 100\n",
    "for i in np.arange(N):\n",
    "    d12 = round(i/N,4)*D\n",
    "    for j in np.arange(N):\n",
    "        d13 = round((j/N)*(D-d12),4)\n",
    "        d23 = round((D-d12-d13),4)\n",
    "        Etotal = E(M[0],M[1],d12) + E(M[0],M[2],d13) + E(M[1],M[2],d23)\n",
    "        if( Etotal < GS[0] ):\n",
    "            GS = [Etotal,d12,d13,d23]\n",
    "print('Total Particle Distance: ',D,' Particle Masses m1: ',M[0],' m2: ',M[1],' m3: ',M[2])\n",
    "print('\\nMinimal Total Energy: ',round(GS[0],4))\n",
    "print('\\nDistances Between Particles: 1-2: ',round(GS[1],3),' 1-3: ',round(GS[2],3),' 2-3: ',round(GS[3],3))\n",
    "print('\\nEnergy Contributions: 1-2: ',round(E(M[0],M[1],GS[1]),2),' 1-3: ',round(E(M[0],M[2],GS[2]),2), ' 2-3: ',round(E(M[1],M[2],GS[3]),2))"
   ]
  },
  {
   "cell_type": "code",
   "execution_count": 3,
   "id": "41ad7ed6-42d3-429d-ae32-5449756aea58",
   "metadata": {
    "tags": []
   },
   "outputs": [
    {
     "name": "stdout",
     "output_type": "stream",
     "text": [
      "___ Initial State ___\n",
      "1.0  |0>   \n",
      "\n",
      "___ After U(θ,φ) ___\n",
      "-0.61237-0.61237j |0>   -0.35355+0.35355j |1>   \n",
      " \n",
      "   ┌─────────┐┌──────────┐\n",
      "q: ┤ Ry(π/3) ├┤ Rz(3π/2) ├\n",
      "   └─────────┘└──────────┘\n"
     ]
    }
   ],
   "source": [
    "def Single_Qubit_Ansatz( qc, qubit, params ):\n",
    "    qc.ry( params[0], qubit )\n",
    "    qc.rz( params[1], qubit )\n",
    "#================================================\n",
    "q = QuantumRegister( 1, name='q' )\n",
    "qc= QuantumCircuit( q, name='qc' )\n",
    "theta = m.pi/3\n",
    "phi = 3*m.pi/2\n",
    "print('___ Initial State ___')\n",
    "oq.Wavefunction( qc )\n",
    "Single_Qubit_Ansatz( qc, q[0], [theta,phi] )\n",
    "print('\\n___ After U(\\u03B8,\\u03C6) ___')\n",
    "oq.Wavefunction( qc )\n",
    "print(' ')\n",
    "print(qc)"
   ]
  },
  {
   "cell_type": "code",
   "execution_count": 4,
   "id": "710a2cfd-ddc9-44c3-ad63-b7041ebcf3f5",
   "metadata": {},
   "outputs": [
    {
     "name": "stdout",
     "output_type": "stream",
     "text": [
      " ___ Ansatz State ___\n",
      "0.5  |0>   0.86603  |1>   \n",
      "\n",
      "{ |0> , |1> } Basis - Energy Expectation Value:  -0.49\n",
      "\n",
      "{ |+> , |-> } Basis - Energy Expectation Value:  -0.01\n"
     ]
    }
   ],
   "source": [
    "Shots = 10000\n",
    "#============================================\n",
    "q = QuantumRegister(1,name='q')\n",
    "c = ClassicalRegister(1,name='c')\n",
    "qc= QuantumCircuit(q,c,name='qc')\n",
    "qc.initialize( [m.sqrt(1/4),m.sqrt(3/4)], q[0] )\n",
    "print(' ___ Ansatz State ___')\n",
    "oq.Wavefunction( qc )\n",
    "qc.measure(q,c)\n",
    "M1 = oq.Measurement( qc, shots=Shots, print_M=False, return_M=True )\n",
    "print( '\\n{ |0> , |1> } Basis - Energy Expectation Value: ',round( (M1['0']/Shots)+(-1.0*M1['1']/Shots) ,3) )\n",
    "#============================================\n",
    "q2 = QuantumRegister(1,name='q2')\n",
    "c2 = ClassicalRegister(1,name='c2')\n",
    "qc2= QuantumCircuit(q2,c2,name='qc2')\n",
    "qc.initialize( [m.sqrt(1/4),m.sqrt(3/4)], q[0] )\n",
    "qc2.ry( -m.pi/2, q2[0] )\n",
    "qc2.measure(q2,c2)\n",
    "M2 = oq.Measurement( qc2, shots=Shots, print_M=False, return_M=True )\n",
    "print( '\\n{ |+> , |-> } Basis - Energy Expectation Value: ',round( (M2['0']/Shots)+(-1.0*M2['1']/Shots) ,3) )"
   ]
  },
  {
   "cell_type": "code",
   "execution_count": 5,
   "id": "d90550b8-d4df-40db-ae9a-a3f84e383b13",
   "metadata": {},
   "outputs": [
    {
     "name": "stdout",
     "output_type": "stream",
     "text": [
      "Ground State Energy:  -3.7596  θ =  1.885  φ =  2.723\n"
     ]
    },
    {
     "data": {
      "image/png": "[encoded data removed]",
      "text/plain": [
       "<Figure size 640x480 with 2 Axes>"
      ]
     },
     "metadata": {},
     "output_type": "display_data"
    }
   ],
   "source": [
    "t1 = 60\n",
    "t2 = 60\n",
    "Shots = 10000\n",
    "Parameter_Space = np.zeros(shape=(t1,t2))\n",
    "Ground_State = [100,0,0]\n",
    "H = {'X':3,'Y':-2,'Z':1}\n",
    "Hk = list( H.keys() )\n",
    "#--------------------------------------------------\n",
    "for i in np.arange( t1 ):\n",
    "    theta = m.pi*(i/t1)\n",
    "    for j in np.arange( t2 ):\n",
    "        phi = 2*m.pi*(j/t2)\n",
    "        Measures = []\n",
    "        for k in np.arange(len(Hk)):\n",
    "            q = QuantumRegister( 1, name='q' )\n",
    "            c = ClassicalRegister( 1, name='c' )\n",
    "            qc= QuantumCircuit( q, c, name='qc')\n",
    "            oq.Single_Qubit_Ansatz( qc, q[0], [theta, phi] )\n",
    "            if( Hk[k] == 'X' ):\n",
    "                qc.ry( -m.pi/2, q[0])\n",
    "            elif( Hk[k] == 'Y' ):\n",
    "                qc.rx(m.pi/2, q[0])\n",
    "            qc.measure( q,c )\n",
    "            M = {'0':0,'1':0}\n",
    "            M.update( oq.Measurement( qc, shots=Shots, print_M=False, return_M=True ) )\n",
    "            Measures.append( M )\n",
    "        Parameter_Space[i,j] = H['X']*(Measures[0]['0'] - Measures[0]['1'])/Shots + H['Y']*(Measures[1]['0'] - Measures[1]['1'])/Shots + H['Z']*(Measures[2]['0'] - Measures[2]['1'])/Shots\n",
    "        if( Parameter_Space[i,j] < Ground_State[0] ):\n",
    "            Ground_State[0] = Parameter_Space[i,j]\n",
    "            Ground_State[1] = theta\n",
    "            Ground_State[2] = phi\n",
    "#==================================================\n",
    "print('Ground State Energy: ',round(Ground_State[0],5),' \\u03B8 = ',round(Ground_State[1],3),' \\u03C6 = ',round(Ground_State[2],3))\n",
    "fig, ax = plt.subplots()\n",
    "show_text = False\n",
    "show_ticks = False\n",
    "oq.Heatmap(Parameter_Space, show_text, show_ticks, ax, \"plasma\", \"Energy Expectation Value\")\n",
    "fig.tight_layout()\n",
    "plt.show()"
   ]
  },
  {
   "cell_type": "code",
   "execution_count": 6,
   "id": "332b8b79-5819-4a99-b090-7c3beb3f06f3",
   "metadata": {
    "tags": []
   },
   "outputs": [
    {
     "name": "stdout",
     "output_type": "stream",
     "text": [
      "Iterations:  0  EV:  3.72844  θ =  1.37507  φ =  5.72859\n",
      "Iterations:  1  EV:  3.72226  θ =  1.37227  φ =  5.75729\n",
      "Iterations:  2  EV:  3.72686  θ =  1.36757  φ =  5.66619\n",
      "\n",
      "_____ Gradient Descent Complete _____\n",
      "\n",
      "Iterations:  3  EV:  3.72226  θ =  1.37227  φ =  5.75729\n"
     ]
    }
   ],
   "source": [
    "H = {'X':3,'Y':-2,'Z':1}\n",
    "Hk = list( H.keys() )\n",
    "Shots = 100000\n",
    "Ground_State = [100,0,0]\n",
    "epsilon = 0.001\n",
    "step_size = 0.01\n",
    "delta = 0.0001\n",
    "M_bool = True\n",
    "#-----------------------\n",
    "EV = 100\n",
    "EV_old = 1000\n",
    "terminate = False\n",
    "#========================================================\n",
    "theta = m.pi*random.random()\n",
    "phi = 2*m.pi*random.random()\n",
    "iters = 0\n",
    "while( (abs( EV - EV_old ) > delta) and (terminate==False) ):\n",
    "    EV_old = EV\n",
    "    EV = 0\n",
    "    for k in np.arange(len(Hk)):\n",
    "        q = QuantumRegister( 1, name='q' )\n",
    "        c = ClassicalRegister( 1, name='c' )\n",
    "        qc= QuantumCircuit( q, c, name='qc')\n",
    "        oq.Single_Qubit_Ansatz( qc, q[0], [theta, phi] )\n",
    "        if( Hk[k] == 'X' ):\n",
    "            qc.ry(-m.pi/2, q[0])\n",
    "        elif( Hk[k] == 'Y' ):\n",
    "            qc.rx(m.pi/2, q[0])\n",
    "        qc.measure( q,c )\n",
    "        M = {'0':0,'1':0}\n",
    "        M.update( oq.Measurement( qc, shots=Shots, print_M=False, return_M=True ) )\n",
    "        EV = EV + H[Hk[k]]*(M['0']-M['1'])/Shots\n",
    "    print('Iterations: ',iters,' EV: ',round(EV,5),' \\u03B8 = ',round(theta,5),' \\u03C6 = ',round(phi,5))\n",
    "    if( EV > EV_old ):\n",
    "        terminate = True\n",
    "    else:\n",
    "        if( EV < Ground_State[0] ):\n",
    "            Ground_State[0] = EV\n",
    "            Ground_State[1] = theta\n",
    "            Ground_State[2] = phi\n",
    "    theta_old = theta\n",
    "    phi_old = phi\n",
    "    theta,phi = oq.VQE_Gradient_Descent(qc,q,H,oq.Single_Qubit_Ansatz,theta,phi,epsilon,step_size,measure=M_bool,shots=Shots)\n",
    "    iters = iters + 1\n",
    "if( (abs( EV - EV_old ) < delta) or (terminate==True) ):\n",
    "    print('\\n_____ Gradient Descent Complete _____\\n')\n",
    "    print('Iterations: ',iters,' EV: ',round(Ground_State[0],5),' \\u03B8 = ',round(Ground_State[1],5),' \\u03C6 = ',round(Ground_State[2],5))"
   ]
  },
  {
   "cell_type": "code",
   "execution_count": 7,
   "id": "60398324-34b5-4ed2-9306-8aa440aa28d8",
   "metadata": {
    "tags": []
   },
   "outputs": [
    {
     "data": {
      "image/png": "[encoded data removed]",
      "text/plain": [
       "<Figure size 640x480 with 2 Axes>"
      ]
     },
     "metadata": {},
     "output_type": "display_data"
    }
   ],
   "source": [
    "t1 = 60\n",
    "t2 = 60\n",
    "Shots = 10000\n",
    "Parameter_Space = np.zeros(shape=(t1,t2))\n",
    "Ground_State = [100,0,0]\n",
    "H = {'X':3,'Y':-2,'Z':1}\n",
    "Hk = list( H.keys() )\n",
    "#--------------------------------------------------\n",
    "for i in np.arange( t1 ):\n",
    "    theta = m.pi/2+ (m.pi/10)*(i/t1)\n",
    "    #theta = m.pi*(i/t1)\n",
    "    for j in np.arange( t2 ):\n",
    "        phi = m.pi+ (m.pi/10)*(j/t2)\n",
    "        #phi = 2*m.pi*(j/t2)\n",
    "        EV = 0\n",
    "        for k in np.arange(len(Hk)):\n",
    "            q = QuantumRegister( 1, name='q' )\n",
    "            c = ClassicalRegister( 1, name='c' )\n",
    "            qc= QuantumCircuit( q, c, name='qc')\n",
    "            oq.Single_Qubit_Ansatz( qc, q[0], [theta, phi] )\n",
    "            if( Hk[k] == 'X' ):\n",
    "                qc.ry(-m.pi/2, q[0])\n",
    "            elif( Hk[k] == 'Y' ):\n",
    "                qc.rx(m.pi/2, q[0])\n",
    "            qc.measure( q,c )\n",
    "            M = {'0':0,'1':0}\n",
    "            M.update( oq.Measurement( qc, shots=Shots, print_M=False, return_M=True ) )\n",
    "            EV = EV + H[Hk[k]]*(M['0']-M['1'])/Shots\n",
    "        Parameter_Space[i,j] = EV\n",
    "        if( Parameter_Space[i,j] < Ground_State[0] ):\n",
    "            Ground_State[0] = Parameter_Space[i,j]\n",
    "            Ground_State[1] = theta\n",
    "            Ground_State[2] = phi\n",
    "#==================================================\n",
    "fig, ax = plt.subplots()\n",
    "show_text = False\n",
    "show_ticks = False\n",
    "oq.Heatmap(Parameter_Space, show_text, show_ticks, ax, \"plasma\", \"Energy Expectation Value\")\n",
    "fig.tight_layout()\n",
    "plt.show()"
   ]
  },
  {
   "cell_type": "code",
   "execution_count": 9,
   "id": "86eaae6e-7841-4dcf-bd63-e61caf23ecd3",
   "metadata": {
    "tags": []
   },
   "outputs": [
    {
     "data": {
      "image/png": "[encoded data removed]",
      "text/plain": [
       "<Figure size 640x480 with 2 Axes>"
      ]
     },
     "metadata": {},
     "output_type": "display_data"
    }
   ],
   "source": [
    "t1 = 60\n",
    "t2 = 60\n",
    "Parameter_Space = np.zeros(shape=(t1,t2))\n",
    "Ground_State = [100,0,0]\n",
    "H = {'X':3,'Y':-2,'Z':1}\n",
    "Hk = list( H.keys() )\n",
    "#--------------------------------------------------\n",
    "for i in np.arange( t1 ):\n",
    "    theta = m.pi/2+ (m.pi/10)*(i/t1)\n",
    "    for j in np.arange( t2 ):\n",
    "        phi = m.pi+ (m.pi/10)*(j/t2)\n",
    "        EV = 0\n",
    "        for k in np.arange(len(Hk)):\n",
    "            q = QuantumRegister( 1, name='q' )\n",
    "            qc= QuantumCircuit( q, name='qc')\n",
    "            oq.Single_Qubit_Ansatz( qc, q[0], [theta, phi] )\n",
    "            sv0 = oq.execute( qc, S_simulator, shots=1 ).result().get_statevector()\n",
    "            if( Hk[k] == 'X' ):\n",
    "                qc.x(q[0])\n",
    "            elif( Hk[k] == 'Y' ):\n",
    "                qc.y(q[0])\n",
    "            elif( Hk[k] == 'Z' ):\n",
    "                qc.z(q[0])\n",
    "            sv = oq.execute( qc, S_simulator, shots=1 ).result().get_statevector()\n",
    "            ev = 0\n",
    "            for k2 in range(len(np.asarray(sv))):\n",
    "                ev = ev + (np.conj(sv[k2])*sv0[k2]).real\n",
    "            EV = EV + H[Hk[k]] * ev\n",
    "        Parameter_Space[i,j] = EV\n",
    "        if( Parameter_Space[i,j] < Ground_State[0] ):\n",
    "            Ground_State[0] = Parameter_Space[i,j]\n",
    "            Ground_State[1] = theta\n",
    "            Ground_State[2] = phi\n",
    "#==================================================\n",
    "fig, ax = plt.subplots()\n",
    "show_text = False\n",
    "show_ticks = False\n",
    "oq.Heatmap(Parameter_Space, show_text, show_ticks, ax, \"plasma\", \"Energy Expectation Value\")\n",
    "fig.tight_layout()\n",
    "plt.show()"
   ]
  },
  {
   "cell_type": "code",
   "execution_count": 10,
   "id": "7df2e7f2-65fc-4d66-8868-c44929201263",
   "metadata": {
    "tags": []
   },
   "outputs": [
    {
     "name": "stdout",
     "output_type": "stream",
     "text": [
      "Iterations:  0  EV:  -0.34751  θ =  2.01417  φ =  4.14941\n",
      "Iterations:  10  EV:  -1.39229  θ =  2.0826  φ =  3.83318\n",
      "Iterations:  20  EV:  -2.19867  θ =  2.09577  φ =  3.54912\n",
      "Iterations:  30  EV:  -2.78632  θ =  2.07029  φ =  3.30752\n",
      "Iterations:  40  EV:  -3.18613  θ =  2.02774  φ =  3.11154\n",
      "Iterations:  50  EV:  -3.43579  θ =  1.98371  φ =  2.95924\n",
      "Iterations:  60  EV:  -3.57993  θ =  1.9458  φ =  2.84488\n",
      "Iterations:  70  EV:  -3.65845  θ =  1.91609  φ =  2.76107\n",
      "Iterations:  80  EV:  -3.69959  θ =  1.894  φ =  2.70062\n",
      "Iterations:  90  EV:  -3.72062  θ =  1.87806  φ =  2.65744\n",
      "Iterations:  100  EV:  -3.73121  θ =  1.86678  φ =  2.62679\n",
      "Iterations:  110  EV:  -3.73649  θ =  1.85889  φ =  2.60513\n",
      "Iterations:  120  EV:  -3.73911  θ =  1.85341  φ =  2.58984\n",
      "Iterations:  130  EV:  -3.7404  θ =  1.84963  φ =  2.57907\n",
      "\n",
      "_____ Gradient Descent Complete _____\n",
      "\n",
      "Iterations:  140  EV:  -3.741  θ =  1.84724  φ =  2.57214\n"
     ]
    }
   ],
   "source": [
    "H = {'X':3,'Y':-2,'Z':1}\n",
    "Hk = list( H.keys() )\n",
    "Ground_State = [100,0,0]\n",
    "epsilon = 0.05\n",
    "step_size = 0.01\n",
    "delta = 0.00005\n",
    "M_bool = False\n",
    "#-----------------------\n",
    "EV = 100\n",
    "EV_old = 1000\n",
    "terminate=False\n",
    "EV_type = 'wavefunction'\n",
    "#========================================================\n",
    "theta = m.pi*random.random()\n",
    "phi = 2*m.pi*random.random()\n",
    "iters = 0\n",
    "while( (abs( EV - EV_old ) > delta) and (terminate==False) ):\n",
    "    EV_old = EV\n",
    "    EV = oq.VQE_EV([theta,phi],oq.Single_Qubit_Ansatz,H,EV_type)\n",
    "    if( (iters/10.0)==m.ceil(iters/10.0) ):\n",
    "        print('Iterations: ',iters,' EV: ',round(EV,5),' \\u03B8 = ',round(theta,5),' \\u03C6 = ',round(phi,5))\n",
    "    if( EV > EV_old ):\n",
    "        terminate = True\n",
    "    else:\n",
    "        if( EV < Ground_State[0] ):\n",
    "            Ground_State[0] = EV\n",
    "            Ground_State[1] = theta\n",
    "            Ground_State[2] = phi\n",
    "        theta_old = theta\n",
    "        phi_old = phi\n",
    "        theta,phi = oq.VQE_Gradient_Descent(qc,q,H,oq.Single_Qubit_Ansatz,theta,phi,epsilon,step_size,measure=M_bool)\n",
    "        iters = iters + 1\n",
    "if( (abs( EV - EV_old ) < delta) or (terminate==True) ):\n",
    "    print('\\n_____ Gradient Descent Complete _____\\n')\n",
    "    print('Iterations: ',iters,' EV: ',round(Ground_State[0],5),' \\u03B8 = ',round(Ground_State[1],5),' \\u03C6 = ',round(Ground_State[2],5))"
   ]
  },
  {
   "cell_type": "code",
   "execution_count": 11,
   "id": "18212d64-4daf-4503-8e67-f682f74b86be",
   "metadata": {},
   "outputs": [
    {
     "name": "stdout",
     "output_type": "stream",
     "text": [
      "Iteration:  1  Lowest EV:  -2.493  θ =  3.165  φ =  2.6615\n",
      "Iteration:  5  Lowest EV:  -3.583  θ =  1.8307  φ =  2.2758\n",
      "Iteration:  10  Lowest EV:  -3.7374  θ =  1.8898  φ =  2.543\n",
      "Iteration:  15  Lowest EV:  -3.7666  θ =  1.8214  φ =  2.5703\n",
      "Iteration:  20  Lowest EV:  -3.792  θ =  1.804  φ =  2.5863\n",
      "\n",
      "_____ Nelder-Mead Complete _____\n",
      "\n",
      "Iteration:  24  Lowest EV:  -3.792  θ =  1.804  φ =  2.5863\n"
     ]
    }
   ],
   "source": [
    "H = {'X':3,'Y':-2,'Z':1}\n",
    "EV_type = 'measure'\n",
    "theta = random.random()*m.pi\n",
    "phi = random.random()*2*m.pi\n",
    "delta = 0.001\n",
    "#------------------------------\n",
    "Vertices = []\n",
    "Values = []\n",
    "radius = 0.35\n",
    "R = random.random()*(2*m.pi/3)\n",
    "for rr in np.arange(3):\n",
    "    angle = R+ rr*2*m.pi/3\n",
    "    Vertices.append( [theta+radius*m.cos(angle),phi+radius*m.sin(angle)] )\n",
    "for v in np.arange(len(Vertices)):\n",
    "    Values.append( oq.VQE_EV(Vertices[v],oq.Single_Qubit_Ansatz,H,EV_type) )\n",
    "#------------------------------\n",
    "terminate = False\n",
    "iters = 0\n",
    "terminate_count = 0\n",
    "terminate_limit = 6\n",
    "while( (terminate==False) and (iters < 100) ):\n",
    "    iters = iters + 1\n",
    "    low = oq.Calculate_MinMax( Values,'min' )\n",
    "    oq.Nelder_Mead(H, oq.Single_Qubit_Ansatz, Vertices, Values, EV_type)\n",
    "    new_low = oq.Calculate_MinMax( Values,'min' )\n",
    "    if( abs( new_low[0] - low[0] ) < delta ):\n",
    "        terminate_count = terminate_count + 1\n",
    "    else:\n",
    "        terminate_count = 0\n",
    "    if( terminate_count >= terminate_limit ):\n",
    "        terminate = True\n",
    "        print('\\n_____ Nelder-Mead Complete _____\\n')\n",
    "        print('Iteration: ',iters,' Lowest EV: ',round(low[0],6),' \\u03B8 = ',round(Vertices[low[1]][0],4),' \\u03C6 = ',round(Vertices[low[1]][1],4))\n",
    "    if( ( (iters==1) or (m.ceil(iters/5))==m.floor(iters/5) ) and (terminate==False) ):\n",
    "        print('Iteration: ',iters,' Lowest EV: ',round(low[0],6),' \\u03B8 = ',round(Vertices[low[1]][0],4),' \\u03C6 = ',round(Vertices[low[1]][1],4))"
   ]
  },
  {
   "cell_type": "code",
   "execution_count": 12,
   "id": "b2a2b5bc-762e-4112-ad8a-c945eafeb340",
   "metadata": {
    "tags": []
   },
   "outputs": [
    {
     "name": "stdout",
     "output_type": "stream",
     "text": [
      "Iteration:  1  Lowest EV:  -3.805\n",
      "Iteration:  10  Lowest EV:  -3.805\n",
      "Iteration:  20  Lowest EV:  -4.2274\n",
      "Iteration:  30  Lowest EV:  -4.3928\n",
      "Iteration:  40  Lowest EV:  -4.4122\n",
      "Iteration:  50  Lowest EV:  -4.4162\n",
      "\n",
      "_____ Nelder-Mead Complete _____\n",
      "\n",
      " --------------------- \n",
      " Iteration:  55  Lowest EV:  -4.4162\n"
     ]
    }
   ],
   "source": [
    "H = {'XY':3,'ZZ':-2}\n",
    "EV_type = 'measure'\n",
    "P = []\n",
    "for p in np.arange(4):\n",
    "    P.append( random.random()*m.pi )\n",
    "    P.append( random.random()*2*m.pi )\n",
    "delta = 0.001\n",
    "#------------------------------\n",
    "Vertices = []\n",
    "Values = []\n",
    "for v1 in np.arange(len(P)):\n",
    "    V = []\n",
    "    for v2 in np.arange(len(P)):\n",
    "        R = (0.4+random.random()*0.8)*(-1)**round(random.random())\n",
    "        V.append( P[v2]+R )\n",
    "    Vertices.append( V )\n",
    "    Values.append( oq.VQE_EV(V,oq.Two_Qubit_Ansatz,H,EV_type) )\n",
    "#------------------------------\n",
    "terminate = False\n",
    "iters = 0\n",
    "terminate_count = 0\n",
    "terminate_limit = 10\n",
    "while( (terminate==False) and (iters < 100) ):\n",
    "    iters = iters + 1\n",
    "    low = oq.Calculate_MinMax( Values,'min' )\n",
    "    oq.Nelder_Mead(H, oq.Two_Qubit_Ansatz, Vertices, Values, EV_type)\n",
    "    new_low = oq.Calculate_MinMax( Values,'min' )\n",
    "    if( abs( new_low[0] - low[0] ) < delta ):\n",
    "        terminate_count = terminate_count + 1\n",
    "    else:\n",
    "        terminate_count = 0\n",
    "    if( terminate_count >= terminate_limit ):\n",
    "        terminate = True\n",
    "        print('\\n_____ Nelder-Mead Complete _____\\n')\n",
    "        print(' --------------------- \\n Iteration: ',iters,' Lowest EV: ',round( low[0],6 ))\n",
    "    if( ( (iters==1) or (m.ceil(iters/10))==m.floor(iters/10) ) and (terminate==False) ):\n",
    "        print('Iteration: ',iters,' Lowest EV: ',round( low[0],6 ))"
   ]
  },
  {
   "cell_type": "code",
   "execution_count": null,
   "id": "db025a84-7f2f-47d8-b924-bcb0f0d85282",
   "metadata": {},
   "outputs": [],
   "source": []
  }
 ],
 "metadata": {
  "kernelspec": {
   "display_name": "Python 3 (ipykernel)",
   "language": "python",
   "name": "python3"
  },
  "language_info": {
   "codemirror_mode": {
    "name": "ipython",
    "version": 3
   },
   "file_extension": ".py",
   "mimetype": "text/x-python",
   "name": "python",
   "nbconvert_exporter": "python",
   "pygments_lexer": "ipython3",
   "version": "3.11.5"
  }
 },
 "nbformat": 4,
 "nbformat_minor": 5
}
